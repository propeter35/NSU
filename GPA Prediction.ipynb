{
 "cells": [
  {
   "cell_type": "code",
   "execution_count": 79,
   "id": "0767f740",
   "metadata": {},
   "outputs": [],
   "source": [
    "# Same Code as other files in this cell\n",
    "import pandas as pd\n",
    "import numpy as np\n",
    "import matplotlib.pyplot as plt\n",
    "\n",
    "from sklearn.metrics import mean_squared_error, r2_score, mean_absolute_error\n",
    "\n",
    "from sklearn.preprocessing import StandardScaler\n",
    "from sklearn import metrics\n",
    "from sklearn.model_selection import train_test_split\n",
    "\n",
    "survey_data = pd.read_csv('Updated_ExperimentalDataforRnew(in).csv')\n",
    "survey_data.dropna(inplace = True)\n",
    "survey_data.drop(survey_data.loc[survey_data['ETHNICITY GROUP']=='Unknown'].index, inplace=True)\n",
    "\n",
    "survey_data['MAJOR CODE'] = survey_data['MAJOR CODE'].map({\n",
    "    'BUAD': 0,\n",
    "    'CIS': 1,\n",
    "    'ACCT': 2,\n",
    "    'OTHER': 3\n",
    "})\n",
    "\n",
    "survey_data['GENDER'] = survey_data['GENDER'].map({\n",
    "    'M': 0,\n",
    "    'F': 1\n",
    "})\n",
    "\n",
    "survey_data['ETHNICITY GROUP'] = survey_data['ETHNICITY GROUP'].map({\n",
    "    'White': 0,\n",
    "    'African American': 1,\n",
    "    'Other': 2\n",
    "})\n",
    "\n",
    "survey_data['CLASS GROUP'] = survey_data['CLASS GROUP'].map({\n",
    "    'FRSO': 0,\n",
    "    'JRSR': 1,\n",
    "})\n",
    "\n",
    "survey_data['COVID'] = survey_data['COVID'].map({\n",
    "    'PRECOVID': 0,\n",
    "    'COVID': 1,\n",
    "    'POSTCOVID': 2\n",
    "})\n",
    "\n",
    "X = survey_data[['MAJOR CODE', 'GENDER', 'ETHNICITY GROUP', 'CLASS GROUP', 'COVID']]\n",
    "y = survey_data['NSUGPA']\n",
    "\n",
    "sc = StandardScaler()\n",
    "sc.fit(X)\n",
    "X = sc.transform(X?"
   ]
  },
  {
   "cell_type": "code",
   "execution_count": 71,
   "id": "b0c91f23",
   "metadata": {},
   "outputs": [],
   "source": [
    "# Linear Regression"
   ]
  },
  {
   "cell_type": "code",
   "execution_count": 73,
   "id": "b591b923",
   "metadata": {
    "scrolled": true
   },
   "outputs": [
    {
     "name": "stdout",
     "output_type": "stream",
     "text": [
      "Mean Squared Error (MSE): 1.4651195881623154\n",
      "Mean Absolute Error (MAE): 0.9662729863429829\n",
      "R-squared (R²): 0.10835462048292444\n"
     ]
    }
   ],
   "source": [
    "from sklearn import linear_model\n",
    "X_train, X_test, y_train, y_test = train_test_split(X, y, test_size=0.7)\n",
    "lin = linear_model.LinearRegression()\n",
    "lin.fit(X_train, y_train)\n",
    "lin.predict([[-0.96578659, -1.04855251,  1.91713358, -0.69829725,  0.88034084]])\n",
    "y_pred = lin.predict(X_test)\n",
    "mse = mean_squared_error(y_test, y_pred)\n",
    "mae = mean_absolute_error(y_test, y_pred)\n",
    "r2 = r2_score(y_test, y_pred)\n",
    "print(f'Mean Squared Error (MSE): {mse}')\n",
    "print(f'Mean Absolute Error (MAE): {mae}')\n",
    "print(f'R-squared (R²): {r2}')"
   ]
  },
  {
   "cell_type": "code",
   "execution_count": 36,
   "id": "5306d960",
   "metadata": {},
   "outputs": [],
   "source": [
    "# Decision Tree Regressor"
   ]
  },
  {
   "cell_type": "code",
   "execution_count": 76,
   "id": "f9111931",
   "metadata": {},
   "outputs": [
    {
     "name": "stdout",
     "output_type": "stream",
     "text": [
      "Mean Squared Error (MSE): 1.6558773256822874\n",
      "R-squared (R²): -0.057803613481272276\n"
     ]
    }
   ],
   "source": [
    "from sklearn.tree import DecisionTreeRegressor\n",
    "regressor = DecisionTreeRegressor()\n",
    "X_train, X_test, y_train, y_test = train_test_split(X, y, test_size=0.7)\n",
    "regressor.fit(X_train, y_train)\n",
    "y_pred = regressor.predict(X_test)\n",
    "mse = mean_squared_error(y_test, y_pred)\n",
    "r2 = r2_score(y_test, y_pred)\n",
    "print(f'Mean Squared Error (MSE): {mse}')\n",
    "print(f'R-squared (R²): {r2}')"
   ]
  },
  {
   "cell_type": "code",
   "execution_count": null,
   "id": "aa4c7539",
   "metadata": {},
   "outputs": [],
   "source": [
    "# Random Forest Regressor"
   ]
  },
  {
   "cell_type": "code",
   "execution_count": 78,
   "id": "2207dee9",
   "metadata": {},
   "outputs": [
    {
     "name": "stdout",
     "output_type": "stream",
     "text": [
      "Mean Squared Error (MSE): 1.705533788887466\n",
      "R-squared (R²): -0.09007082316102921\n"
     ]
    }
   ],
   "source": [
    "from sklearn.ensemble import RandomForestRegressor\n",
    "regressor = RandomForestRegressor()\n",
    "X_train, X_test, y_train, y_test = train_test_split(X, y, test_size=0.7)\n",
    "regressor.fit(X_train, y_train)\n",
    "y_pred = regressor.predict(X_test)\n",
    "mse = mean_squared_error(y_test, y_pred)\n",
    "r2 = r2_score(y_test, y_pred)\n",
    "print(f'Mean Squared Error (MSE): {mse}')\n",
    "print(f'R-squared (R²): {r2}')"
   ]
  },
  {
   "cell_type": "code",
   "execution_count": 45,
   "id": "5bc5f539",
   "metadata": {},
   "outputs": [],
   "source": [
    "# K Neighbors"
   ]
  },
  {
   "cell_type": "code",
   "execution_count": 68,
   "id": "53b6f351",
   "metadata": {},
   "outputs": [
    {
     "name": "stdout",
     "output_type": "stream",
     "text": [
      "Mean Squared Error (MSE): 1.5803528263254114\n",
      "R-squared (R²): 0.048035697698048274\n"
     ]
    }
   ],
   "source": [
    "from sklearn.neighbors import KNeighborsRegressor\n",
    "regressor = KNeighborsRegressor(n_neighbors=5)\n",
    "X_train, X_test, y_train, y_test = train_test_split(X, y, test_size=0.7)\n",
    "regressor.fit(X_train, y_train)\n",
    "y_pred = regressor.predict(X_test)\n",
    "mse = mean_squared_error(y_test, y_pred)\n",
    "r2 = r2_score(y_test, y_pred)\n",
    "print(f'Mean Squared Error (MSE): {mse}')\n",
    "print(f'R-squared (R²): {r2}')"
   ]
  },
  {
   "cell_type": "code",
   "execution_count": 53,
   "id": "2ba3d940",
   "metadata": {},
   "outputs": [],
   "source": [
    "# Gradient Boost"
   ]
  },
  {
   "cell_type": "code",
   "execution_count": 69,
   "id": "239fb0f7",
   "metadata": {},
   "outputs": [
    {
     "name": "stdout",
     "output_type": "stream",
     "text": [
      "Mean Squared Error (MSE): 1.3661009731473914\n",
      "R-squared (R²): 0.10361905658374959\n"
     ]
    }
   ],
   "source": [
    "from sklearn.ensemble import GradientBoostingRegressor\n",
    "regressor = GradientBoostingRegressor(n_estimators=100, random_state=42)\n",
    "X_train, X_test, y_train, y_test = train_test_split(X, y, test_size=0.7)\n",
    "regressor.fit(X_train, y_train)\n",
    "y_pred = regressor.predict(X_test)\n",
    "mse = mean_squared_error(y_test, y_pred)\n",
    "r2 = r2_score(y_test, y_pred)\n",
    "print(f'Mean Squared Error (MSE): {mse}')\n",
    "print(f'R-squared (R²): {r2}')"
   ]
  },
  {
   "cell_type": "code",
   "execution_count": 63,
   "id": "052e992a",
   "metadata": {},
   "outputs": [],
   "source": [
    "# Support Vector"
   ]
  },
  {
   "cell_type": "code",
   "execution_count": 80,
   "id": "4428a7f4",
   "metadata": {},
   "outputs": [
    {
     "name": "stdout",
     "output_type": "stream",
     "text": [
      "Mean Squared Error (MSE): 1.5561182929683535\n",
      "R-squared (R²): 0.06217575160996158\n"
     ]
    }
   ],
   "source": [
    "from sklearn.svm import SVR\n",
    "regressor = SVR()\n",
    "X_train, X_test, y_train, y_test = train_test_split(X, y, test_size=0.7)\n",
    "regressor.fit(X_train, y_train)\n",
    "y_pred = regressor.predict(X_test)\n",
    "mse = mean_squared_error(y_test, y_pred)\n",
    "r2 = r2_score(y_test, y_pred)\n",
    "print(f'Mean Squared Error (MSE): {mse}')\n",
    "print(f'R-squared (R²): {r2}')"
   ]
  },
  {
   "cell_type": "code",
   "execution_count": null,
   "id": "41f99a9c",
   "metadata": {},
   "outputs": [],
   "source": []
  }
 ],
 "metadata": {
  "kernelspec": {
   "display_name": "Python 3 (ipykernel)",
   "language": "python",
   "name": "python3"
  },
  "language_info": {
   "codemirror_mode": {
    "name": "ipython",
    "version": 3
   },
   "file_extension": ".py",
   "mimetype": "text/x-python",
   "name": "python",
   "nbconvert_exporter": "python",
   "pygments_lexer": "ipython3",
   "version": "3.11.5"
  }
 },
 "nbformat": 4,
 "nbformat_minor": 5
}
