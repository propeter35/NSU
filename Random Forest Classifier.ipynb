{
 "cells": [
  {
   "cell_type": "code",
   "execution_count": 1,
   "id": "2c44e7b6",
   "metadata": {},
   "outputs": [],
   "source": [
    "import pandas as pd\n",
    "import numpy as np\n",
    "import matplotlib.pyplot as plt\n",
    "from sklearn import tree\n",
    "\n",
    "from sklearn.preprocessing import StandardScaler\n",
    "from sklearn import metrics\n",
    "\n",
    "survey_data = pd.read_csv('Updated_ExperimentalDataforRnew(in).csv')\n",
    "survey_data.dropna(inplace = True)\n",
    "survey_data.drop(survey_data.loc[survey_data['ETHNICITY GROUP']=='Unknown'].index, inplace=True)\n",
    "\n",
    "survey_data['MAJOR CODE'] = survey_data['MAJOR CODE'].map({\n",
    "    'BUAD': 0,\n",
    "    'CIS': 1,\n",
    "    'ACCT': 2,\n",
    "    'OTHER': 3\n",
    "})\n",
    "\n",
    "survey_data['GENDER'] = survey_data['GENDER'].map({\n",
    "    'M': 0,\n",
    "    'F': 1\n",
    "})\n",
    "\n",
    "survey_data['ETHNICITY GROUP'] = survey_data['ETHNICITY GROUP'].map({\n",
    "    'White': 0,\n",
    "    'African American': 1,\n",
    "    'Other': 2\n",
    "})\n",
    "\n",
    "survey_data['CLASS GROUP'] = survey_data['CLASS GROUP'].map({\n",
    "    'FRSO': 0,\n",
    "    'JRSR': 1,\n",
    "})\n",
    "\n",
    "survey_data['COVID'] = survey_data['COVID'].map({\n",
    "    'PRECOVID': 0,\n",
    "    'COVID': 1,\n",
    "    'POSTCOVID': 2\n",
    "})\n",
    "X = survey_data[['MAJOR CODE', 'GENDER', 'ETHNICITY GROUP', 'CLASS GROUP', 'COVID']]\n",
    "y = survey_data['NSUGPA'].apply(lambda x: 'PASS' if x >= 2 else 'NOT PASS')\n",
    "\n",
    "sc = StandardScaler()\n",
    "sc.fit(X)\n",
    "X = sc.transform(X)\n",
    "y = y.to_numpy()\n",
    "\n",
    "from sklearn.model_selection import train_test_split\n",
    "X_train, X_test, y_train, y_test = train_test_split(X, y, test_size=0.3, random_state=0)"
   ]
  },
  {
   "cell_type": "code",
   "execution_count": null,
   "id": "05df5b63",
   "metadata": {},
   "outputs": [],
   "source": [
    "from sklearn.ensemble import RandomForestClassifier"
   ]
  }
 ],
 "metadata": {
  "kernelspec": {
   "display_name": "Python 3 (ipykernel)",
   "language": "python",
   "name": "python3"
  },
  "language_info": {
   "codemirror_mode": {
    "name": "ipython",
    "version": 3
   },
   "file_extension": ".py",
   "mimetype": "text/x-python",
   "name": "python",
   "nbconvert_exporter": "python",
   "pygments_lexer": "ipython3",
   "version": "3.11.5"
  }
 },
 "nbformat": 4,
 "nbformat_minor": 5
}
