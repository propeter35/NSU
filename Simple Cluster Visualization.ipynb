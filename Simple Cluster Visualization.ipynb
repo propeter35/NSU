{
 "cells": [
  {
   "cell_type": "code",
   "execution_count": 199,
   "id": "a5ebdaf0",
   "metadata": {},
   "outputs": [],
   "source": [
    "import pandas as pd\n",
    "import numpy as np\n",
    "import matplotlib.pyplot as plt\n",
    "\n",
    "from sklearn.cluster import KMeans\n",
    "from sklearn.preprocessing import StandardScaler\n",
    "from sklearn.decomposition import PCA #Principal Component Analysis\n",
    "from sklearn.manifold import TSNE #T-Distributed Stochastic Neighbor Embedding\n",
    "from sklearn.cluster import KMeans #K-Means Clustering\n",
    "\n",
    "#plotly imports\n",
    "import plotly as py\n",
    "import plotly.graph_objs as go\n",
    "from plotly.offline import download_plotlyjs, init_notebook_mode, plot, iplot"
   ]
  },
  {
   "cell_type": "code",
   "execution_count": 200,
   "id": "de820929",
   "metadata": {},
   "outputs": [],
   "source": [
    "survey_data = pd.read_csv('AllStudyData.csv')\n",
    "survey_data.dropna(inplace = True)"
   ]
  },
  {
   "cell_type": "code",
   "execution_count": 201,
   "id": "eb182117",
   "metadata": {
    "scrolled": false
   },
   "outputs": [
    {
     "data": {
      "text/html": [
       "<div>\n",
       "<style scoped>\n",
       "    .dataframe tbody tr th:only-of-type {\n",
       "        vertical-align: middle;\n",
       "    }\n",
       "\n",
       "    .dataframe tbody tr th {\n",
       "        vertical-align: top;\n",
       "    }\n",
       "\n",
       "    .dataframe thead th {\n",
       "        text-align: right;\n",
       "    }\n",
       "</style>\n",
       "<table border=\"1\" class=\"dataframe\">\n",
       "  <thead>\n",
       "    <tr style=\"text-align: right;\">\n",
       "      <th></th>\n",
       "      <th>Q01 List Maker</th>\n",
       "      <th>Q02 Initial Day Planner</th>\n",
       "      <th>Q03 Scheduler</th>\n",
       "      <th>Q04 Daily Goal Setter</th>\n",
       "      <th>Q05 Daily Planner</th>\n",
       "      <th>Q06 Next Week Accomplishments</th>\n",
       "      <th>Q07 Priority Setting Honoring</th>\n",
       "      <th>Q08 Unable to No</th>\n",
       "      <th>Q09 Own Time</th>\n",
       "      <th>Q10 Over Groomer</th>\n",
       "      <th>...</th>\n",
       "      <th>MAJOR</th>\n",
       "      <th>AGE</th>\n",
       "      <th>NSUGPA</th>\n",
       "      <th>HSGPA</th>\n",
       "      <th>ACT MATH</th>\n",
       "      <th>ACT ENG</th>\n",
       "      <th>ACT SCI</th>\n",
       "      <th>ACT READ</th>\n",
       "      <th>ACT COMPOSITE</th>\n",
       "      <th>ROWID</th>\n",
       "    </tr>\n",
       "  </thead>\n",
       "  <tbody>\n",
       "    <tr>\n",
       "      <th>count</th>\n",
       "      <td>767.00</td>\n",
       "      <td>767.00</td>\n",
       "      <td>767.00</td>\n",
       "      <td>767.00</td>\n",
       "      <td>767.00</td>\n",
       "      <td>767.00</td>\n",
       "      <td>767.00</td>\n",
       "      <td>767.00</td>\n",
       "      <td>767.00</td>\n",
       "      <td>767.00</td>\n",
       "      <td>...</td>\n",
       "      <td>767.00</td>\n",
       "      <td>767.00</td>\n",
       "      <td>767.00</td>\n",
       "      <td>767.00</td>\n",
       "      <td>767.00</td>\n",
       "      <td>767.00</td>\n",
       "      <td>767.00</td>\n",
       "      <td>767.00</td>\n",
       "      <td>767.00</td>\n",
       "      <td>767.00</td>\n",
       "    </tr>\n",
       "    <tr>\n",
       "      <th>mean</th>\n",
       "      <td>3.13</td>\n",
       "      <td>3.60</td>\n",
       "      <td>3.60</td>\n",
       "      <td>2.51</td>\n",
       "      <td>3.16</td>\n",
       "      <td>3.65</td>\n",
       "      <td>3.88</td>\n",
       "      <td>3.29</td>\n",
       "      <td>3.69</td>\n",
       "      <td>3.91</td>\n",
       "      <td>...</td>\n",
       "      <td>192.80</td>\n",
       "      <td>20.58</td>\n",
       "      <td>2.66</td>\n",
       "      <td>3.40</td>\n",
       "      <td>20.80</td>\n",
       "      <td>22.25</td>\n",
       "      <td>22.12</td>\n",
       "      <td>23.03</td>\n",
       "      <td>21.76</td>\n",
       "      <td>647.86</td>\n",
       "    </tr>\n",
       "    <tr>\n",
       "      <th>std</th>\n",
       "      <td>1.22</td>\n",
       "      <td>1.04</td>\n",
       "      <td>1.14</td>\n",
       "      <td>1.19</td>\n",
       "      <td>1.15</td>\n",
       "      <td>1.05</td>\n",
       "      <td>0.94</td>\n",
       "      <td>1.07</td>\n",
       "      <td>0.99</td>\n",
       "      <td>0.96</td>\n",
       "      <td>...</td>\n",
       "      <td>180.62</td>\n",
       "      <td>4.11</td>\n",
       "      <td>1.26</td>\n",
       "      <td>0.48</td>\n",
       "      <td>3.89</td>\n",
       "      <td>4.89</td>\n",
       "      <td>3.84</td>\n",
       "      <td>5.30</td>\n",
       "      <td>3.89</td>\n",
       "      <td>377.59</td>\n",
       "    </tr>\n",
       "    <tr>\n",
       "      <th>min</th>\n",
       "      <td>1.00</td>\n",
       "      <td>1.00</td>\n",
       "      <td>1.00</td>\n",
       "      <td>1.00</td>\n",
       "      <td>1.00</td>\n",
       "      <td>1.00</td>\n",
       "      <td>1.00</td>\n",
       "      <td>1.00</td>\n",
       "      <td>1.00</td>\n",
       "      <td>1.00</td>\n",
       "      <td>...</td>\n",
       "      <td>101.00</td>\n",
       "      <td>18.00</td>\n",
       "      <td>0.00</td>\n",
       "      <td>1.64</td>\n",
       "      <td>11.00</td>\n",
       "      <td>9.00</td>\n",
       "      <td>9.00</td>\n",
       "      <td>10.00</td>\n",
       "      <td>12.00</td>\n",
       "      <td>1.00</td>\n",
       "    </tr>\n",
       "    <tr>\n",
       "      <th>25%</th>\n",
       "      <td>2.00</td>\n",
       "      <td>3.00</td>\n",
       "      <td>3.00</td>\n",
       "      <td>2.00</td>\n",
       "      <td>2.00</td>\n",
       "      <td>3.00</td>\n",
       "      <td>3.00</td>\n",
       "      <td>3.00</td>\n",
       "      <td>3.00</td>\n",
       "      <td>3.00</td>\n",
       "      <td>...</td>\n",
       "      <td>102.00</td>\n",
       "      <td>18.00</td>\n",
       "      <td>2.07</td>\n",
       "      <td>3.10</td>\n",
       "      <td>17.00</td>\n",
       "      <td>19.00</td>\n",
       "      <td>20.00</td>\n",
       "      <td>19.00</td>\n",
       "      <td>19.00</td>\n",
       "      <td>306.00</td>\n",
       "    </tr>\n",
       "    <tr>\n",
       "      <th>50%</th>\n",
       "      <td>3.00</td>\n",
       "      <td>4.00</td>\n",
       "      <td>4.00</td>\n",
       "      <td>2.00</td>\n",
       "      <td>3.00</td>\n",
       "      <td>4.00</td>\n",
       "      <td>4.00</td>\n",
       "      <td>3.00</td>\n",
       "      <td>4.00</td>\n",
       "      <td>4.00</td>\n",
       "      <td>...</td>\n",
       "      <td>110.00</td>\n",
       "      <td>19.00</td>\n",
       "      <td>3.01</td>\n",
       "      <td>3.48</td>\n",
       "      <td>20.00</td>\n",
       "      <td>22.00</td>\n",
       "      <td>22.00</td>\n",
       "      <td>23.00</td>\n",
       "      <td>22.00</td>\n",
       "      <td>630.00</td>\n",
       "    </tr>\n",
       "    <tr>\n",
       "      <th>75%</th>\n",
       "      <td>4.00</td>\n",
       "      <td>4.00</td>\n",
       "      <td>4.00</td>\n",
       "      <td>3.00</td>\n",
       "      <td>4.00</td>\n",
       "      <td>4.00</td>\n",
       "      <td>5.00</td>\n",
       "      <td>4.00</td>\n",
       "      <td>4.00</td>\n",
       "      <td>5.00</td>\n",
       "      <td>...</td>\n",
       "      <td>110.00</td>\n",
       "      <td>21.00</td>\n",
       "      <td>3.60</td>\n",
       "      <td>3.81</td>\n",
       "      <td>24.00</td>\n",
       "      <td>25.00</td>\n",
       "      <td>24.00</td>\n",
       "      <td>27.00</td>\n",
       "      <td>24.00</td>\n",
       "      <td>999.50</td>\n",
       "    </tr>\n",
       "    <tr>\n",
       "      <th>max</th>\n",
       "      <td>5.00</td>\n",
       "      <td>5.00</td>\n",
       "      <td>5.00</td>\n",
       "      <td>5.00</td>\n",
       "      <td>5.00</td>\n",
       "      <td>5.00</td>\n",
       "      <td>5.00</td>\n",
       "      <td>5.00</td>\n",
       "      <td>5.00</td>\n",
       "      <td>5.00</td>\n",
       "      <td>...</td>\n",
       "      <td>820.00</td>\n",
       "      <td>46.00</td>\n",
       "      <td>4.00</td>\n",
       "      <td>4.00</td>\n",
       "      <td>33.00</td>\n",
       "      <td>36.00</td>\n",
       "      <td>36.00</td>\n",
       "      <td>36.00</td>\n",
       "      <td>34.00</td>\n",
       "      <td>1275.00</td>\n",
       "    </tr>\n",
       "  </tbody>\n",
       "</table>\n",
       "<p>8 rows × 35 columns</p>\n",
       "</div>"
      ],
      "text/plain": [
       "       Q01 List Maker  Q02 Initial Day Planner  Q03 Scheduler  \\\n",
       "count          767.00                   767.00         767.00   \n",
       "mean             3.13                     3.60           3.60   \n",
       "std              1.22                     1.04           1.14   \n",
       "min              1.00                     1.00           1.00   \n",
       "25%              2.00                     3.00           3.00   \n",
       "50%              3.00                     4.00           4.00   \n",
       "75%              4.00                     4.00           4.00   \n",
       "max              5.00                     5.00           5.00   \n",
       "\n",
       "       Q04 Daily Goal Setter  Q05 Daily Planner  \\\n",
       "count                 767.00             767.00   \n",
       "mean                    2.51               3.16   \n",
       "std                     1.19               1.15   \n",
       "min                     1.00               1.00   \n",
       "25%                     2.00               2.00   \n",
       "50%                     2.00               3.00   \n",
       "75%                     3.00               4.00   \n",
       "max                     5.00               5.00   \n",
       "\n",
       "       Q06 Next Week Accomplishments  Q07 Priority Setting Honoring  \\\n",
       "count                         767.00                         767.00   \n",
       "mean                            3.65                           3.88   \n",
       "std                             1.05                           0.94   \n",
       "min                             1.00                           1.00   \n",
       "25%                             3.00                           3.00   \n",
       "50%                             4.00                           4.00   \n",
       "75%                             4.00                           5.00   \n",
       "max                             5.00                           5.00   \n",
       "\n",
       "       Q08 Unable to No  Q09 Own Time  Q10 Over Groomer  ...   MAJOR     AGE  \\\n",
       "count            767.00        767.00            767.00  ...  767.00  767.00   \n",
       "mean               3.29          3.69              3.91  ...  192.80   20.58   \n",
       "std                1.07          0.99              0.96  ...  180.62    4.11   \n",
       "min                1.00          1.00              1.00  ...  101.00   18.00   \n",
       "25%                3.00          3.00              3.00  ...  102.00   18.00   \n",
       "50%                3.00          4.00              4.00  ...  110.00   19.00   \n",
       "75%                4.00          4.00              5.00  ...  110.00   21.00   \n",
       "max                5.00          5.00              5.00  ...  820.00   46.00   \n",
       "\n",
       "       NSUGPA   HSGPA  ACT MATH  ACT ENG  ACT SCI  ACT READ  ACT COMPOSITE  \\\n",
       "count  767.00  767.00    767.00   767.00   767.00    767.00         767.00   \n",
       "mean     2.66    3.40     20.80    22.25    22.12     23.03          21.76   \n",
       "std      1.26    0.48      3.89     4.89     3.84      5.30           3.89   \n",
       "min      0.00    1.64     11.00     9.00     9.00     10.00          12.00   \n",
       "25%      2.07    3.10     17.00    19.00    20.00     19.00          19.00   \n",
       "50%      3.01    3.48     20.00    22.00    22.00     23.00          22.00   \n",
       "75%      3.60    3.81     24.00    25.00    24.00     27.00          24.00   \n",
       "max      4.00    4.00     33.00    36.00    36.00     36.00          34.00   \n",
       "\n",
       "         ROWID  \n",
       "count   767.00  \n",
       "mean    647.86  \n",
       "std     377.59  \n",
       "min       1.00  \n",
       "25%     306.00  \n",
       "50%     630.00  \n",
       "75%     999.50  \n",
       "max    1275.00  \n",
       "\n",
       "[8 rows x 35 columns]"
      ]
     },
     "execution_count": 201,
     "metadata": {},
     "output_type": "execute_result"
    }
   ],
   "source": [
    "survey_data.describe().round(2)"
   ]
  },
  {
   "cell_type": "code",
   "execution_count": 202,
   "id": "aa4c9696",
   "metadata": {},
   "outputs": [
    {
     "data": {
      "text/plain": [
       "COVID\n",
       "PRECOVID     341\n",
       "COVID        308\n",
       "POSTCOVID    118\n",
       "Name: count, dtype: int64"
      ]
     },
     "execution_count": 202,
     "metadata": {},
     "output_type": "execute_result"
    }
   ],
   "source": [
    "survey_data['COVID'].value_counts()"
   ]
  },
  {
   "cell_type": "code",
   "execution_count": 203,
   "id": "409cde90",
   "metadata": {},
   "outputs": [],
   "source": [
    "survey_data['MAJOR CODE'] = survey_data['MAJOR CODE'].map({\n",
    "    'BUAD': 0,\n",
    "    'CIS': 1,\n",
    "    'ACCT': 2,\n",
    "    'OTHER': 3\n",
    "})\n",
    "\n",
    "survey_data['GENDER'] = survey_data['GENDER'].map({'M': 0,\n",
    "                                                   'F': 1})\n",
    "\n",
    "survey_data['ETHNICITY GROUP'] = survey_data['ETHNICITY GROUP'].map({\n",
    "    'White': 0,\n",
    "    'African American': 1,\n",
    "    'Other': 2\n",
    "})\n",
    "\n",
    "survey_data['CLASS GROUP'] = survey_data['CLASS GROUP'].map({\n",
    "    'FRSO': 0,\n",
    "    'JRSR': 1,\n",
    "})\n",
    "\n",
    "survey_data['COVID'] = survey_data['COVID'].map({\n",
    "    'PRECOVID': 0,\n",
    "    'COVID': 1,\n",
    "    'POSTCOVID': 2\n",
    "})"
   ]
  },
  {
   "cell_type": "code",
   "execution_count": 204,
   "id": "9bc3fa0a",
   "metadata": {},
   "outputs": [],
   "source": [
    "x = survey_data[['MAJOR CODE', 'GENDER', 'ETHNICITY GROUP', 'CLASS GROUP', 'COVID']]\n",
    "r = survey_data[['SRP', 'TA', 'LRP']]"
   ]
  },
  {
   "cell_type": "code",
   "execution_count": 205,
   "id": "529b0ed6",
   "metadata": {},
   "outputs": [],
   "source": [
    "scaler = StandardScaler()\n",
    "x = pd.DataFrame(scaler.fit_transform(x))\n",
    "x.rename(columns={0: 'MAJOR CODE', 1: 'GENDER', 2: 'ETHNICITY GROUP', 3: 'CLASS GROUP', 4: 'COVID'}, inplace = True)"
   ]
  },
  {
   "cell_type": "code",
   "execution_count": 206,
   "id": "2036c307",
   "metadata": {},
   "outputs": [],
   "source": [
    "X = pd.concat([x, r], axis=1, join='inner')"
   ]
  },
  {
   "cell_type": "code",
   "execution_count": 207,
   "id": "5c188f6a",
   "metadata": {},
   "outputs": [
    {
     "name": "stderr",
     "output_type": "stream",
     "text": [
      "/Users/peteryu/anaconda3/lib/python3.11/site-packages/sklearn/cluster/_kmeans.py:1412: FutureWarning:\n",
      "\n",
      "The default value of `n_init` will change from 10 to 'auto' in 1.4. Set the value of `n_init` explicitly to suppress the warning\n",
      "\n"
     ]
    }
   ],
   "source": [
    "kmeans = KMeans(n_clusters=3)\n",
    "kmeans.fit(X)\n",
    "clusters = kmeans.predict(X)\n",
    "X[\"Cluster\"] = clusters"
   ]
  },
  {
   "cell_type": "code",
   "execution_count": 208,
   "id": "aab51e62",
   "metadata": {},
   "outputs": [
    {
     "data": {
      "text/html": [
       "<div>\n",
       "<style scoped>\n",
       "    .dataframe tbody tr th:only-of-type {\n",
       "        vertical-align: middle;\n",
       "    }\n",
       "\n",
       "    .dataframe tbody tr th {\n",
       "        vertical-align: top;\n",
       "    }\n",
       "\n",
       "    .dataframe thead th {\n",
       "        text-align: right;\n",
       "    }\n",
       "</style>\n",
       "<table border=\"1\" class=\"dataframe\">\n",
       "  <thead>\n",
       "    <tr style=\"text-align: right;\">\n",
       "      <th></th>\n",
       "      <th>MAJOR CODE</th>\n",
       "      <th>GENDER</th>\n",
       "      <th>ETHNICITY GROUP</th>\n",
       "      <th>CLASS GROUP</th>\n",
       "      <th>COVID</th>\n",
       "      <th>SRP</th>\n",
       "      <th>TA</th>\n",
       "      <th>LRP</th>\n",
       "      <th>Cluster</th>\n",
       "    </tr>\n",
       "  </thead>\n",
       "  <tbody>\n",
       "    <tr>\n",
       "      <th>0</th>\n",
       "      <td>0.672836</td>\n",
       "      <td>0.950382</td>\n",
       "      <td>0.572522</td>\n",
       "      <td>1.416984</td>\n",
       "      <td>-0.989379</td>\n",
       "      <td>30</td>\n",
       "      <td>22</td>\n",
       "      <td>17</td>\n",
       "      <td>2</td>\n",
       "    </tr>\n",
       "    <tr>\n",
       "      <th>3</th>\n",
       "      <td>-0.970684</td>\n",
       "      <td>-1.052209</td>\n",
       "      <td>1.932041</td>\n",
       "      <td>1.416984</td>\n",
       "      <td>-0.989379</td>\n",
       "      <td>17</td>\n",
       "      <td>18</td>\n",
       "      <td>13</td>\n",
       "      <td>1</td>\n",
       "    </tr>\n",
       "    <tr>\n",
       "      <th>5</th>\n",
       "      <td>-0.970684</td>\n",
       "      <td>0.950382</td>\n",
       "      <td>-0.786997</td>\n",
       "      <td>1.416984</td>\n",
       "      <td>-0.989379</td>\n",
       "      <td>30</td>\n",
       "      <td>27</td>\n",
       "      <td>23</td>\n",
       "      <td>2</td>\n",
       "    </tr>\n",
       "    <tr>\n",
       "      <th>7</th>\n",
       "      <td>-0.970684</td>\n",
       "      <td>0.950382</td>\n",
       "      <td>-0.786997</td>\n",
       "      <td>1.416984</td>\n",
       "      <td>-0.989379</td>\n",
       "      <td>27</td>\n",
       "      <td>27</td>\n",
       "      <td>17</td>\n",
       "      <td>2</td>\n",
       "    </tr>\n",
       "    <tr>\n",
       "      <th>9</th>\n",
       "      <td>1.494596</td>\n",
       "      <td>0.950382</td>\n",
       "      <td>-0.786997</td>\n",
       "      <td>-0.705724</td>\n",
       "      <td>0.405573</td>\n",
       "      <td>31</td>\n",
       "      <td>23</td>\n",
       "      <td>16</td>\n",
       "      <td>2</td>\n",
       "    </tr>\n",
       "    <tr>\n",
       "      <th>...</th>\n",
       "      <td>...</td>\n",
       "      <td>...</td>\n",
       "      <td>...</td>\n",
       "      <td>...</td>\n",
       "      <td>...</td>\n",
       "      <td>...</td>\n",
       "      <td>...</td>\n",
       "      <td>...</td>\n",
       "      <td>...</td>\n",
       "    </tr>\n",
       "    <tr>\n",
       "      <th>759</th>\n",
       "      <td>-0.970684</td>\n",
       "      <td>-1.052209</td>\n",
       "      <td>-0.786997</td>\n",
       "      <td>-0.705724</td>\n",
       "      <td>1.800524</td>\n",
       "      <td>22</td>\n",
       "      <td>22</td>\n",
       "      <td>16</td>\n",
       "      <td>0</td>\n",
       "    </tr>\n",
       "    <tr>\n",
       "      <th>760</th>\n",
       "      <td>-0.970684</td>\n",
       "      <td>-1.052209</td>\n",
       "      <td>0.572522</td>\n",
       "      <td>-0.705724</td>\n",
       "      <td>1.800524</td>\n",
       "      <td>25</td>\n",
       "      <td>24</td>\n",
       "      <td>16</td>\n",
       "      <td>0</td>\n",
       "    </tr>\n",
       "    <tr>\n",
       "      <th>761</th>\n",
       "      <td>-0.970684</td>\n",
       "      <td>-1.052209</td>\n",
       "      <td>1.932041</td>\n",
       "      <td>-0.705724</td>\n",
       "      <td>1.800524</td>\n",
       "      <td>14</td>\n",
       "      <td>23</td>\n",
       "      <td>17</td>\n",
       "      <td>1</td>\n",
       "    </tr>\n",
       "    <tr>\n",
       "      <th>762</th>\n",
       "      <td>-0.148924</td>\n",
       "      <td>-1.052209</td>\n",
       "      <td>0.572522</td>\n",
       "      <td>-0.705724</td>\n",
       "      <td>1.800524</td>\n",
       "      <td>22</td>\n",
       "      <td>20</td>\n",
       "      <td>13</td>\n",
       "      <td>0</td>\n",
       "    </tr>\n",
       "    <tr>\n",
       "      <th>764</th>\n",
       "      <td>-0.970684</td>\n",
       "      <td>-1.052209</td>\n",
       "      <td>-0.786997</td>\n",
       "      <td>-0.705724</td>\n",
       "      <td>1.800524</td>\n",
       "      <td>22</td>\n",
       "      <td>18</td>\n",
       "      <td>13</td>\n",
       "      <td>0</td>\n",
       "    </tr>\n",
       "  </tbody>\n",
       "</table>\n",
       "<p>451 rows × 9 columns</p>\n",
       "</div>"
      ],
      "text/plain": [
       "     MAJOR CODE    GENDER  ETHNICITY GROUP  CLASS GROUP     COVID  SRP  TA  \\\n",
       "0      0.672836  0.950382         0.572522     1.416984 -0.989379   30  22   \n",
       "3     -0.970684 -1.052209         1.932041     1.416984 -0.989379   17  18   \n",
       "5     -0.970684  0.950382        -0.786997     1.416984 -0.989379   30  27   \n",
       "7     -0.970684  0.950382        -0.786997     1.416984 -0.989379   27  27   \n",
       "9      1.494596  0.950382        -0.786997    -0.705724  0.405573   31  23   \n",
       "..          ...       ...              ...          ...       ...  ...  ..   \n",
       "759   -0.970684 -1.052209        -0.786997    -0.705724  1.800524   22  22   \n",
       "760   -0.970684 -1.052209         0.572522    -0.705724  1.800524   25  24   \n",
       "761   -0.970684 -1.052209         1.932041    -0.705724  1.800524   14  23   \n",
       "762   -0.148924 -1.052209         0.572522    -0.705724  1.800524   22  20   \n",
       "764   -0.970684 -1.052209        -0.786997    -0.705724  1.800524   22  18   \n",
       "\n",
       "     LRP  Cluster  \n",
       "0     17        2  \n",
       "3     13        1  \n",
       "5     23        2  \n",
       "7     17        2  \n",
       "9     16        2  \n",
       "..   ...      ...  \n",
       "759   16        0  \n",
       "760   16        0  \n",
       "761   17        1  \n",
       "762   13        0  \n",
       "764   13        0  \n",
       "\n",
       "[451 rows x 9 columns]"
      ]
     },
     "execution_count": 208,
     "metadata": {},
     "output_type": "execute_result"
    }
   ],
   "source": [
    "X"
   ]
  },
  {
   "cell_type": "code",
   "execution_count": 209,
   "id": "a8ec09fd",
   "metadata": {},
   "outputs": [],
   "source": [
    "plotX = pd.DataFrame(np.array(X.sample(451)))\n",
    "plotX.columns = X.columns"
   ]
  },
  {
   "cell_type": "code",
   "execution_count": 210,
   "id": "00691730",
   "metadata": {},
   "outputs": [
    {
     "data": {
      "text/html": [
       "        <script type=\"text/javascript\">\n",
       "        window.PlotlyConfig = {MathJaxConfig: 'local'};\n",
       "        if (window.MathJax && window.MathJax.Hub && window.MathJax.Hub.Config) {window.MathJax.Hub.Config({SVG: {font: \"STIX-Web\"}});}\n",
       "        if (typeof require !== 'undefined') {\n",
       "        require.undef(\"plotly\");\n",
       "        requirejs.config({\n",
       "            paths: {\n",
       "                'plotly': ['https://cdn.plot.ly/plotly-2.12.1.min']\n",
       "            }\n",
       "        });\n",
       "        require(['plotly'], function(Plotly) {\n",
       "            window._Plotly = Plotly;\n",
       "        });\n",
       "        }\n",
       "        </script>\n",
       "        "
      ]
     },
     "metadata": {},
     "output_type": "display_data"
    }
   ],
   "source": [
    "#PCA with one principal component\n",
    "pca_1d = PCA(n_components=1)\n",
    "\n",
    "#PCA with two principal components\n",
    "pca_2d = PCA(n_components=2)\n",
    "\n",
    "#PCA with three principal components\n",
    "pca_3d = PCA(n_components=3)\n",
    "#This DataFrame holds that single principal component mentioned above\n",
    "PCs_1d = pd.DataFrame(pca_1d.fit_transform(plotX.drop([\"Cluster\"], axis=1)))\n",
    "\n",
    "#This DataFrame contains the two principal components that will be used\n",
    "#for the 2-D visualization mentioned above\n",
    "PCs_2d = pd.DataFrame(pca_2d.fit_transform(plotX.drop([\"Cluster\"], axis=1)))\n",
    "\n",
    "#And this DataFrame contains three principal components that will aid us\n",
    "#in visualizing our clusters in 3-D\n",
    "PCs_3d = pd.DataFrame(pca_3d.fit_transform(plotX.drop([\"Cluster\"], axis=1)))\n",
    "PCs_1d.columns = [\"PC1_1d\"]\n",
    "\n",
    "#\"PC1_2d\" means: 'The first principal component of the components created for 2-D visualization, by PCA.'\n",
    "#And \"PC2_2d\" means: 'The second principal component of the components created for 2-D visualization, by PCA.'\n",
    "PCs_2d.columns = [\"PC1_2d\", \"PC2_2d\"]\n",
    "\n",
    "PCs_3d.columns = [\"PC1_3d\", \"PC2_3d\", \"PC3_3d\"]\n",
    "plotX = pd.concat([plotX,PCs_1d,PCs_2d,PCs_3d], axis=1, join='inner')\n",
    "plotX[\"dummy\"] = 0\n",
    "cluster0 = plotX[plotX[\"Cluster\"] == 0]\n",
    "cluster1 = plotX[plotX[\"Cluster\"] == 1]\n",
    "cluster2 = plotX[plotX[\"Cluster\"] == 2]\n",
    "init_notebook_mode(connected=True)"
   ]
  },
  {
   "cell_type": "code",
   "execution_count": 211,
   "id": "14460720",
   "metadata": {},
   "outputs": [
    {
     "data": {
      "application/vnd.plotly.v1+json": {
       "config": {
        "linkText": "Export to plot.ly",
        "plotlyServerURL": "https://plot.ly",
        "showLink": false
       },
       "data": [
        {
         "marker": {
          "color": "rgba(255, 128, 255, 0.8)"
         },
         "mode": "markers",
         "name": "Cluster 0",
         "type": "scatter",
         "x": [
          -1.88309455249382,
          3.7259840516666243,
          3.2892906231831005,
          2.9814195173831264,
          4.946979624481865,
          -1.0390484283980383,
          0.3306750402737237,
          3.65099185087396,
          -2.2548592521008923,
          -1.5950191582177893,
          0.4881440897249781,
          1.6299621334102743,
          1.243801898985797,
          2.9254451087571876,
          3.266380901670053,
          3.566205006705802,
          1.486550023422515,
          3.492586826111509,
          1.9264572160044904,
          -1.8517203631047698,
          3.617669405936441,
          -2.062760123289113,
          -2.1812334186860767,
          4.35564835067722,
          -0.602099633786696,
          -1.9021747484283211,
          1.3973516369901062,
          -1.9646401905889914,
          0.6710258761894423,
          0.07870957888152394,
          1.9150023264326999,
          4.185446537774587,
          4.532942872195828,
          1.187661839215876,
          -1.0783097216125712,
          1.1100441884384848,
          2.4236340309186697,
          0.7741048947870164,
          1.9604381624024938,
          1.4099360292502594,
          3.004462795430458,
          4.392473726022564,
          -1.2639241741915728,
          -0.6180919117059646,
          0.9983648844922757,
          2.90037909493406,
          0.16540732286472776,
          3.527692000820141,
          1.4865250330187005,
          3.0781487118007744,
          4.322872829873708,
          -0.8131767497044503,
          3.7943771982602845,
          1.8045184035636435,
          -0.6693602797500066,
          -1.6517441749848565,
          3.612760300846618,
          2.0887612743191406,
          -2.248855679243859,
          0.8417248345325424,
          1.1139462199326724,
          -0.6747106831548197,
          -2.300320078474501,
          0.9322645270544337,
          2.3047029777568913,
          -2.317525437957233,
          1.0915536620102122,
          2.039045131807125,
          3.1517134369664035,
          1.1761148429634403,
          0.0886958900035591,
          1.880370656761377,
          -2.1740705825972633,
          3.964573679154652,
          0.38683243762693414,
          0.4896386816288473,
          -0.5384351233334876,
          -0.1198532722489163,
          4.003902088646016,
          2.1255622787598667,
          -0.2672197153507511,
          -0.3976691580303217,
          1.760154436654058,
          0.6718726306493612,
          -1.0105952834895866,
          -0.6652729387162872,
          3.486803655345696,
          3.137401679989732,
          -0.0797054903982633,
          -2.2632986719425587,
          -0.8917069757000184,
          0.312066999375884,
          0.6404581474588216,
          -0.48121787574911584,
          1.2277668756943187,
          0.8340186906405525,
          0.43313700726445215,
          3.368827922774303,
          2.710310354718599,
          -0.08889312983269243,
          1.3591848824273367,
          -2.402113930126534,
          2.9582206295606985,
          -0.26677370452668936,
          3.5385024699384795,
          2.0406745757638496,
          3.2129758997114806,
          -2.877970113808992,
          2.9567223481980567,
          -2.7937729391470523,
          4.1124400767788725,
          -0.18640605544330674,
          3.6813402736916037,
          2.3787979666029644,
          -1.3127793648425368,
          0.5101697010446974,
          -1.4699289255723322,
          4.300515364502934,
          1.4592311513420286,
          3.3737870086717576,
          1.0740341489627343,
          1.3463363142616223,
          4.398477298879596,
          1.8976384200118677,
          -0.07129106096041368,
          1.8525321717629581,
          2.436213091170555,
          0.5859351086854975,
          -1.4472823515227125,
          3.6005725581020958,
          2.340132353696052,
          1.6071248601823227,
          1.5340162479886261,
          0.1206002854425335,
          -1.3004480178979425,
          1.8252156204947305,
          -0.02532311775694267,
          2.578021222621042,
          2.2714429365871323,
          -2.4081175029835666,
          1.6706995847671449,
          2.61786979364498,
          2.9024094835303798,
          -2.5504030505944173,
          -2.1473960733396957,
          -1.74372697829366,
          4.269467827915138,
          -0.12861156131284585,
          0.7609985687966727,
          2.323689970832492,
          1.4990797223659662,
          3.8706669313280906,
          3.026880343756733,
          0.010499969629780422,
          2.9637016491883426,
          3.95911470961937,
          1.9826596795421716,
          -0.28860991218664805,
          -0.26628085421018854,
          1.862340279794734,
          4.193631810730617,
          -0.29332702257956883,
          -1.282893412298779,
          3.1747490621932113,
          2.2905481229254363,
          4.0381722013533965,
          3.9781354420975545,
          -1.4192205241216214,
          0.9546897282012334,
          1.65275366166062,
          -1.8582037438189785,
          -1.606852942336812,
          -0.4154464320508754,
          -1.4870037233143192,
          2.2998336777278245,
          -1.1445086006635443,
          0.819862540290528,
          0.45290541296414877,
          4.025227490017341,
          -1.1878226887313654,
          2.6129280453308166,
          -0.407885921152748,
          -2.1355796268039637,
          0.8187266226696784,
          2.1524898333329916,
          3.2930904458487724,
          -2.782830558287311,
          -2.459900771436471,
          0.635041923295749,
          -0.7206637403457338,
          0.8226820519619961,
          3.2906843017770258,
          3.0228601189998425,
          2.522660181535014,
          -2.3383782669068003,
          -1.9014317931077158,
          3.232476440046843,
          3.7425362961792263,
          0.8232967118720287,
          3.2432531697625984,
          -1.4029200294060098,
          -0.2666424688046627,
          3.606737069594038,
          0.012092000222561574,
          -0.8624617696483505
         ],
         "y": [
          0,
          0,
          0,
          0,
          0,
          0,
          0,
          0,
          0,
          0,
          0,
          0,
          0,
          0,
          0,
          0,
          0,
          0,
          0,
          0,
          0,
          0,
          0,
          0,
          0,
          0,
          0,
          0,
          0,
          0,
          0,
          0,
          0,
          0,
          0,
          0,
          0,
          0,
          0,
          0,
          0,
          0,
          0,
          0,
          0,
          0,
          0,
          0,
          0,
          0,
          0,
          0,
          0,
          0,
          0,
          0,
          0,
          0,
          0,
          0,
          0,
          0,
          0,
          0,
          0,
          0,
          0,
          0,
          0,
          0,
          0,
          0,
          0,
          0,
          0,
          0,
          0,
          0,
          0,
          0,
          0,
          0,
          0,
          0,
          0,
          0,
          0,
          0,
          0,
          0,
          0,
          0,
          0,
          0,
          0,
          0,
          0,
          0,
          0,
          0,
          0,
          0,
          0,
          0,
          0,
          0,
          0,
          0,
          0,
          0,
          0,
          0,
          0,
          0,
          0,
          0,
          0,
          0,
          0,
          0,
          0,
          0,
          0,
          0,
          0,
          0,
          0,
          0,
          0,
          0,
          0,
          0,
          0,
          0,
          0,
          0,
          0,
          0,
          0,
          0,
          0,
          0,
          0,
          0,
          0,
          0,
          0,
          0,
          0,
          0,
          0,
          0,
          0,
          0,
          0,
          0,
          0,
          0,
          0,
          0,
          0,
          0,
          0,
          0,
          0,
          0,
          0,
          0,
          0,
          0,
          0,
          0,
          0,
          0,
          0,
          0,
          0,
          0,
          0,
          0,
          0,
          0,
          0,
          0,
          0,
          0,
          0,
          0,
          0,
          0,
          0,
          0,
          0,
          0,
          0,
          0,
          0,
          0,
          0,
          0,
          0,
          0,
          0,
          0,
          0
         ]
        },
        {
         "marker": {
          "color": "rgba(255, 128, 2, 0.8)"
         },
         "mode": "markers",
         "name": "Cluster 1",
         "type": "scatter",
         "x": [
          5.134604807261621,
          9.042828764602355,
          8.610229037602947,
          8.280361052584533,
          6.179216788983556,
          7.445684261131875,
          9.741606499084096,
          7.930020216088007,
          8.434588950444875,
          4.780625092126185,
          8.395355039330973,
          5.207430671226885,
          7.022138611640779,
          10.972159526312366,
          12.694198850740896,
          8.122166385395966,
          6.715654823984325,
          9.167211134478888,
          7.066007407421607,
          6.3259138788586595,
          12.358553435907876,
          6.519567624899276,
          8.696474355829599,
          8.957990167428948,
          14.761429284220698,
          6.6520551089956905,
          9.939094540842879,
          7.269063862979605,
          8.872669697071927,
          6.634014687511707,
          9.077676123855818,
          5.5325220823960715,
          8.496302756022285,
          8.192232143515518,
          16.3858937559499,
          10.158972691196773,
          7.502342837641487,
          6.696250426819307,
          6.07226611893441,
          14.367244095975908,
          18.84153024339838,
          13.74975082162575,
          16.22149286878148,
          8.251957268984517,
          12.85076645241553,
          4.946437412856928,
          11.38781801210407,
          11.912223910986963,
          6.566392426953925,
          7.297947454436799,
          8.786404720449724,
          5.002478937759694,
          5.248047187975244,
          13.54522420269903,
          10.846225479518445,
          5.606764967417732,
          9.983877207360452,
          8.571055209444543,
          4.8056440654531345,
          11.60227460628663,
          6.947666023766043,
          7.351107063900337,
          6.030735731449306,
          12.019368220525894,
          8.643611565495963,
          5.877027995121536,
          5.43608738314762,
          6.877708777294873,
          8.207187644926266,
          5.775364705210249,
          5.831245359214212,
          5.536453816803144,
          6.576809862887463,
          10.931791342370497,
          7.786622445741552,
          9.360342327290121,
          6.9338815379196665,
          15.442194455998136,
          9.734339809373886,
          5.401367223126481,
          7.662795329949277,
          7.7539093287058005,
          9.850057093045383,
          11.755527525161034,
          6.583360979377697,
          11.290152896857313,
          5.639124180310071,
          9.769616995676904,
          7.916906855665979,
          9.575605870871831
         ],
         "y": [
          0,
          0,
          0,
          0,
          0,
          0,
          0,
          0,
          0,
          0,
          0,
          0,
          0,
          0,
          0,
          0,
          0,
          0,
          0,
          0,
          0,
          0,
          0,
          0,
          0,
          0,
          0,
          0,
          0,
          0,
          0,
          0,
          0,
          0,
          0,
          0,
          0,
          0,
          0,
          0,
          0,
          0,
          0,
          0,
          0,
          0,
          0,
          0,
          0,
          0,
          0,
          0,
          0,
          0,
          0,
          0,
          0,
          0,
          0,
          0,
          0,
          0,
          0,
          0,
          0,
          0,
          0,
          0,
          0,
          0,
          0,
          0,
          0,
          0,
          0,
          0,
          0,
          0,
          0,
          0,
          0,
          0,
          0,
          0,
          0,
          0,
          0,
          0,
          0,
          0
         ]
        },
        {
         "marker": {
          "color": "rgba(0, 255, 200, 0.8)"
         },
         "mode": "markers",
         "name": "Cluster 2",
         "type": "scatter",
         "x": [
          -4.46258785864747,
          -5.293632126519754,
          -12.294455040532107,
          -3.3547651586320133,
          -4.253973898687036,
          -4.93033647653932,
          -3.9231319599763763,
          -8.30735802601188,
          -8.076248328488868,
          -3.5548452003733257,
          -6.766726174038686,
          -10.474386592322142,
          -8.064077923327629,
          -7.240604268501328,
          -5.806742489546822,
          -7.6833386255752965,
          -10.768046802216697,
          -7.383286465627807,
          -11.171582340728445,
          -6.435292171881611,
          -4.8905527009799545,
          -10.483675087435984,
          -5.618698547285144,
          -3.9936401702196975,
          -4.591866291154509,
          -11.209796135787391,
          -4.902557454997205,
          -3.639864815110744,
          -9.906089847566063,
          -5.44040166467997,
          -5.485882149449126,
          -3.0999528034677173,
          -7.755593449987747,
          -3.6114663635189945,
          -4.480533781753996,
          -8.872014114539583,
          -7.683037093936322,
          -8.684140598953318,
          -5.388701554568617,
          -6.7194184941672885,
          -10.954664911400831,
          -3.8071569130884177,
          -4.5487683814095545,
          -6.030182357745473,
          -5.956586227243545,
          -10.456671664438815,
          -4.390265917958192,
          -12.995578833886709,
          -7.423355438742961,
          -2.431767788120407,
          -6.598576541190464,
          -8.52988531899235,
          -9.144101943405424,
          -2.9766750035062604,
          -4.436657333152643,
          -11.801602922325243,
          -12.88759310189613,
          -12.592499408346892,
          -9.996255502533351,
          -3.344350043510732,
          -4.802884001246489,
          -5.935137300601249,
          -7.599777484896375,
          -2.7392499003737267,
          -4.379388332563024,
          -3.2712711342299214,
          -6.5768087453259065,
          -2.84555914791141,
          -2.727180350891905,
          -3.254664196400621,
          -3.582228867918383,
          -7.245954671906142,
          -4.151055818724376,
          -7.960541146965238,
          -4.985664874401008,
          -11.415623284931229,
          -5.362256748164122,
          -4.401451299616154,
          -4.8105045951001175,
          -7.860536327904189,
          -11.965295946724751,
          -3.146740868177796,
          -10.53022744126535,
          -3.688110060604136,
          -5.089563265357872,
          -9.933539955368575,
          -5.759464512588308,
          -6.423837282309819,
          -6.7134844292838975,
          -4.011874231193465,
          -10.64250175211788,
          -5.981469252339394,
          -5.2134527849179095,
          -4.759562749098865,
          -5.365131428167928,
          -5.752938386501889,
          -8.809910286973382,
          -7.002131738097762,
          -4.531320021128603,
          -5.0587687740856335,
          -3.2944479719599866,
          -3.7997596616374607,
          -3.060746274454442,
          -2.883454073748092,
          -4.16799172792381,
          -11.51199558041192,
          -10.297714383534093,
          -4.4018129142106295,
          -4.650664441890104,
          -9.343661823614159,
          -4.6731728013784535,
          -10.517150818187888,
          -8.616003437986675,
          -4.36583661413746,
          -8.475852132593541,
          -4.855573429985085,
          -6.179377638499047,
          -12.716549866541845,
          -8.85203082603559,
          -11.746475268159228,
          -11.69370568068448,
          -3.9817649362470346,
          -4.110983905297766,
          -3.4597080365484576,
          -7.285673103386295,
          -2.761569952380559,
          -6.111792791305206,
          -7.739078618839091,
          -2.8914333418847407,
          -3.44773059374728,
          -5.271269329140731,
          -11.120509932986447,
          -9.342268145020238,
          -6.3447725551403735,
          -11.300405955782118,
          -4.709002243823742,
          -2.8267290569810246,
          -2.8959784406832765,
          -3.4133760848103107,
          -2.685255228908938,
          -6.1714294264243845,
          -6.390029697506858,
          -6.666238606809004,
          -3.691041076474141,
          -11.046167906852459,
          -2.7838329193738756,
          -7.553510328622801,
          -9.825511478005783,
          -3.8099293842637105,
          -3.3917217696993855,
          -3.504196204748388,
          -3.5208963485850235,
          -2.900721836998582,
          -5.162382768872723,
          -5.071142246903243,
          -12.43918408570473
         ],
         "y": [
          0,
          0,
          0,
          0,
          0,
          0,
          0,
          0,
          0,
          0,
          0,
          0,
          0,
          0,
          0,
          0,
          0,
          0,
          0,
          0,
          0,
          0,
          0,
          0,
          0,
          0,
          0,
          0,
          0,
          0,
          0,
          0,
          0,
          0,
          0,
          0,
          0,
          0,
          0,
          0,
          0,
          0,
          0,
          0,
          0,
          0,
          0,
          0,
          0,
          0,
          0,
          0,
          0,
          0,
          0,
          0,
          0,
          0,
          0,
          0,
          0,
          0,
          0,
          0,
          0,
          0,
          0,
          0,
          0,
          0,
          0,
          0,
          0,
          0,
          0,
          0,
          0,
          0,
          0,
          0,
          0,
          0,
          0,
          0,
          0,
          0,
          0,
          0,
          0,
          0,
          0,
          0,
          0,
          0,
          0,
          0,
          0,
          0,
          0,
          0,
          0,
          0,
          0,
          0,
          0,
          0,
          0,
          0,
          0,
          0,
          0,
          0,
          0,
          0,
          0,
          0,
          0,
          0,
          0,
          0,
          0,
          0,
          0,
          0,
          0,
          0,
          0,
          0,
          0,
          0,
          0,
          0,
          0,
          0,
          0,
          0,
          0,
          0,
          0,
          0,
          0,
          0,
          0,
          0,
          0,
          0,
          0,
          0,
          0,
          0,
          0,
          0,
          0,
          0,
          0,
          0
         ]
        }
       ],
       "layout": {
        "template": {
         "data": {
          "bar": [
           {
            "error_x": {
             "color": "#2a3f5f"
            },
            "error_y": {
             "color": "#2a3f5f"
            },
            "marker": {
             "line": {
              "color": "#E5ECF6",
              "width": 0.5
             },
             "pattern": {
              "fillmode": "overlay",
              "size": 10,
              "solidity": 0.2
             }
            },
            "type": "bar"
           }
          ],
          "barpolar": [
           {
            "marker": {
             "line": {
              "color": "#E5ECF6",
              "width": 0.5
             },
             "pattern": {
              "fillmode": "overlay",
              "size": 10,
              "solidity": 0.2
             }
            },
            "type": "barpolar"
           }
          ],
          "carpet": [
           {
            "aaxis": {
             "endlinecolor": "#2a3f5f",
             "gridcolor": "white",
             "linecolor": "white",
             "minorgridcolor": "white",
             "startlinecolor": "#2a3f5f"
            },
            "baxis": {
             "endlinecolor": "#2a3f5f",
             "gridcolor": "white",
             "linecolor": "white",
             "minorgridcolor": "white",
             "startlinecolor": "#2a3f5f"
            },
            "type": "carpet"
           }
          ],
          "choropleth": [
           {
            "colorbar": {
             "outlinewidth": 0,
             "ticks": ""
            },
            "type": "choropleth"
           }
          ],
          "contour": [
           {
            "colorbar": {
             "outlinewidth": 0,
             "ticks": ""
            },
            "colorscale": [
             [
              0,
              "#0d0887"
             ],
             [
              0.1111111111111111,
              "#46039f"
             ],
             [
              0.2222222222222222,
              "#7201a8"
             ],
             [
              0.3333333333333333,
              "#9c179e"
             ],
             [
              0.4444444444444444,
              "#bd3786"
             ],
             [
              0.5555555555555556,
              "#d8576b"
             ],
             [
              0.6666666666666666,
              "#ed7953"
             ],
             [
              0.7777777777777778,
              "#fb9f3a"
             ],
             [
              0.8888888888888888,
              "#fdca26"
             ],
             [
              1,
              "#f0f921"
             ]
            ],
            "type": "contour"
           }
          ],
          "contourcarpet": [
           {
            "colorbar": {
             "outlinewidth": 0,
             "ticks": ""
            },
            "type": "contourcarpet"
           }
          ],
          "heatmap": [
           {
            "colorbar": {
             "outlinewidth": 0,
             "ticks": ""
            },
            "colorscale": [
             [
              0,
              "#0d0887"
             ],
             [
              0.1111111111111111,
              "#46039f"
             ],
             [
              0.2222222222222222,
              "#7201a8"
             ],
             [
              0.3333333333333333,
              "#9c179e"
             ],
             [
              0.4444444444444444,
              "#bd3786"
             ],
             [
              0.5555555555555556,
              "#d8576b"
             ],
             [
              0.6666666666666666,
              "#ed7953"
             ],
             [
              0.7777777777777778,
              "#fb9f3a"
             ],
             [
              0.8888888888888888,
              "#fdca26"
             ],
             [
              1,
              "#f0f921"
             ]
            ],
            "type": "heatmap"
           }
          ],
          "heatmapgl": [
           {
            "colorbar": {
             "outlinewidth": 0,
             "ticks": ""
            },
            "colorscale": [
             [
              0,
              "#0d0887"
             ],
             [
              0.1111111111111111,
              "#46039f"
             ],
             [
              0.2222222222222222,
              "#7201a8"
             ],
             [
              0.3333333333333333,
              "#9c179e"
             ],
             [
              0.4444444444444444,
              "#bd3786"
             ],
             [
              0.5555555555555556,
              "#d8576b"
             ],
             [
              0.6666666666666666,
              "#ed7953"
             ],
             [
              0.7777777777777778,
              "#fb9f3a"
             ],
             [
              0.8888888888888888,
              "#fdca26"
             ],
             [
              1,
              "#f0f921"
             ]
            ],
            "type": "heatmapgl"
           }
          ],
          "histogram": [
           {
            "marker": {
             "pattern": {
              "fillmode": "overlay",
              "size": 10,
              "solidity": 0.2
             }
            },
            "type": "histogram"
           }
          ],
          "histogram2d": [
           {
            "colorbar": {
             "outlinewidth": 0,
             "ticks": ""
            },
            "colorscale": [
             [
              0,
              "#0d0887"
             ],
             [
              0.1111111111111111,
              "#46039f"
             ],
             [
              0.2222222222222222,
              "#7201a8"
             ],
             [
              0.3333333333333333,
              "#9c179e"
             ],
             [
              0.4444444444444444,
              "#bd3786"
             ],
             [
              0.5555555555555556,
              "#d8576b"
             ],
             [
              0.6666666666666666,
              "#ed7953"
             ],
             [
              0.7777777777777778,
              "#fb9f3a"
             ],
             [
              0.8888888888888888,
              "#fdca26"
             ],
             [
              1,
              "#f0f921"
             ]
            ],
            "type": "histogram2d"
           }
          ],
          "histogram2dcontour": [
           {
            "colorbar": {
             "outlinewidth": 0,
             "ticks": ""
            },
            "colorscale": [
             [
              0,
              "#0d0887"
             ],
             [
              0.1111111111111111,
              "#46039f"
             ],
             [
              0.2222222222222222,
              "#7201a8"
             ],
             [
              0.3333333333333333,
              "#9c179e"
             ],
             [
              0.4444444444444444,
              "#bd3786"
             ],
             [
              0.5555555555555556,
              "#d8576b"
             ],
             [
              0.6666666666666666,
              "#ed7953"
             ],
             [
              0.7777777777777778,
              "#fb9f3a"
             ],
             [
              0.8888888888888888,
              "#fdca26"
             ],
             [
              1,
              "#f0f921"
             ]
            ],
            "type": "histogram2dcontour"
           }
          ],
          "mesh3d": [
           {
            "colorbar": {
             "outlinewidth": 0,
             "ticks": ""
            },
            "type": "mesh3d"
           }
          ],
          "parcoords": [
           {
            "line": {
             "colorbar": {
              "outlinewidth": 0,
              "ticks": ""
             }
            },
            "type": "parcoords"
           }
          ],
          "pie": [
           {
            "automargin": true,
            "type": "pie"
           }
          ],
          "scatter": [
           {
            "fillpattern": {
             "fillmode": "overlay",
             "size": 10,
             "solidity": 0.2
            },
            "type": "scatter"
           }
          ],
          "scatter3d": [
           {
            "line": {
             "colorbar": {
              "outlinewidth": 0,
              "ticks": ""
             }
            },
            "marker": {
             "colorbar": {
              "outlinewidth": 0,
              "ticks": ""
             }
            },
            "type": "scatter3d"
           }
          ],
          "scattercarpet": [
           {
            "marker": {
             "colorbar": {
              "outlinewidth": 0,
              "ticks": ""
             }
            },
            "type": "scattercarpet"
           }
          ],
          "scattergeo": [
           {
            "marker": {
             "colorbar": {
              "outlinewidth": 0,
              "ticks": ""
             }
            },
            "type": "scattergeo"
           }
          ],
          "scattergl": [
           {
            "marker": {
             "colorbar": {
              "outlinewidth": 0,
              "ticks": ""
             }
            },
            "type": "scattergl"
           }
          ],
          "scattermapbox": [
           {
            "marker": {
             "colorbar": {
              "outlinewidth": 0,
              "ticks": ""
             }
            },
            "type": "scattermapbox"
           }
          ],
          "scatterpolar": [
           {
            "marker": {
             "colorbar": {
              "outlinewidth": 0,
              "ticks": ""
             }
            },
            "type": "scatterpolar"
           }
          ],
          "scatterpolargl": [
           {
            "marker": {
             "colorbar": {
              "outlinewidth": 0,
              "ticks": ""
             }
            },
            "type": "scatterpolargl"
           }
          ],
          "scatterternary": [
           {
            "marker": {
             "colorbar": {
              "outlinewidth": 0,
              "ticks": ""
             }
            },
            "type": "scatterternary"
           }
          ],
          "surface": [
           {
            "colorbar": {
             "outlinewidth": 0,
             "ticks": ""
            },
            "colorscale": [
             [
              0,
              "#0d0887"
             ],
             [
              0.1111111111111111,
              "#46039f"
             ],
             [
              0.2222222222222222,
              "#7201a8"
             ],
             [
              0.3333333333333333,
              "#9c179e"
             ],
             [
              0.4444444444444444,
              "#bd3786"
             ],
             [
              0.5555555555555556,
              "#d8576b"
             ],
             [
              0.6666666666666666,
              "#ed7953"
             ],
             [
              0.7777777777777778,
              "#fb9f3a"
             ],
             [
              0.8888888888888888,
              "#fdca26"
             ],
             [
              1,
              "#f0f921"
             ]
            ],
            "type": "surface"
           }
          ],
          "table": [
           {
            "cells": {
             "fill": {
              "color": "#EBF0F8"
             },
             "line": {
              "color": "white"
             }
            },
            "header": {
             "fill": {
              "color": "#C8D4E3"
             },
             "line": {
              "color": "white"
             }
            },
            "type": "table"
           }
          ]
         },
         "layout": {
          "annotationdefaults": {
           "arrowcolor": "#2a3f5f",
           "arrowhead": 0,
           "arrowwidth": 1
          },
          "autotypenumbers": "strict",
          "coloraxis": {
           "colorbar": {
            "outlinewidth": 0,
            "ticks": ""
           }
          },
          "colorscale": {
           "diverging": [
            [
             0,
             "#8e0152"
            ],
            [
             0.1,
             "#c51b7d"
            ],
            [
             0.2,
             "#de77ae"
            ],
            [
             0.3,
             "#f1b6da"
            ],
            [
             0.4,
             "#fde0ef"
            ],
            [
             0.5,
             "#f7f7f7"
            ],
            [
             0.6,
             "#e6f5d0"
            ],
            [
             0.7,
             "#b8e186"
            ],
            [
             0.8,
             "#7fbc41"
            ],
            [
             0.9,
             "#4d9221"
            ],
            [
             1,
             "#276419"
            ]
           ],
           "sequential": [
            [
             0,
             "#0d0887"
            ],
            [
             0.1111111111111111,
             "#46039f"
            ],
            [
             0.2222222222222222,
             "#7201a8"
            ],
            [
             0.3333333333333333,
             "#9c179e"
            ],
            [
             0.4444444444444444,
             "#bd3786"
            ],
            [
             0.5555555555555556,
             "#d8576b"
            ],
            [
             0.6666666666666666,
             "#ed7953"
            ],
            [
             0.7777777777777778,
             "#fb9f3a"
            ],
            [
             0.8888888888888888,
             "#fdca26"
            ],
            [
             1,
             "#f0f921"
            ]
           ],
           "sequentialminus": [
            [
             0,
             "#0d0887"
            ],
            [
             0.1111111111111111,
             "#46039f"
            ],
            [
             0.2222222222222222,
             "#7201a8"
            ],
            [
             0.3333333333333333,
             "#9c179e"
            ],
            [
             0.4444444444444444,
             "#bd3786"
            ],
            [
             0.5555555555555556,
             "#d8576b"
            ],
            [
             0.6666666666666666,
             "#ed7953"
            ],
            [
             0.7777777777777778,
             "#fb9f3a"
            ],
            [
             0.8888888888888888,
             "#fdca26"
            ],
            [
             1,
             "#f0f921"
            ]
           ]
          },
          "colorway": [
           "#636efa",
           "#EF553B",
           "#00cc96",
           "#ab63fa",
           "#FFA15A",
           "#19d3f3",
           "#FF6692",
           "#B6E880",
           "#FF97FF",
           "#FECB52"
          ],
          "font": {
           "color": "#2a3f5f"
          },
          "geo": {
           "bgcolor": "white",
           "lakecolor": "white",
           "landcolor": "#E5ECF6",
           "showlakes": true,
           "showland": true,
           "subunitcolor": "white"
          },
          "hoverlabel": {
           "align": "left"
          },
          "hovermode": "closest",
          "mapbox": {
           "style": "light"
          },
          "paper_bgcolor": "white",
          "plot_bgcolor": "#E5ECF6",
          "polar": {
           "angularaxis": {
            "gridcolor": "white",
            "linecolor": "white",
            "ticks": ""
           },
           "bgcolor": "#E5ECF6",
           "radialaxis": {
            "gridcolor": "white",
            "linecolor": "white",
            "ticks": ""
           }
          },
          "scene": {
           "xaxis": {
            "backgroundcolor": "#E5ECF6",
            "gridcolor": "white",
            "gridwidth": 2,
            "linecolor": "white",
            "showbackground": true,
            "ticks": "",
            "zerolinecolor": "white"
           },
           "yaxis": {
            "backgroundcolor": "#E5ECF6",
            "gridcolor": "white",
            "gridwidth": 2,
            "linecolor": "white",
            "showbackground": true,
            "ticks": "",
            "zerolinecolor": "white"
           },
           "zaxis": {
            "backgroundcolor": "#E5ECF6",
            "gridcolor": "white",
            "gridwidth": 2,
            "linecolor": "white",
            "showbackground": true,
            "ticks": "",
            "zerolinecolor": "white"
           }
          },
          "shapedefaults": {
           "line": {
            "color": "#2a3f5f"
           }
          },
          "ternary": {
           "aaxis": {
            "gridcolor": "white",
            "linecolor": "white",
            "ticks": ""
           },
           "baxis": {
            "gridcolor": "white",
            "linecolor": "white",
            "ticks": ""
           },
           "bgcolor": "#E5ECF6",
           "caxis": {
            "gridcolor": "white",
            "linecolor": "white",
            "ticks": ""
           }
          },
          "title": {
           "x": 0.05
          },
          "xaxis": {
           "automargin": true,
           "gridcolor": "white",
           "linecolor": "white",
           "ticks": "",
           "title": {
            "standoff": 15
           },
           "zerolinecolor": "white",
           "zerolinewidth": 2
          },
          "yaxis": {
           "automargin": true,
           "gridcolor": "white",
           "linecolor": "white",
           "ticks": "",
           "title": {
            "standoff": 15
           },
           "zerolinecolor": "white",
           "zerolinewidth": 2
          }
         }
        },
        "title": {
         "text": "Visualizing Clusters in One Dimension Using PCA"
        },
        "xaxis": {
         "ticklen": 5,
         "title": {
          "text": "PC1"
         },
         "zeroline": false
        },
        "yaxis": {
         "ticklen": 5,
         "title": {
          "text": ""
         },
         "zeroline": false
        }
       }
      },
      "text/html": [
       "<div>                            <div id=\"d2085969-cef7-44bf-ae08-2de80f98df15\" class=\"plotly-graph-div\" style=\"height:525px; width:100%;\"></div>            <script type=\"text/javascript\">                require([\"plotly\"], function(Plotly) {                    window.PLOTLYENV=window.PLOTLYENV || {};                                    if (document.getElementById(\"d2085969-cef7-44bf-ae08-2de80f98df15\")) {                    Plotly.newPlot(                        \"d2085969-cef7-44bf-ae08-2de80f98df15\",                        [{\"marker\":{\"color\":\"rgba(255, 128, 255, 0.8)\"},\"mode\":\"markers\",\"name\":\"Cluster 0\",\"x\":[-1.88309455249382,3.7259840516666243,3.2892906231831005,2.9814195173831264,4.946979624481865,-1.0390484283980383,0.3306750402737237,3.65099185087396,-2.2548592521008923,-1.5950191582177893,0.4881440897249781,1.6299621334102743,1.243801898985797,2.9254451087571876,3.266380901670053,3.566205006705802,1.486550023422515,3.492586826111509,1.9264572160044904,-1.8517203631047698,3.617669405936441,-2.062760123289113,-2.1812334186860767,4.35564835067722,-0.602099633786696,-1.9021747484283211,1.3973516369901062,-1.9646401905889914,0.6710258761894423,0.07870957888152394,1.9150023264326999,4.185446537774587,4.532942872195828,1.187661839215876,-1.0783097216125712,1.1100441884384848,2.4236340309186697,0.7741048947870164,1.9604381624024938,1.4099360292502594,3.004462795430458,4.392473726022564,-1.2639241741915728,-0.6180919117059646,0.9983648844922757,2.90037909493406,0.16540732286472776,3.527692000820141,1.4865250330187005,3.0781487118007744,4.322872829873708,-0.8131767497044503,3.7943771982602845,1.8045184035636435,-0.6693602797500066,-1.6517441749848565,3.612760300846618,2.0887612743191406,-2.248855679243859,0.8417248345325424,1.1139462199326724,-0.6747106831548197,-2.300320078474501,0.9322645270544337,2.3047029777568913,-2.317525437957233,1.0915536620102122,2.039045131807125,3.1517134369664035,1.1761148429634403,0.0886958900035591,1.880370656761377,-2.1740705825972633,3.964573679154652,0.38683243762693414,0.4896386816288473,-0.5384351233334876,-0.1198532722489163,4.003902088646016,2.1255622787598667,-0.2672197153507511,-0.3976691580303217,1.760154436654058,0.6718726306493612,-1.0105952834895866,-0.6652729387162872,3.486803655345696,3.137401679989732,-0.0797054903982633,-2.2632986719425587,-0.8917069757000184,0.312066999375884,0.6404581474588216,-0.48121787574911584,1.2277668756943187,0.8340186906405525,0.43313700726445215,3.368827922774303,2.710310354718599,-0.08889312983269243,1.3591848824273367,-2.402113930126534,2.9582206295606985,-0.26677370452668936,3.5385024699384795,2.0406745757638496,3.2129758997114806,-2.877970113808992,2.9567223481980567,-2.7937729391470523,4.1124400767788725,-0.18640605544330674,3.6813402736916037,2.3787979666029644,-1.3127793648425368,0.5101697010446974,-1.4699289255723322,4.300515364502934,1.4592311513420286,3.3737870086717576,1.0740341489627343,1.3463363142616223,4.398477298879596,1.8976384200118677,-0.07129106096041368,1.8525321717629581,2.436213091170555,0.5859351086854975,-1.4472823515227125,3.6005725581020958,2.340132353696052,1.6071248601823227,1.5340162479886261,0.1206002854425335,-1.3004480178979425,1.8252156204947305,-0.02532311775694267,2.578021222621042,2.2714429365871323,-2.4081175029835666,1.6706995847671449,2.61786979364498,2.9024094835303798,-2.5504030505944173,-2.1473960733396957,-1.74372697829366,4.269467827915138,-0.12861156131284585,0.7609985687966727,2.323689970832492,1.4990797223659662,3.8706669313280906,3.026880343756733,0.010499969629780422,2.9637016491883426,3.95911470961937,1.9826596795421716,-0.28860991218664805,-0.26628085421018854,1.862340279794734,4.193631810730617,-0.29332702257956883,-1.282893412298779,3.1747490621932113,2.2905481229254363,4.0381722013533965,3.9781354420975545,-1.4192205241216214,0.9546897282012334,1.65275366166062,-1.8582037438189785,-1.606852942336812,-0.4154464320508754,-1.4870037233143192,2.2998336777278245,-1.1445086006635443,0.819862540290528,0.45290541296414877,4.025227490017341,-1.1878226887313654,2.6129280453308166,-0.407885921152748,-2.1355796268039637,0.8187266226696784,2.1524898333329916,3.2930904458487724,-2.782830558287311,-2.459900771436471,0.635041923295749,-0.7206637403457338,0.8226820519619961,3.2906843017770258,3.0228601189998425,2.522660181535014,-2.3383782669068003,-1.9014317931077158,3.232476440046843,3.7425362961792263,0.8232967118720287,3.2432531697625984,-1.4029200294060098,-0.2666424688046627,3.606737069594038,0.012092000222561574,-0.8624617696483505],\"y\":[0,0,0,0,0,0,0,0,0,0,0,0,0,0,0,0,0,0,0,0,0,0,0,0,0,0,0,0,0,0,0,0,0,0,0,0,0,0,0,0,0,0,0,0,0,0,0,0,0,0,0,0,0,0,0,0,0,0,0,0,0,0,0,0,0,0,0,0,0,0,0,0,0,0,0,0,0,0,0,0,0,0,0,0,0,0,0,0,0,0,0,0,0,0,0,0,0,0,0,0,0,0,0,0,0,0,0,0,0,0,0,0,0,0,0,0,0,0,0,0,0,0,0,0,0,0,0,0,0,0,0,0,0,0,0,0,0,0,0,0,0,0,0,0,0,0,0,0,0,0,0,0,0,0,0,0,0,0,0,0,0,0,0,0,0,0,0,0,0,0,0,0,0,0,0,0,0,0,0,0,0,0,0,0,0,0,0,0,0,0,0,0,0,0,0,0,0,0,0,0,0,0,0,0,0],\"type\":\"scatter\"},{\"marker\":{\"color\":\"rgba(255, 128, 2, 0.8)\"},\"mode\":\"markers\",\"name\":\"Cluster 1\",\"x\":[5.134604807261621,9.042828764602355,8.610229037602947,8.280361052584533,6.179216788983556,7.445684261131875,9.741606499084096,7.930020216088007,8.434588950444875,4.780625092126185,8.395355039330973,5.207430671226885,7.022138611640779,10.972159526312366,12.694198850740896,8.122166385395966,6.715654823984325,9.167211134478888,7.066007407421607,6.3259138788586595,12.358553435907876,6.519567624899276,8.696474355829599,8.957990167428948,14.761429284220698,6.6520551089956905,9.939094540842879,7.269063862979605,8.872669697071927,6.634014687511707,9.077676123855818,5.5325220823960715,8.496302756022285,8.192232143515518,16.3858937559499,10.158972691196773,7.502342837641487,6.696250426819307,6.07226611893441,14.367244095975908,18.84153024339838,13.74975082162575,16.22149286878148,8.251957268984517,12.85076645241553,4.946437412856928,11.38781801210407,11.912223910986963,6.566392426953925,7.297947454436799,8.786404720449724,5.002478937759694,5.248047187975244,13.54522420269903,10.846225479518445,5.606764967417732,9.983877207360452,8.571055209444543,4.8056440654531345,11.60227460628663,6.947666023766043,7.351107063900337,6.030735731449306,12.019368220525894,8.643611565495963,5.877027995121536,5.43608738314762,6.877708777294873,8.207187644926266,5.775364705210249,5.831245359214212,5.536453816803144,6.576809862887463,10.931791342370497,7.786622445741552,9.360342327290121,6.9338815379196665,15.442194455998136,9.734339809373886,5.401367223126481,7.662795329949277,7.7539093287058005,9.850057093045383,11.755527525161034,6.583360979377697,11.290152896857313,5.639124180310071,9.769616995676904,7.916906855665979,9.575605870871831],\"y\":[0,0,0,0,0,0,0,0,0,0,0,0,0,0,0,0,0,0,0,0,0,0,0,0,0,0,0,0,0,0,0,0,0,0,0,0,0,0,0,0,0,0,0,0,0,0,0,0,0,0,0,0,0,0,0,0,0,0,0,0,0,0,0,0,0,0,0,0,0,0,0,0,0,0,0,0,0,0,0,0,0,0,0,0,0,0,0,0,0,0],\"type\":\"scatter\"},{\"marker\":{\"color\":\"rgba(0, 255, 200, 0.8)\"},\"mode\":\"markers\",\"name\":\"Cluster 2\",\"x\":[-4.46258785864747,-5.293632126519754,-12.294455040532107,-3.3547651586320133,-4.253973898687036,-4.93033647653932,-3.9231319599763763,-8.30735802601188,-8.076248328488868,-3.5548452003733257,-6.766726174038686,-10.474386592322142,-8.064077923327629,-7.240604268501328,-5.806742489546822,-7.6833386255752965,-10.768046802216697,-7.383286465627807,-11.171582340728445,-6.435292171881611,-4.8905527009799545,-10.483675087435984,-5.618698547285144,-3.9936401702196975,-4.591866291154509,-11.209796135787391,-4.902557454997205,-3.639864815110744,-9.906089847566063,-5.44040166467997,-5.485882149449126,-3.0999528034677173,-7.755593449987747,-3.6114663635189945,-4.480533781753996,-8.872014114539583,-7.683037093936322,-8.684140598953318,-5.388701554568617,-6.7194184941672885,-10.954664911400831,-3.8071569130884177,-4.5487683814095545,-6.030182357745473,-5.956586227243545,-10.456671664438815,-4.390265917958192,-12.995578833886709,-7.423355438742961,-2.431767788120407,-6.598576541190464,-8.52988531899235,-9.144101943405424,-2.9766750035062604,-4.436657333152643,-11.801602922325243,-12.88759310189613,-12.592499408346892,-9.996255502533351,-3.344350043510732,-4.802884001246489,-5.935137300601249,-7.599777484896375,-2.7392499003737267,-4.379388332563024,-3.2712711342299214,-6.5768087453259065,-2.84555914791141,-2.727180350891905,-3.254664196400621,-3.582228867918383,-7.245954671906142,-4.151055818724376,-7.960541146965238,-4.985664874401008,-11.415623284931229,-5.362256748164122,-4.401451299616154,-4.8105045951001175,-7.860536327904189,-11.965295946724751,-3.146740868177796,-10.53022744126535,-3.688110060604136,-5.089563265357872,-9.933539955368575,-5.759464512588308,-6.423837282309819,-6.7134844292838975,-4.011874231193465,-10.64250175211788,-5.981469252339394,-5.2134527849179095,-4.759562749098865,-5.365131428167928,-5.752938386501889,-8.809910286973382,-7.002131738097762,-4.531320021128603,-5.0587687740856335,-3.2944479719599866,-3.7997596616374607,-3.060746274454442,-2.883454073748092,-4.16799172792381,-11.51199558041192,-10.297714383534093,-4.4018129142106295,-4.650664441890104,-9.343661823614159,-4.6731728013784535,-10.517150818187888,-8.616003437986675,-4.36583661413746,-8.475852132593541,-4.855573429985085,-6.179377638499047,-12.716549866541845,-8.85203082603559,-11.746475268159228,-11.69370568068448,-3.9817649362470346,-4.110983905297766,-3.4597080365484576,-7.285673103386295,-2.761569952380559,-6.111792791305206,-7.739078618839091,-2.8914333418847407,-3.44773059374728,-5.271269329140731,-11.120509932986447,-9.342268145020238,-6.3447725551403735,-11.300405955782118,-4.709002243823742,-2.8267290569810246,-2.8959784406832765,-3.4133760848103107,-2.685255228908938,-6.1714294264243845,-6.390029697506858,-6.666238606809004,-3.691041076474141,-11.046167906852459,-2.7838329193738756,-7.553510328622801,-9.825511478005783,-3.8099293842637105,-3.3917217696993855,-3.504196204748388,-3.5208963485850235,-2.900721836998582,-5.162382768872723,-5.071142246903243,-12.43918408570473],\"y\":[0,0,0,0,0,0,0,0,0,0,0,0,0,0,0,0,0,0,0,0,0,0,0,0,0,0,0,0,0,0,0,0,0,0,0,0,0,0,0,0,0,0,0,0,0,0,0,0,0,0,0,0,0,0,0,0,0,0,0,0,0,0,0,0,0,0,0,0,0,0,0,0,0,0,0,0,0,0,0,0,0,0,0,0,0,0,0,0,0,0,0,0,0,0,0,0,0,0,0,0,0,0,0,0,0,0,0,0,0,0,0,0,0,0,0,0,0,0,0,0,0,0,0,0,0,0,0,0,0,0,0,0,0,0,0,0,0,0,0,0,0,0,0,0,0,0,0,0,0,0,0,0,0,0,0,0],\"type\":\"scatter\"}],                        {\"template\":{\"data\":{\"barpolar\":[{\"marker\":{\"line\":{\"color\":\"#E5ECF6\",\"width\":0.5},\"pattern\":{\"fillmode\":\"overlay\",\"size\":10,\"solidity\":0.2}},\"type\":\"barpolar\"}],\"bar\":[{\"error_x\":{\"color\":\"#2a3f5f\"},\"error_y\":{\"color\":\"#2a3f5f\"},\"marker\":{\"line\":{\"color\":\"#E5ECF6\",\"width\":0.5},\"pattern\":{\"fillmode\":\"overlay\",\"size\":10,\"solidity\":0.2}},\"type\":\"bar\"}],\"carpet\":[{\"aaxis\":{\"endlinecolor\":\"#2a3f5f\",\"gridcolor\":\"white\",\"linecolor\":\"white\",\"minorgridcolor\":\"white\",\"startlinecolor\":\"#2a3f5f\"},\"baxis\":{\"endlinecolor\":\"#2a3f5f\",\"gridcolor\":\"white\",\"linecolor\":\"white\",\"minorgridcolor\":\"white\",\"startlinecolor\":\"#2a3f5f\"},\"type\":\"carpet\"}],\"choropleth\":[{\"colorbar\":{\"outlinewidth\":0,\"ticks\":\"\"},\"type\":\"choropleth\"}],\"contourcarpet\":[{\"colorbar\":{\"outlinewidth\":0,\"ticks\":\"\"},\"type\":\"contourcarpet\"}],\"contour\":[{\"colorbar\":{\"outlinewidth\":0,\"ticks\":\"\"},\"colorscale\":[[0.0,\"#0d0887\"],[0.1111111111111111,\"#46039f\"],[0.2222222222222222,\"#7201a8\"],[0.3333333333333333,\"#9c179e\"],[0.4444444444444444,\"#bd3786\"],[0.5555555555555556,\"#d8576b\"],[0.6666666666666666,\"#ed7953\"],[0.7777777777777778,\"#fb9f3a\"],[0.8888888888888888,\"#fdca26\"],[1.0,\"#f0f921\"]],\"type\":\"contour\"}],\"heatmapgl\":[{\"colorbar\":{\"outlinewidth\":0,\"ticks\":\"\"},\"colorscale\":[[0.0,\"#0d0887\"],[0.1111111111111111,\"#46039f\"],[0.2222222222222222,\"#7201a8\"],[0.3333333333333333,\"#9c179e\"],[0.4444444444444444,\"#bd3786\"],[0.5555555555555556,\"#d8576b\"],[0.6666666666666666,\"#ed7953\"],[0.7777777777777778,\"#fb9f3a\"],[0.8888888888888888,\"#fdca26\"],[1.0,\"#f0f921\"]],\"type\":\"heatmapgl\"}],\"heatmap\":[{\"colorbar\":{\"outlinewidth\":0,\"ticks\":\"\"},\"colorscale\":[[0.0,\"#0d0887\"],[0.1111111111111111,\"#46039f\"],[0.2222222222222222,\"#7201a8\"],[0.3333333333333333,\"#9c179e\"],[0.4444444444444444,\"#bd3786\"],[0.5555555555555556,\"#d8576b\"],[0.6666666666666666,\"#ed7953\"],[0.7777777777777778,\"#fb9f3a\"],[0.8888888888888888,\"#fdca26\"],[1.0,\"#f0f921\"]],\"type\":\"heatmap\"}],\"histogram2dcontour\":[{\"colorbar\":{\"outlinewidth\":0,\"ticks\":\"\"},\"colorscale\":[[0.0,\"#0d0887\"],[0.1111111111111111,\"#46039f\"],[0.2222222222222222,\"#7201a8\"],[0.3333333333333333,\"#9c179e\"],[0.4444444444444444,\"#bd3786\"],[0.5555555555555556,\"#d8576b\"],[0.6666666666666666,\"#ed7953\"],[0.7777777777777778,\"#fb9f3a\"],[0.8888888888888888,\"#fdca26\"],[1.0,\"#f0f921\"]],\"type\":\"histogram2dcontour\"}],\"histogram2d\":[{\"colorbar\":{\"outlinewidth\":0,\"ticks\":\"\"},\"colorscale\":[[0.0,\"#0d0887\"],[0.1111111111111111,\"#46039f\"],[0.2222222222222222,\"#7201a8\"],[0.3333333333333333,\"#9c179e\"],[0.4444444444444444,\"#bd3786\"],[0.5555555555555556,\"#d8576b\"],[0.6666666666666666,\"#ed7953\"],[0.7777777777777778,\"#fb9f3a\"],[0.8888888888888888,\"#fdca26\"],[1.0,\"#f0f921\"]],\"type\":\"histogram2d\"}],\"histogram\":[{\"marker\":{\"pattern\":{\"fillmode\":\"overlay\",\"size\":10,\"solidity\":0.2}},\"type\":\"histogram\"}],\"mesh3d\":[{\"colorbar\":{\"outlinewidth\":0,\"ticks\":\"\"},\"type\":\"mesh3d\"}],\"parcoords\":[{\"line\":{\"colorbar\":{\"outlinewidth\":0,\"ticks\":\"\"}},\"type\":\"parcoords\"}],\"pie\":[{\"automargin\":true,\"type\":\"pie\"}],\"scatter3d\":[{\"line\":{\"colorbar\":{\"outlinewidth\":0,\"ticks\":\"\"}},\"marker\":{\"colorbar\":{\"outlinewidth\":0,\"ticks\":\"\"}},\"type\":\"scatter3d\"}],\"scattercarpet\":[{\"marker\":{\"colorbar\":{\"outlinewidth\":0,\"ticks\":\"\"}},\"type\":\"scattercarpet\"}],\"scattergeo\":[{\"marker\":{\"colorbar\":{\"outlinewidth\":0,\"ticks\":\"\"}},\"type\":\"scattergeo\"}],\"scattergl\":[{\"marker\":{\"colorbar\":{\"outlinewidth\":0,\"ticks\":\"\"}},\"type\":\"scattergl\"}],\"scattermapbox\":[{\"marker\":{\"colorbar\":{\"outlinewidth\":0,\"ticks\":\"\"}},\"type\":\"scattermapbox\"}],\"scatterpolargl\":[{\"marker\":{\"colorbar\":{\"outlinewidth\":0,\"ticks\":\"\"}},\"type\":\"scatterpolargl\"}],\"scatterpolar\":[{\"marker\":{\"colorbar\":{\"outlinewidth\":0,\"ticks\":\"\"}},\"type\":\"scatterpolar\"}],\"scatter\":[{\"fillpattern\":{\"fillmode\":\"overlay\",\"size\":10,\"solidity\":0.2},\"type\":\"scatter\"}],\"scatterternary\":[{\"marker\":{\"colorbar\":{\"outlinewidth\":0,\"ticks\":\"\"}},\"type\":\"scatterternary\"}],\"surface\":[{\"colorbar\":{\"outlinewidth\":0,\"ticks\":\"\"},\"colorscale\":[[0.0,\"#0d0887\"],[0.1111111111111111,\"#46039f\"],[0.2222222222222222,\"#7201a8\"],[0.3333333333333333,\"#9c179e\"],[0.4444444444444444,\"#bd3786\"],[0.5555555555555556,\"#d8576b\"],[0.6666666666666666,\"#ed7953\"],[0.7777777777777778,\"#fb9f3a\"],[0.8888888888888888,\"#fdca26\"],[1.0,\"#f0f921\"]],\"type\":\"surface\"}],\"table\":[{\"cells\":{\"fill\":{\"color\":\"#EBF0F8\"},\"line\":{\"color\":\"white\"}},\"header\":{\"fill\":{\"color\":\"#C8D4E3\"},\"line\":{\"color\":\"white\"}},\"type\":\"table\"}]},\"layout\":{\"annotationdefaults\":{\"arrowcolor\":\"#2a3f5f\",\"arrowhead\":0,\"arrowwidth\":1},\"autotypenumbers\":\"strict\",\"coloraxis\":{\"colorbar\":{\"outlinewidth\":0,\"ticks\":\"\"}},\"colorscale\":{\"diverging\":[[0,\"#8e0152\"],[0.1,\"#c51b7d\"],[0.2,\"#de77ae\"],[0.3,\"#f1b6da\"],[0.4,\"#fde0ef\"],[0.5,\"#f7f7f7\"],[0.6,\"#e6f5d0\"],[0.7,\"#b8e186\"],[0.8,\"#7fbc41\"],[0.9,\"#4d9221\"],[1,\"#276419\"]],\"sequential\":[[0.0,\"#0d0887\"],[0.1111111111111111,\"#46039f\"],[0.2222222222222222,\"#7201a8\"],[0.3333333333333333,\"#9c179e\"],[0.4444444444444444,\"#bd3786\"],[0.5555555555555556,\"#d8576b\"],[0.6666666666666666,\"#ed7953\"],[0.7777777777777778,\"#fb9f3a\"],[0.8888888888888888,\"#fdca26\"],[1.0,\"#f0f921\"]],\"sequentialminus\":[[0.0,\"#0d0887\"],[0.1111111111111111,\"#46039f\"],[0.2222222222222222,\"#7201a8\"],[0.3333333333333333,\"#9c179e\"],[0.4444444444444444,\"#bd3786\"],[0.5555555555555556,\"#d8576b\"],[0.6666666666666666,\"#ed7953\"],[0.7777777777777778,\"#fb9f3a\"],[0.8888888888888888,\"#fdca26\"],[1.0,\"#f0f921\"]]},\"colorway\":[\"#636efa\",\"#EF553B\",\"#00cc96\",\"#ab63fa\",\"#FFA15A\",\"#19d3f3\",\"#FF6692\",\"#B6E880\",\"#FF97FF\",\"#FECB52\"],\"font\":{\"color\":\"#2a3f5f\"},\"geo\":{\"bgcolor\":\"white\",\"lakecolor\":\"white\",\"landcolor\":\"#E5ECF6\",\"showlakes\":true,\"showland\":true,\"subunitcolor\":\"white\"},\"hoverlabel\":{\"align\":\"left\"},\"hovermode\":\"closest\",\"mapbox\":{\"style\":\"light\"},\"paper_bgcolor\":\"white\",\"plot_bgcolor\":\"#E5ECF6\",\"polar\":{\"angularaxis\":{\"gridcolor\":\"white\",\"linecolor\":\"white\",\"ticks\":\"\"},\"bgcolor\":\"#E5ECF6\",\"radialaxis\":{\"gridcolor\":\"white\",\"linecolor\":\"white\",\"ticks\":\"\"}},\"scene\":{\"xaxis\":{\"backgroundcolor\":\"#E5ECF6\",\"gridcolor\":\"white\",\"gridwidth\":2,\"linecolor\":\"white\",\"showbackground\":true,\"ticks\":\"\",\"zerolinecolor\":\"white\"},\"yaxis\":{\"backgroundcolor\":\"#E5ECF6\",\"gridcolor\":\"white\",\"gridwidth\":2,\"linecolor\":\"white\",\"showbackground\":true,\"ticks\":\"\",\"zerolinecolor\":\"white\"},\"zaxis\":{\"backgroundcolor\":\"#E5ECF6\",\"gridcolor\":\"white\",\"gridwidth\":2,\"linecolor\":\"white\",\"showbackground\":true,\"ticks\":\"\",\"zerolinecolor\":\"white\"}},\"shapedefaults\":{\"line\":{\"color\":\"#2a3f5f\"}},\"ternary\":{\"aaxis\":{\"gridcolor\":\"white\",\"linecolor\":\"white\",\"ticks\":\"\"},\"baxis\":{\"gridcolor\":\"white\",\"linecolor\":\"white\",\"ticks\":\"\"},\"bgcolor\":\"#E5ECF6\",\"caxis\":{\"gridcolor\":\"white\",\"linecolor\":\"white\",\"ticks\":\"\"}},\"title\":{\"x\":0.05},\"xaxis\":{\"automargin\":true,\"gridcolor\":\"white\",\"linecolor\":\"white\",\"ticks\":\"\",\"title\":{\"standoff\":15},\"zerolinecolor\":\"white\",\"zerolinewidth\":2},\"yaxis\":{\"automargin\":true,\"gridcolor\":\"white\",\"linecolor\":\"white\",\"ticks\":\"\",\"title\":{\"standoff\":15},\"zerolinecolor\":\"white\",\"zerolinewidth\":2}}},\"title\":{\"text\":\"Visualizing Clusters in One Dimension Using PCA\"},\"xaxis\":{\"ticklen\":5,\"title\":{\"text\":\"PC1\"},\"zeroline\":false},\"yaxis\":{\"ticklen\":5,\"title\":{\"text\":\"\"},\"zeroline\":false}},                        {\"responsive\": true}                    ).then(function(){\n",
       "                            \n",
       "var gd = document.getElementById('d2085969-cef7-44bf-ae08-2de80f98df15');\n",
       "var x = new MutationObserver(function (mutations, observer) {{\n",
       "        var display = window.getComputedStyle(gd).display;\n",
       "        if (!display || display === 'none') {{\n",
       "            console.log([gd, 'removed!']);\n",
       "            Plotly.purge(gd);\n",
       "            observer.disconnect();\n",
       "        }}\n",
       "}});\n",
       "\n",
       "// Listen for the removal of the full notebook cells\n",
       "var notebookContainer = gd.closest('#notebook-container');\n",
       "if (notebookContainer) {{\n",
       "    x.observe(notebookContainer, {childList: true});\n",
       "}}\n",
       "\n",
       "// Listen for the clearing of the current output cell\n",
       "var outputEl = gd.closest('.output');\n",
       "if (outputEl) {{\n",
       "    x.observe(outputEl, {childList: true});\n",
       "}}\n",
       "\n",
       "                        })                };                });            </script>        </div>"
      ]
     },
     "metadata": {},
     "output_type": "display_data"
    }
   ],
   "source": [
    "#Instructions for building the 1-D plot\n",
    "\n",
    "#trace1 is for 'Cluster 0'\n",
    "trace1 = go.Scatter(\n",
    "                    x = cluster0[\"PC1_1d\"],\n",
    "                    y = cluster0[\"dummy\"],\n",
    "                    mode = \"markers\",\n",
    "                    name = \"Cluster 0\",\n",
    "                    marker = dict(color = 'rgba(255, 128, 255, 0.8)'),\n",
    "                    text = None)\n",
    "\n",
    "#trace2 is for 'Cluster 1'\n",
    "trace2 = go.Scatter(\n",
    "                    x = cluster1[\"PC1_1d\"],\n",
    "                    y = cluster1[\"dummy\"],\n",
    "                    mode = \"markers\",\n",
    "                    name = \"Cluster 1\",\n",
    "                    marker = dict(color = 'rgba(255, 128, 2, 0.8)'),\n",
    "                    text = None)\n",
    "\n",
    "#trace3 is for 'Cluster 2'\n",
    "trace3 = go.Scatter(\n",
    "                    x = cluster2[\"PC1_1d\"],\n",
    "                    y = cluster2[\"dummy\"],\n",
    "                    mode = \"markers\",\n",
    "                    name = \"Cluster 2\",\n",
    "                    marker = dict(color = 'rgba(0, 255, 200, 0.8)'),\n",
    "                    text = None)\n",
    "\n",
    "data = [trace1, trace2, trace3]\n",
    "\n",
    "title = \"Visualizing Clusters in One Dimension Using PCA\"\n",
    "\n",
    "layout = dict(title = title,\n",
    "              xaxis= dict(title= 'PC1',ticklen= 5,zeroline= False),\n",
    "              yaxis= dict(title= '',ticklen= 5,zeroline= False)\n",
    "             )\n",
    "\n",
    "fig = dict(data = data, layout = layout)\n",
    "\n",
    "iplot(fig)"
   ]
  },
  {
   "cell_type": "code",
   "execution_count": 212,
   "id": "74b56667",
   "metadata": {},
   "outputs": [
    {
     "data": {
      "application/vnd.plotly.v1+json": {
       "config": {
        "linkText": "Export to plot.ly",
        "plotlyServerURL": "https://plot.ly",
        "showLink": false
       },
       "data": [
        {
         "marker": {
          "color": "rgba(255, 128, 255, 0.8)"
         },
         "mode": "markers",
         "name": "Cluster 0",
         "type": "scatter",
         "x": [
          -1.88309455249382,
          3.7259840516666243,
          3.2892906231831005,
          2.9814195173831264,
          4.946979624481865,
          -1.0390484283980383,
          0.3306750402737237,
          3.65099185087396,
          -2.2548592521008923,
          -1.5950191582177893,
          0.4881440897249781,
          1.6299621334102743,
          1.243801898985797,
          2.9254451087571876,
          3.266380901670053,
          3.566205006705802,
          1.486550023422515,
          3.492586826111509,
          1.9264572160044904,
          -1.8517203631047698,
          3.617669405936441,
          -2.062760123289113,
          -2.1812334186860767,
          4.35564835067722,
          -0.602099633786696,
          -1.9021747484283211,
          1.3973516369901062,
          -1.9646401905889914,
          0.6710258761894423,
          0.07870957888152394,
          1.9150023264326999,
          4.185446537774587,
          4.532942872195828,
          1.187661839215876,
          -1.0783097216125712,
          1.1100441884384848,
          2.4236340309186697,
          0.7741048947870164,
          1.9604381624024938,
          1.4099360292502594,
          3.004462795430458,
          4.392473726022564,
          -1.2639241741915728,
          -0.6180919117059646,
          0.9983648844922757,
          2.90037909493406,
          0.16540732286472776,
          3.527692000820141,
          1.4865250330187005,
          3.0781487118007744,
          4.322872829873708,
          -0.8131767497044503,
          3.7943771982602845,
          1.8045184035636435,
          -0.6693602797500066,
          -1.6517441749848565,
          3.612760300846618,
          2.0887612743191406,
          -2.248855679243859,
          0.8417248345325424,
          1.1139462199326724,
          -0.6747106831548197,
          -2.300320078474501,
          0.9322645270544337,
          2.3047029777568913,
          -2.317525437957233,
          1.0915536620102122,
          2.039045131807125,
          3.1517134369664035,
          1.1761148429634403,
          0.0886958900035591,
          1.880370656761377,
          -2.1740705825972633,
          3.964573679154652,
          0.38683243762693414,
          0.4896386816288473,
          -0.5384351233334876,
          -0.1198532722489163,
          4.003902088646016,
          2.1255622787598667,
          -0.2672197153507511,
          -0.3976691580303217,
          1.760154436654058,
          0.6718726306493612,
          -1.0105952834895866,
          -0.6652729387162872,
          3.486803655345696,
          3.137401679989732,
          -0.0797054903982633,
          -2.2632986719425587,
          -0.8917069757000184,
          0.312066999375884,
          0.6404581474588216,
          -0.48121787574911584,
          1.2277668756943187,
          0.8340186906405525,
          0.43313700726445215,
          3.368827922774303,
          2.710310354718599,
          -0.08889312983269243,
          1.3591848824273367,
          -2.402113930126534,
          2.9582206295606985,
          -0.26677370452668936,
          3.5385024699384795,
          2.0406745757638496,
          3.2129758997114806,
          -2.877970113808992,
          2.9567223481980567,
          -2.7937729391470523,
          4.1124400767788725,
          -0.18640605544330674,
          3.6813402736916037,
          2.3787979666029644,
          -1.3127793648425368,
          0.5101697010446974,
          -1.4699289255723322,
          4.300515364502934,
          1.4592311513420286,
          3.3737870086717576,
          1.0740341489627343,
          1.3463363142616223,
          4.398477298879596,
          1.8976384200118677,
          -0.07129106096041368,
          1.8525321717629581,
          2.436213091170555,
          0.5859351086854975,
          -1.4472823515227125,
          3.6005725581020958,
          2.340132353696052,
          1.6071248601823227,
          1.5340162479886261,
          0.1206002854425335,
          -1.3004480178979425,
          1.8252156204947305,
          -0.02532311775694267,
          2.578021222621042,
          2.2714429365871323,
          -2.4081175029835666,
          1.6706995847671449,
          2.61786979364498,
          2.9024094835303798,
          -2.5504030505944173,
          -2.1473960733396957,
          -1.74372697829366,
          4.269467827915138,
          -0.12861156131284585,
          0.7609985687966727,
          2.323689970832492,
          1.4990797223659662,
          3.8706669313280906,
          3.026880343756733,
          0.010499969629780422,
          2.9637016491883426,
          3.95911470961937,
          1.9826596795421716,
          -0.28860991218664805,
          -0.26628085421018854,
          1.862340279794734,
          4.193631810730617,
          -0.29332702257956883,
          -1.282893412298779,
          3.1747490621932113,
          2.2905481229254363,
          4.0381722013533965,
          3.9781354420975545,
          -1.4192205241216214,
          0.9546897282012334,
          1.65275366166062,
          -1.8582037438189785,
          -1.606852942336812,
          -0.4154464320508754,
          -1.4870037233143192,
          2.2998336777278245,
          -1.1445086006635443,
          0.819862540290528,
          0.45290541296414877,
          4.025227490017341,
          -1.1878226887313654,
          2.6129280453308166,
          -0.407885921152748,
          -2.1355796268039637,
          0.8187266226696784,
          2.1524898333329916,
          3.2930904458487724,
          -2.782830558287311,
          -2.459900771436471,
          0.635041923295749,
          -0.7206637403457338,
          0.8226820519619961,
          3.2906843017770258,
          3.0228601189998425,
          2.522660181535014,
          -2.3383782669068003,
          -1.9014317931077158,
          3.232476440046843,
          3.7425362961792263,
          0.8232967118720287,
          3.2432531697625984,
          -1.4029200294060098,
          -0.2666424688046627,
          3.606737069594038,
          0.012092000222561574,
          -0.8624617696483505
         ],
         "y": [
          1.028854343200089,
          -6.203383887622105,
          0.840523369174217,
          -5.027190984155442,
          0.23810019430546545,
          -2.5782959247915245,
          4.787385974899597,
          -0.5472983351308818,
          2.4560083167031275,
          1.3113006635349393,
          6.641880576299233,
          -5.105220084109215,
          0.4641683488150122,
          -4.337609000430238,
          0.8410533820088661,
          -5.49329402454646,
          -0.22502342284966484,
          3.5312010195597097,
          -0.7401506179611756,
          -2.212223930426629,
          -2.200760426122404,
          4.230973062982492,
          0.7857402920631776,
          -0.1454654625154261,
          -2.382701765023274,
          1.0178769722520518,
          -1.9119734003513296,
          -1.518955820986821,
          1.6762972324283973,
          -1.0682527761781284,
          2.5186063608616824,
          -3.546607368049683,
          0.7559009428097448,
          3.7673049261139813,
          1.4435973839805902,
          0.2891999405012427,
          2.789694229730786,
          0.14124297105852743,
          1.6334393489110417,
          5.572635572019006,
          -2.7228759516231564,
          2.344818430857829,
          5.6481768940439805,
          2.667498955001717,
          -1.3492248349016875,
          -1.0701540929969844,
          1.4394685426476765,
          3.4908708944550138,
          -4.386673572166769,
          -0.12958795765623576,
          -5.148371750927943,
          -3.2723195068221673,
          6.131206740909307,
          -4.206374400865276,
          1.0463790658689736,
          -3.6753138840763926,
          1.9076652499123632,
          -8.932726204978207,
          2.4720587777607204,
          -2.2590004357461955,
          1.1954292164052693,
          -4.889845617666963,
          -0.8204748206633369,
          -3.108605859623234,
          -3.8873151413532203,
          2.4308242477482516,
          4.384911260888196,
          -3.1975933568538943,
          3.330019576834658,
          2.0699932494809965,
          -4.359243216298535,
          -2.4227716367132315,
          5.006760475244691,
          2.8920465480845254,
          -1.7083274725484894,
          -1.6793940045441418,
          0.2779441860539725,
          -1.1940572289972855,
          -0.33542825454885045,
          0.21927207101229793,
          -6.257315063383152,
          0.3512954581690332,
          -8.255368755821872,
          5.915498972422406,
          -0.8975647220507819,
          -3.139598200842699,
          -1.4751501148238173,
          5.790103705334927,
          0.5530069137287342,
          3.341222782001233,
          -1.6766882397227623,
          -6.721681119074395,
          -6.591800328480106,
          -2.2251233288145875,
          -1.9417638199159828,
          7.69070499844536,
          -0.11901977243987548,
          -5.769762849863983,
          -1.0626617597756662,
          -6.20895346067967,
          0.6234837697234744,
          -0.1298328112688328,
          0.6652972879822812,
          -0.3957271373877601,
          -1.497828695950665,
          0.8933336065145597,
          0.008206438432789922,
          4.601985608274581,
          0.6544761109429389,
          5.441292606355169,
          2.208937063667049,
          0.4550872444755139,
          -2.29324395442383,
          3.721805652989079,
          -0.32193314965438635,
          -4.930665911737437,
          2.9335662373190465,
          -1.8569838371552507,
          -1.8624350527835931,
          -1.5548882272645406,
          6.240509392973237,
          2.992483205973318,
          2.3608688919154233,
          -0.6965897654107693,
          -4.493857700886476,
          4.164836001198121,
          3.6340011037420807,
          4.148082571107476,
          0.4672040090543452,
          2.784708436837565,
          -3.000713711660158,
          2.330030533223214,
          0.6722666447003758,
          3.06617571473722,
          0.6370993272585579,
          3.2413492923713725,
          -3.6073888103757765,
          -1.2053967067918863,
          -0.5632962926306919,
          -0.14588327232642603,
          0.748532749951797,
          3.77638603045348,
          0.7123029865036962,
          3.9403898870847835,
          -1.6027544512152694,
          4.395510506317447,
          -5.981218694504018,
          5.404527779862103,
          0.16772834542629234,
          6.171937427666358,
          3.119347684461773,
          2.8018735223336315,
          -1.7507078467889783,
          -2.7746980607083964,
          -2.6309224361563777,
          -1.1873730315012425,
          0.9341937444539042,
          -3.8994255372637086,
          2.937955332066699,
          0.007728929155924887,
          3.8512279573144084,
          5.347468248548226,
          -1.1165929355367168,
          -1.719892410099276,
          3.6093312276344487,
          -3.6537965469797076,
          5.383412852774274,
          0.42658515085859217,
          5.217789264677163,
          0.7808749518105749,
          1.9155883120755122,
          -0.49711177749885754,
          2.790388574684513,
          0.5433957965545873,
          -3.8600460296039993,
          3.9982611279929396,
          5.0799948685881375,
          0.7863907575384456,
          -2.7738113656998538,
          -1.004512621237215,
          -3.631065462295077,
          5.979629339423849,
          3.398234859967643,
          3.606742341584683,
          0.13533364000972986,
          0.8504282696497389,
          1.3275051071197883,
          2.2749536728107986,
          -3.2150870193098897,
          -0.6766466925535355,
          -1.4541470162972865,
          1.7302809117472306,
          3.229687926061432,
          -5.280841427571997,
          -0.14182275453870102,
          -0.6601535158776296,
          2.4351296191485736,
          -7.125483632053893,
          6.814191824354808,
          0.9348967134869561,
          3.0862654098143016,
          1.1951929868719957,
          4.3702667378967055,
          0.5003981122631126,
          0.1030068379530934
         ]
        },
        {
         "marker": {
          "color": "rgba(255, 128, 2, 0.8)"
         },
         "mode": "markers",
         "name": "Cluster 1",
         "type": "scatter",
         "x": [
          5.134604807261621,
          9.042828764602355,
          8.610229037602947,
          8.280361052584533,
          6.179216788983556,
          7.445684261131875,
          9.741606499084096,
          7.930020216088007,
          8.434588950444875,
          4.780625092126185,
          8.395355039330973,
          5.207430671226885,
          7.022138611640779,
          10.972159526312366,
          12.694198850740896,
          8.122166385395966,
          6.715654823984325,
          9.167211134478888,
          7.066007407421607,
          6.3259138788586595,
          12.358553435907876,
          6.519567624899276,
          8.696474355829599,
          8.957990167428948,
          14.761429284220698,
          6.6520551089956905,
          9.939094540842879,
          7.269063862979605,
          8.872669697071927,
          6.634014687511707,
          9.077676123855818,
          5.5325220823960715,
          8.496302756022285,
          8.192232143515518,
          16.3858937559499,
          10.158972691196773,
          7.502342837641487,
          6.696250426819307,
          6.07226611893441,
          14.367244095975908,
          18.84153024339838,
          13.74975082162575,
          16.22149286878148,
          8.251957268984517,
          12.85076645241553,
          4.946437412856928,
          11.38781801210407,
          11.912223910986963,
          6.566392426953925,
          7.297947454436799,
          8.786404720449724,
          5.002478937759694,
          5.248047187975244,
          13.54522420269903,
          10.846225479518445,
          5.606764967417732,
          9.983877207360452,
          8.571055209444543,
          4.8056440654531345,
          11.60227460628663,
          6.947666023766043,
          7.351107063900337,
          6.030735731449306,
          12.019368220525894,
          8.643611565495963,
          5.877027995121536,
          5.43608738314762,
          6.877708777294873,
          8.207187644926266,
          5.775364705210249,
          5.831245359214212,
          5.536453816803144,
          6.576809862887463,
          10.931791342370497,
          7.786622445741552,
          9.360342327290121,
          6.9338815379196665,
          15.442194455998136,
          9.734339809373886,
          5.401367223126481,
          7.662795329949277,
          7.7539093287058005,
          9.850057093045383,
          11.755527525161034,
          6.583360979377697,
          11.290152896857313,
          5.639124180310071,
          9.769616995676904,
          7.916906855665979,
          9.575605870871831
         ],
         "y": [
          0.2946297127846832,
          -3.933446231407837,
          -6.754654767014382,
          4.731221762673586,
          -0.6689218175216948,
          -0.8131555574941676,
          6.407298059578125,
          2.801205187382476,
          0.5965559403460045,
          0.11993364442740469,
          3.8831120437527313,
          -4.551770609891651,
          0.6270336685329618,
          -2.730888780676387,
          4.923036941837087,
          1.3621807792545149,
          1.328215383467507,
          -0.5312443002042831,
          0.6284206329279176,
          -8.014240688846819,
          -5.099940720484015,
          -3.780010559992895,
          -0.8384079499942317,
          -1.4823903328407824,
          8.744009061298891,
          -1.2519369825781803,
          -0.07002557373701461,
          -0.005991635494725678,
          0.12154475181389036,
          -1.2786760814927531,
          0.20069352641645355,
          -0.23094484044020583,
          9.776632826298574,
          3.007097772947177,
          -7.743213836208237,
          1.6771400479584793,
          2.6630324508889682,
          0.39030645772171296,
          4.244871470809225,
          -2.3382945230737806,
          -1.3133436672431456,
          4.74268526697781,
          -2.8435218679200878,
          0.5504263266326989,
          -1.6019080618161825,
          -0.5955180418488507,
          0.004994359532633326,
          -2.1916195109104546,
          0.4076424042047905,
          0.03094109698642667,
          -3.316050116164324,
          -0.49068151943531907,
          2.913631788541136,
          0.519673788815514,
          2.9449333585870283,
          1.4701386208894467,
          4.9649816367906885,
          0.7954573549992149,
          0.06646789140147569,
          -1.5114288079606972,
          -1.9419000468210974,
          1.6924385645713318,
          -8.254151173756314,
          -0.5370117352675688,
          -0.8376366574159906,
          4.089772188450012,
          -1.2541949815709295,
          -1.8526472459653818,
          2.992964289119189,
          -0.8610553113315323,
          -5.0106298583967,
          0.653872151205614,
          -2.121427925544351,
          0.5123477499235258,
          -0.5314805297375566,
          0.390715643453389,
          -0.15689059929209348,
          -7.505031337456845,
          -0.139979453228532,
          -0.3303602146496118,
          4.377480948227397,
          -0.5569058784360237,
          -0.18746771123713074,
          -5.549839317290184,
          5.368542870026599,
          -2.5505896093748937,
          0.5900446990483637,
          -8.473002697598181,
          1.274439454005629,
          7.194650780239614
         ]
        },
        {
         "marker": {
          "color": "rgba(0, 255, 200, 0.8)"
         },
         "mode": "markers",
         "name": "Cluster 2",
         "type": "scatter",
         "x": [
          -4.46258785864747,
          -5.293632126519754,
          -12.294455040532107,
          -3.3547651586320133,
          -4.253973898687036,
          -4.93033647653932,
          -3.9231319599763763,
          -8.30735802601188,
          -8.076248328488868,
          -3.5548452003733257,
          -6.766726174038686,
          -10.474386592322142,
          -8.064077923327629,
          -7.240604268501328,
          -5.806742489546822,
          -7.6833386255752965,
          -10.768046802216697,
          -7.383286465627807,
          -11.171582340728445,
          -6.435292171881611,
          -4.8905527009799545,
          -10.483675087435984,
          -5.618698547285144,
          -3.9936401702196975,
          -4.591866291154509,
          -11.209796135787391,
          -4.902557454997205,
          -3.639864815110744,
          -9.906089847566063,
          -5.44040166467997,
          -5.485882149449126,
          -3.0999528034677173,
          -7.755593449987747,
          -3.6114663635189945,
          -4.480533781753996,
          -8.872014114539583,
          -7.683037093936322,
          -8.684140598953318,
          -5.388701554568617,
          -6.7194184941672885,
          -10.954664911400831,
          -3.8071569130884177,
          -4.5487683814095545,
          -6.030182357745473,
          -5.956586227243545,
          -10.456671664438815,
          -4.390265917958192,
          -12.995578833886709,
          -7.423355438742961,
          -2.431767788120407,
          -6.598576541190464,
          -8.52988531899235,
          -9.144101943405424,
          -2.9766750035062604,
          -4.436657333152643,
          -11.801602922325243,
          -12.88759310189613,
          -12.592499408346892,
          -9.996255502533351,
          -3.344350043510732,
          -4.802884001246489,
          -5.935137300601249,
          -7.599777484896375,
          -2.7392499003737267,
          -4.379388332563024,
          -3.2712711342299214,
          -6.5768087453259065,
          -2.84555914791141,
          -2.727180350891905,
          -3.254664196400621,
          -3.582228867918383,
          -7.245954671906142,
          -4.151055818724376,
          -7.960541146965238,
          -4.985664874401008,
          -11.415623284931229,
          -5.362256748164122,
          -4.401451299616154,
          -4.8105045951001175,
          -7.860536327904189,
          -11.965295946724751,
          -3.146740868177796,
          -10.53022744126535,
          -3.688110060604136,
          -5.089563265357872,
          -9.933539955368575,
          -5.759464512588308,
          -6.423837282309819,
          -6.7134844292838975,
          -4.011874231193465,
          -10.64250175211788,
          -5.981469252339394,
          -5.2134527849179095,
          -4.759562749098865,
          -5.365131428167928,
          -5.752938386501889,
          -8.809910286973382,
          -7.002131738097762,
          -4.531320021128603,
          -5.0587687740856335,
          -3.2944479719599866,
          -3.7997596616374607,
          -3.060746274454442,
          -2.883454073748092,
          -4.16799172792381,
          -11.51199558041192,
          -10.297714383534093,
          -4.4018129142106295,
          -4.650664441890104,
          -9.343661823614159,
          -4.6731728013784535,
          -10.517150818187888,
          -8.616003437986675,
          -4.36583661413746,
          -8.475852132593541,
          -4.855573429985085,
          -6.179377638499047,
          -12.716549866541845,
          -8.85203082603559,
          -11.746475268159228,
          -11.69370568068448,
          -3.9817649362470346,
          -4.110983905297766,
          -3.4597080365484576,
          -7.285673103386295,
          -2.761569952380559,
          -6.111792791305206,
          -7.739078618839091,
          -2.8914333418847407,
          -3.44773059374728,
          -5.271269329140731,
          -11.120509932986447,
          -9.342268145020238,
          -6.3447725551403735,
          -11.300405955782118,
          -4.709002243823742,
          -2.8267290569810246,
          -2.8959784406832765,
          -3.4133760848103107,
          -2.685255228908938,
          -6.1714294264243845,
          -6.390029697506858,
          -6.666238606809004,
          -3.691041076474141,
          -11.046167906852459,
          -2.7838329193738756,
          -7.553510328622801,
          -9.825511478005783,
          -3.8099293842637105,
          -3.3917217696993855,
          -3.504196204748388,
          -3.5208963485850235,
          -2.900721836998582,
          -5.162382768872723,
          -5.071142246903243,
          -12.43918408570473
         ],
         "y": [
          -0.47064206354184024,
          -1.895483797544438,
          -1.156427356763053,
          0.1385336323681423,
          -0.43360785209121755,
          -4.9051966835605105,
          -2.6223081170395677,
          3.7875856617510513,
          -4.270994475091913,
          -0.7246337436072366,
          -0.2588924356004288,
          9.02058393889046,
          -1.9554607918679967,
          0.339884457422592,
          0.2980555393616447,
          0.03492651795330528,
          3.1911160682580593,
          -3.935494542461735,
          -0.5023038439077209,
          -0.11616475017596592,
          -0.003907531346702845,
          4.952671743087377,
          -2.0546594176787716,
          7.209452328035516,
          7.713126854303567,
          5.247142480574409,
          -4.932995808144381,
          -0.9254842992752721,
          -0.5502822708820987,
          -1.9848855307170832,
          -2.7827167190416113,
          -1.2753067068049433,
          -0.8527731430436547,
          -3.384990961593424,
          -0.438299861683063,
          -3.9215029546192586,
          -2.4858671554588603,
          6.843665492892669,
          8.099792387000964,
          -2.7063709490141132,
          -1.88006840215996,
          -0.13156474575829094,
          -6.306395295530433,
          3.557868595522441,
          1.9090128551406982,
          -4.912974062150136,
          1.2114761035938575,
          -3.2320363733243527,
          -3.926976606381168,
          -3.364310126044587,
          1.5323640514801184,
          1.9736624651997017,
          -5.071087561403787,
          2.0621633673335893,
          6.917314122178114,
          -1.662682515850061,
          -3.9785289560464974,
          -1.3404601071266276,
          -1.3037338607305147,
          -3.1044616184881786,
          6.7806845439882535,
          0.2243067935942973,
          -0.7344740539832321,
          -5.298590293232412,
          -2.982804980673083,
          -1.4252854457071333,
          -5.8657125536275645,
          -3.675159901549136,
          -0.28900843140317556,
          1.7928526749199714,
          -2.442538958572724,
          -5.596340226113346,
          -3.538169953462634,
          -0.25873845307317384,
          2.5352357644427026,
          -6.322926839733896,
          0.622427206516597,
          1.2569267721555761,
          -0.6721122393579506,
          -0.09343366549133492,
          1.4570730950186432,
          -3.931120847516224,
          9.089001921670086,
          2.434080317533453,
          -0.9042489195468252,
          -3.7786140250757807,
          -2.128010689793832,
          -3.374921728998824,
          1.4122483605872331,
          0.614312165147137,
          -3.492131210834672,
          -0.6296637011489286,
          -0.9727683812959204,
          -0.6918488261301454,
          3.046255561566192,
          1.2003099564600128,
          -3.12743250657509,
          0.31759608835627373,
          -5.489357533268361,
          -3.3055905576554467,
          -3.1084364772938367,
          0.7742432578723158,
          -3.8265256048462835,
          -3.639084120628292,
          3.016806749498881,
          -2.3686960411505718,
          -5.700615515902681,
          -0.4858355730391275,
          -6.512077661564434,
          2.275002602499576,
          -2.3329579230095616,
          9.083928831560529,
          1.11539017292516,
          -2.9486783407670614,
          -7.079597395611874,
          5.0051443176478845,
          3.4317141223984624,
          -2.9784874088772693,
          5.898846975578324,
          -6.591466239569276,
          3.4560376659240246,
          6.366641158980407,
          7.9906015634983305,
          0.8978731099204629,
          6.017141014428428,
          -1.1913715890627739,
          0.9295648463039726,
          -2.590703677872394,
          -1.2973537961276698,
          0.9513863162938572,
          1.4534303870419183,
          -6.163509939855964,
          3.16476014507259,
          -4.974177834599066,
          -0.6240477789391538,
          2.7092074204220458,
          1.3475304269830397,
          -0.3431531295806908,
          1.7518436046636887,
          -0.35905465832134664,
          -2.4789764718777776,
          0.7749797567920039,
          7.299839101463208,
          2.409464467047828,
          2.046893284674144,
          2.1590976254832706,
          0.03900285572843553,
          2.9310262809580587,
          3.1885879847198084,
          -3.9426703852648686,
          -3.188790261551276,
          6.56735586220568,
          -5.365265991930752,
          -1.7369871225616722,
          -0.8973913913900263,
          -0.40138967674206333
         ]
        }
       ],
       "layout": {
        "template": {
         "data": {
          "bar": [
           {
            "error_x": {
             "color": "#2a3f5f"
            },
            "error_y": {
             "color": "#2a3f5f"
            },
            "marker": {
             "line": {
              "color": "#E5ECF6",
              "width": 0.5
             },
             "pattern": {
              "fillmode": "overlay",
              "size": 10,
              "solidity": 0.2
             }
            },
            "type": "bar"
           }
          ],
          "barpolar": [
           {
            "marker": {
             "line": {
              "color": "#E5ECF6",
              "width": 0.5
             },
             "pattern": {
              "fillmode": "overlay",
              "size": 10,
              "solidity": 0.2
             }
            },
            "type": "barpolar"
           }
          ],
          "carpet": [
           {
            "aaxis": {
             "endlinecolor": "#2a3f5f",
             "gridcolor": "white",
             "linecolor": "white",
             "minorgridcolor": "white",
             "startlinecolor": "#2a3f5f"
            },
            "baxis": {
             "endlinecolor": "#2a3f5f",
             "gridcolor": "white",
             "linecolor": "white",
             "minorgridcolor": "white",
             "startlinecolor": "#2a3f5f"
            },
            "type": "carpet"
           }
          ],
          "choropleth": [
           {
            "colorbar": {
             "outlinewidth": 0,
             "ticks": ""
            },
            "type": "choropleth"
           }
          ],
          "contour": [
           {
            "colorbar": {
             "outlinewidth": 0,
             "ticks": ""
            },
            "colorscale": [
             [
              0,
              "#0d0887"
             ],
             [
              0.1111111111111111,
              "#46039f"
             ],
             [
              0.2222222222222222,
              "#7201a8"
             ],
             [
              0.3333333333333333,
              "#9c179e"
             ],
             [
              0.4444444444444444,
              "#bd3786"
             ],
             [
              0.5555555555555556,
              "#d8576b"
             ],
             [
              0.6666666666666666,
              "#ed7953"
             ],
             [
              0.7777777777777778,
              "#fb9f3a"
             ],
             [
              0.8888888888888888,
              "#fdca26"
             ],
             [
              1,
              "#f0f921"
             ]
            ],
            "type": "contour"
           }
          ],
          "contourcarpet": [
           {
            "colorbar": {
             "outlinewidth": 0,
             "ticks": ""
            },
            "type": "contourcarpet"
           }
          ],
          "heatmap": [
           {
            "colorbar": {
             "outlinewidth": 0,
             "ticks": ""
            },
            "colorscale": [
             [
              0,
              "#0d0887"
             ],
             [
              0.1111111111111111,
              "#46039f"
             ],
             [
              0.2222222222222222,
              "#7201a8"
             ],
             [
              0.3333333333333333,
              "#9c179e"
             ],
             [
              0.4444444444444444,
              "#bd3786"
             ],
             [
              0.5555555555555556,
              "#d8576b"
             ],
             [
              0.6666666666666666,
              "#ed7953"
             ],
             [
              0.7777777777777778,
              "#fb9f3a"
             ],
             [
              0.8888888888888888,
              "#fdca26"
             ],
             [
              1,
              "#f0f921"
             ]
            ],
            "type": "heatmap"
           }
          ],
          "heatmapgl": [
           {
            "colorbar": {
             "outlinewidth": 0,
             "ticks": ""
            },
            "colorscale": [
             [
              0,
              "#0d0887"
             ],
             [
              0.1111111111111111,
              "#46039f"
             ],
             [
              0.2222222222222222,
              "#7201a8"
             ],
             [
              0.3333333333333333,
              "#9c179e"
             ],
             [
              0.4444444444444444,
              "#bd3786"
             ],
             [
              0.5555555555555556,
              "#d8576b"
             ],
             [
              0.6666666666666666,
              "#ed7953"
             ],
             [
              0.7777777777777778,
              "#fb9f3a"
             ],
             [
              0.8888888888888888,
              "#fdca26"
             ],
             [
              1,
              "#f0f921"
             ]
            ],
            "type": "heatmapgl"
           }
          ],
          "histogram": [
           {
            "marker": {
             "pattern": {
              "fillmode": "overlay",
              "size": 10,
              "solidity": 0.2
             }
            },
            "type": "histogram"
           }
          ],
          "histogram2d": [
           {
            "colorbar": {
             "outlinewidth": 0,
             "ticks": ""
            },
            "colorscale": [
             [
              0,
              "#0d0887"
             ],
             [
              0.1111111111111111,
              "#46039f"
             ],
             [
              0.2222222222222222,
              "#7201a8"
             ],
             [
              0.3333333333333333,
              "#9c179e"
             ],
             [
              0.4444444444444444,
              "#bd3786"
             ],
             [
              0.5555555555555556,
              "#d8576b"
             ],
             [
              0.6666666666666666,
              "#ed7953"
             ],
             [
              0.7777777777777778,
              "#fb9f3a"
             ],
             [
              0.8888888888888888,
              "#fdca26"
             ],
             [
              1,
              "#f0f921"
             ]
            ],
            "type": "histogram2d"
           }
          ],
          "histogram2dcontour": [
           {
            "colorbar": {
             "outlinewidth": 0,
             "ticks": ""
            },
            "colorscale": [
             [
              0,
              "#0d0887"
             ],
             [
              0.1111111111111111,
              "#46039f"
             ],
             [
              0.2222222222222222,
              "#7201a8"
             ],
             [
              0.3333333333333333,
              "#9c179e"
             ],
             [
              0.4444444444444444,
              "#bd3786"
             ],
             [
              0.5555555555555556,
              "#d8576b"
             ],
             [
              0.6666666666666666,
              "#ed7953"
             ],
             [
              0.7777777777777778,
              "#fb9f3a"
             ],
             [
              0.8888888888888888,
              "#fdca26"
             ],
             [
              1,
              "#f0f921"
             ]
            ],
            "type": "histogram2dcontour"
           }
          ],
          "mesh3d": [
           {
            "colorbar": {
             "outlinewidth": 0,
             "ticks": ""
            },
            "type": "mesh3d"
           }
          ],
          "parcoords": [
           {
            "line": {
             "colorbar": {
              "outlinewidth": 0,
              "ticks": ""
             }
            },
            "type": "parcoords"
           }
          ],
          "pie": [
           {
            "automargin": true,
            "type": "pie"
           }
          ],
          "scatter": [
           {
            "fillpattern": {
             "fillmode": "overlay",
             "size": 10,
             "solidity": 0.2
            },
            "type": "scatter"
           }
          ],
          "scatter3d": [
           {
            "line": {
             "colorbar": {
              "outlinewidth": 0,
              "ticks": ""
             }
            },
            "marker": {
             "colorbar": {
              "outlinewidth": 0,
              "ticks": ""
             }
            },
            "type": "scatter3d"
           }
          ],
          "scattercarpet": [
           {
            "marker": {
             "colorbar": {
              "outlinewidth": 0,
              "ticks": ""
             }
            },
            "type": "scattercarpet"
           }
          ],
          "scattergeo": [
           {
            "marker": {
             "colorbar": {
              "outlinewidth": 0,
              "ticks": ""
             }
            },
            "type": "scattergeo"
           }
          ],
          "scattergl": [
           {
            "marker": {
             "colorbar": {
              "outlinewidth": 0,
              "ticks": ""
             }
            },
            "type": "scattergl"
           }
          ],
          "scattermapbox": [
           {
            "marker": {
             "colorbar": {
              "outlinewidth": 0,
              "ticks": ""
             }
            },
            "type": "scattermapbox"
           }
          ],
          "scatterpolar": [
           {
            "marker": {
             "colorbar": {
              "outlinewidth": 0,
              "ticks": ""
             }
            },
            "type": "scatterpolar"
           }
          ],
          "scatterpolargl": [
           {
            "marker": {
             "colorbar": {
              "outlinewidth": 0,
              "ticks": ""
             }
            },
            "type": "scatterpolargl"
           }
          ],
          "scatterternary": [
           {
            "marker": {
             "colorbar": {
              "outlinewidth": 0,
              "ticks": ""
             }
            },
            "type": "scatterternary"
           }
          ],
          "surface": [
           {
            "colorbar": {
             "outlinewidth": 0,
             "ticks": ""
            },
            "colorscale": [
             [
              0,
              "#0d0887"
             ],
             [
              0.1111111111111111,
              "#46039f"
             ],
             [
              0.2222222222222222,
              "#7201a8"
             ],
             [
              0.3333333333333333,
              "#9c179e"
             ],
             [
              0.4444444444444444,
              "#bd3786"
             ],
             [
              0.5555555555555556,
              "#d8576b"
             ],
             [
              0.6666666666666666,
              "#ed7953"
             ],
             [
              0.7777777777777778,
              "#fb9f3a"
             ],
             [
              0.8888888888888888,
              "#fdca26"
             ],
             [
              1,
              "#f0f921"
             ]
            ],
            "type": "surface"
           }
          ],
          "table": [
           {
            "cells": {
             "fill": {
              "color": "#EBF0F8"
             },
             "line": {
              "color": "white"
             }
            },
            "header": {
             "fill": {
              "color": "#C8D4E3"
             },
             "line": {
              "color": "white"
             }
            },
            "type": "table"
           }
          ]
         },
         "layout": {
          "annotationdefaults": {
           "arrowcolor": "#2a3f5f",
           "arrowhead": 0,
           "arrowwidth": 1
          },
          "autotypenumbers": "strict",
          "coloraxis": {
           "colorbar": {
            "outlinewidth": 0,
            "ticks": ""
           }
          },
          "colorscale": {
           "diverging": [
            [
             0,
             "#8e0152"
            ],
            [
             0.1,
             "#c51b7d"
            ],
            [
             0.2,
             "#de77ae"
            ],
            [
             0.3,
             "#f1b6da"
            ],
            [
             0.4,
             "#fde0ef"
            ],
            [
             0.5,
             "#f7f7f7"
            ],
            [
             0.6,
             "#e6f5d0"
            ],
            [
             0.7,
             "#b8e186"
            ],
            [
             0.8,
             "#7fbc41"
            ],
            [
             0.9,
             "#4d9221"
            ],
            [
             1,
             "#276419"
            ]
           ],
           "sequential": [
            [
             0,
             "#0d0887"
            ],
            [
             0.1111111111111111,
             "#46039f"
            ],
            [
             0.2222222222222222,
             "#7201a8"
            ],
            [
             0.3333333333333333,
             "#9c179e"
            ],
            [
             0.4444444444444444,
             "#bd3786"
            ],
            [
             0.5555555555555556,
             "#d8576b"
            ],
            [
             0.6666666666666666,
             "#ed7953"
            ],
            [
             0.7777777777777778,
             "#fb9f3a"
            ],
            [
             0.8888888888888888,
             "#fdca26"
            ],
            [
             1,
             "#f0f921"
            ]
           ],
           "sequentialminus": [
            [
             0,
             "#0d0887"
            ],
            [
             0.1111111111111111,
             "#46039f"
            ],
            [
             0.2222222222222222,
             "#7201a8"
            ],
            [
             0.3333333333333333,
             "#9c179e"
            ],
            [
             0.4444444444444444,
             "#bd3786"
            ],
            [
             0.5555555555555556,
             "#d8576b"
            ],
            [
             0.6666666666666666,
             "#ed7953"
            ],
            [
             0.7777777777777778,
             "#fb9f3a"
            ],
            [
             0.8888888888888888,
             "#fdca26"
            ],
            [
             1,
             "#f0f921"
            ]
           ]
          },
          "colorway": [
           "#636efa",
           "#EF553B",
           "#00cc96",
           "#ab63fa",
           "#FFA15A",
           "#19d3f3",
           "#FF6692",
           "#B6E880",
           "#FF97FF",
           "#FECB52"
          ],
          "font": {
           "color": "#2a3f5f"
          },
          "geo": {
           "bgcolor": "white",
           "lakecolor": "white",
           "landcolor": "#E5ECF6",
           "showlakes": true,
           "showland": true,
           "subunitcolor": "white"
          },
          "hoverlabel": {
           "align": "left"
          },
          "hovermode": "closest",
          "mapbox": {
           "style": "light"
          },
          "paper_bgcolor": "white",
          "plot_bgcolor": "#E5ECF6",
          "polar": {
           "angularaxis": {
            "gridcolor": "white",
            "linecolor": "white",
            "ticks": ""
           },
           "bgcolor": "#E5ECF6",
           "radialaxis": {
            "gridcolor": "white",
            "linecolor": "white",
            "ticks": ""
           }
          },
          "scene": {
           "xaxis": {
            "backgroundcolor": "#E5ECF6",
            "gridcolor": "white",
            "gridwidth": 2,
            "linecolor": "white",
            "showbackground": true,
            "ticks": "",
            "zerolinecolor": "white"
           },
           "yaxis": {
            "backgroundcolor": "#E5ECF6",
            "gridcolor": "white",
            "gridwidth": 2,
            "linecolor": "white",
            "showbackground": true,
            "ticks": "",
            "zerolinecolor": "white"
           },
           "zaxis": {
            "backgroundcolor": "#E5ECF6",
            "gridcolor": "white",
            "gridwidth": 2,
            "linecolor": "white",
            "showbackground": true,
            "ticks": "",
            "zerolinecolor": "white"
           }
          },
          "shapedefaults": {
           "line": {
            "color": "#2a3f5f"
           }
          },
          "ternary": {
           "aaxis": {
            "gridcolor": "white",
            "linecolor": "white",
            "ticks": ""
           },
           "baxis": {
            "gridcolor": "white",
            "linecolor": "white",
            "ticks": ""
           },
           "bgcolor": "#E5ECF6",
           "caxis": {
            "gridcolor": "white",
            "linecolor": "white",
            "ticks": ""
           }
          },
          "title": {
           "x": 0.05
          },
          "xaxis": {
           "automargin": true,
           "gridcolor": "white",
           "linecolor": "white",
           "ticks": "",
           "title": {
            "standoff": 15
           },
           "zerolinecolor": "white",
           "zerolinewidth": 2
          },
          "yaxis": {
           "automargin": true,
           "gridcolor": "white",
           "linecolor": "white",
           "ticks": "",
           "title": {
            "standoff": 15
           },
           "zerolinecolor": "white",
           "zerolinewidth": 2
          }
         }
        },
        "title": {
         "text": "Visualizing Clusters in Two Dimensions Using PCA"
        },
        "xaxis": {
         "ticklen": 5,
         "title": {
          "text": "PC1"
         },
         "zeroline": false
        },
        "yaxis": {
         "ticklen": 5,
         "title": {
          "text": "PC2"
         },
         "zeroline": false
        }
       }
      },
      "text/html": [
       "<div>                            <div id=\"e78e327d-5890-4916-844c-1680fae95d7e\" class=\"plotly-graph-div\" style=\"height:525px; width:100%;\"></div>            <script type=\"text/javascript\">                require([\"plotly\"], function(Plotly) {                    window.PLOTLYENV=window.PLOTLYENV || {};                                    if (document.getElementById(\"e78e327d-5890-4916-844c-1680fae95d7e\")) {                    Plotly.newPlot(                        \"e78e327d-5890-4916-844c-1680fae95d7e\",                        [{\"marker\":{\"color\":\"rgba(255, 128, 255, 0.8)\"},\"mode\":\"markers\",\"name\":\"Cluster 0\",\"x\":[-1.88309455249382,3.7259840516666243,3.2892906231831005,2.9814195173831264,4.946979624481865,-1.0390484283980383,0.3306750402737237,3.65099185087396,-2.2548592521008923,-1.5950191582177893,0.4881440897249781,1.6299621334102743,1.243801898985797,2.9254451087571876,3.266380901670053,3.566205006705802,1.486550023422515,3.492586826111509,1.9264572160044904,-1.8517203631047698,3.617669405936441,-2.062760123289113,-2.1812334186860767,4.35564835067722,-0.602099633786696,-1.9021747484283211,1.3973516369901062,-1.9646401905889914,0.6710258761894423,0.07870957888152394,1.9150023264326999,4.185446537774587,4.532942872195828,1.187661839215876,-1.0783097216125712,1.1100441884384848,2.4236340309186697,0.7741048947870164,1.9604381624024938,1.4099360292502594,3.004462795430458,4.392473726022564,-1.2639241741915728,-0.6180919117059646,0.9983648844922757,2.90037909493406,0.16540732286472776,3.527692000820141,1.4865250330187005,3.0781487118007744,4.322872829873708,-0.8131767497044503,3.7943771982602845,1.8045184035636435,-0.6693602797500066,-1.6517441749848565,3.612760300846618,2.0887612743191406,-2.248855679243859,0.8417248345325424,1.1139462199326724,-0.6747106831548197,-2.300320078474501,0.9322645270544337,2.3047029777568913,-2.317525437957233,1.0915536620102122,2.039045131807125,3.1517134369664035,1.1761148429634403,0.0886958900035591,1.880370656761377,-2.1740705825972633,3.964573679154652,0.38683243762693414,0.4896386816288473,-0.5384351233334876,-0.1198532722489163,4.003902088646016,2.1255622787598667,-0.2672197153507511,-0.3976691580303217,1.760154436654058,0.6718726306493612,-1.0105952834895866,-0.6652729387162872,3.486803655345696,3.137401679989732,-0.0797054903982633,-2.2632986719425587,-0.8917069757000184,0.312066999375884,0.6404581474588216,-0.48121787574911584,1.2277668756943187,0.8340186906405525,0.43313700726445215,3.368827922774303,2.710310354718599,-0.08889312983269243,1.3591848824273367,-2.402113930126534,2.9582206295606985,-0.26677370452668936,3.5385024699384795,2.0406745757638496,3.2129758997114806,-2.877970113808992,2.9567223481980567,-2.7937729391470523,4.1124400767788725,-0.18640605544330674,3.6813402736916037,2.3787979666029644,-1.3127793648425368,0.5101697010446974,-1.4699289255723322,4.300515364502934,1.4592311513420286,3.3737870086717576,1.0740341489627343,1.3463363142616223,4.398477298879596,1.8976384200118677,-0.07129106096041368,1.8525321717629581,2.436213091170555,0.5859351086854975,-1.4472823515227125,3.6005725581020958,2.340132353696052,1.6071248601823227,1.5340162479886261,0.1206002854425335,-1.3004480178979425,1.8252156204947305,-0.02532311775694267,2.578021222621042,2.2714429365871323,-2.4081175029835666,1.6706995847671449,2.61786979364498,2.9024094835303798,-2.5504030505944173,-2.1473960733396957,-1.74372697829366,4.269467827915138,-0.12861156131284585,0.7609985687966727,2.323689970832492,1.4990797223659662,3.8706669313280906,3.026880343756733,0.010499969629780422,2.9637016491883426,3.95911470961937,1.9826596795421716,-0.28860991218664805,-0.26628085421018854,1.862340279794734,4.193631810730617,-0.29332702257956883,-1.282893412298779,3.1747490621932113,2.2905481229254363,4.0381722013533965,3.9781354420975545,-1.4192205241216214,0.9546897282012334,1.65275366166062,-1.8582037438189785,-1.606852942336812,-0.4154464320508754,-1.4870037233143192,2.2998336777278245,-1.1445086006635443,0.819862540290528,0.45290541296414877,4.025227490017341,-1.1878226887313654,2.6129280453308166,-0.407885921152748,-2.1355796268039637,0.8187266226696784,2.1524898333329916,3.2930904458487724,-2.782830558287311,-2.459900771436471,0.635041923295749,-0.7206637403457338,0.8226820519619961,3.2906843017770258,3.0228601189998425,2.522660181535014,-2.3383782669068003,-1.9014317931077158,3.232476440046843,3.7425362961792263,0.8232967118720287,3.2432531697625984,-1.4029200294060098,-0.2666424688046627,3.606737069594038,0.012092000222561574,-0.8624617696483505],\"y\":[1.028854343200089,-6.203383887622105,0.840523369174217,-5.027190984155442,0.23810019430546545,-2.5782959247915245,4.787385974899597,-0.5472983351308818,2.4560083167031275,1.3113006635349393,6.641880576299233,-5.105220084109215,0.4641683488150122,-4.337609000430238,0.8410533820088661,-5.49329402454646,-0.22502342284966484,3.5312010195597097,-0.7401506179611756,-2.212223930426629,-2.200760426122404,4.230973062982492,0.7857402920631776,-0.1454654625154261,-2.382701765023274,1.0178769722520518,-1.9119734003513296,-1.518955820986821,1.6762972324283973,-1.0682527761781284,2.5186063608616824,-3.546607368049683,0.7559009428097448,3.7673049261139813,1.4435973839805902,0.2891999405012427,2.789694229730786,0.14124297105852743,1.6334393489110417,5.572635572019006,-2.7228759516231564,2.344818430857829,5.6481768940439805,2.667498955001717,-1.3492248349016875,-1.0701540929969844,1.4394685426476765,3.4908708944550138,-4.386673572166769,-0.12958795765623576,-5.148371750927943,-3.2723195068221673,6.131206740909307,-4.206374400865276,1.0463790658689736,-3.6753138840763926,1.9076652499123632,-8.932726204978207,2.4720587777607204,-2.2590004357461955,1.1954292164052693,-4.889845617666963,-0.8204748206633369,-3.108605859623234,-3.8873151413532203,2.4308242477482516,4.384911260888196,-3.1975933568538943,3.330019576834658,2.0699932494809965,-4.359243216298535,-2.4227716367132315,5.006760475244691,2.8920465480845254,-1.7083274725484894,-1.6793940045441418,0.2779441860539725,-1.1940572289972855,-0.33542825454885045,0.21927207101229793,-6.257315063383152,0.3512954581690332,-8.255368755821872,5.915498972422406,-0.8975647220507819,-3.139598200842699,-1.4751501148238173,5.790103705334927,0.5530069137287342,3.341222782001233,-1.6766882397227623,-6.721681119074395,-6.591800328480106,-2.2251233288145875,-1.9417638199159828,7.69070499844536,-0.11901977243987548,-5.769762849863983,-1.0626617597756662,-6.20895346067967,0.6234837697234744,-0.1298328112688328,0.6652972879822812,-0.3957271373877601,-1.497828695950665,0.8933336065145597,0.008206438432789922,4.601985608274581,0.6544761109429389,5.441292606355169,2.208937063667049,0.4550872444755139,-2.29324395442383,3.721805652989079,-0.32193314965438635,-4.930665911737437,2.9335662373190465,-1.8569838371552507,-1.8624350527835931,-1.5548882272645406,6.240509392973237,2.992483205973318,2.3608688919154233,-0.6965897654107693,-4.493857700886476,4.164836001198121,3.6340011037420807,4.148082571107476,0.4672040090543452,2.784708436837565,-3.000713711660158,2.330030533223214,0.6722666447003758,3.06617571473722,0.6370993272585579,3.2413492923713725,-3.6073888103757765,-1.2053967067918863,-0.5632962926306919,-0.14588327232642603,0.748532749951797,3.77638603045348,0.7123029865036962,3.9403898870847835,-1.6027544512152694,4.395510506317447,-5.981218694504018,5.404527779862103,0.16772834542629234,6.171937427666358,3.119347684461773,2.8018735223336315,-1.7507078467889783,-2.7746980607083964,-2.6309224361563777,-1.1873730315012425,0.9341937444539042,-3.8994255372637086,2.937955332066699,0.007728929155924887,3.8512279573144084,5.347468248548226,-1.1165929355367168,-1.719892410099276,3.6093312276344487,-3.6537965469797076,5.383412852774274,0.42658515085859217,5.217789264677163,0.7808749518105749,1.9155883120755122,-0.49711177749885754,2.790388574684513,0.5433957965545873,-3.8600460296039993,3.9982611279929396,5.0799948685881375,0.7863907575384456,-2.7738113656998538,-1.004512621237215,-3.631065462295077,5.979629339423849,3.398234859967643,3.606742341584683,0.13533364000972986,0.8504282696497389,1.3275051071197883,2.2749536728107986,-3.2150870193098897,-0.6766466925535355,-1.4541470162972865,1.7302809117472306,3.229687926061432,-5.280841427571997,-0.14182275453870102,-0.6601535158776296,2.4351296191485736,-7.125483632053893,6.814191824354808,0.9348967134869561,3.0862654098143016,1.1951929868719957,4.3702667378967055,0.5003981122631126,0.1030068379530934],\"type\":\"scatter\"},{\"marker\":{\"color\":\"rgba(255, 128, 2, 0.8)\"},\"mode\":\"markers\",\"name\":\"Cluster 1\",\"x\":[5.134604807261621,9.042828764602355,8.610229037602947,8.280361052584533,6.179216788983556,7.445684261131875,9.741606499084096,7.930020216088007,8.434588950444875,4.780625092126185,8.395355039330973,5.207430671226885,7.022138611640779,10.972159526312366,12.694198850740896,8.122166385395966,6.715654823984325,9.167211134478888,7.066007407421607,6.3259138788586595,12.358553435907876,6.519567624899276,8.696474355829599,8.957990167428948,14.761429284220698,6.6520551089956905,9.939094540842879,7.269063862979605,8.872669697071927,6.634014687511707,9.077676123855818,5.5325220823960715,8.496302756022285,8.192232143515518,16.3858937559499,10.158972691196773,7.502342837641487,6.696250426819307,6.07226611893441,14.367244095975908,18.84153024339838,13.74975082162575,16.22149286878148,8.251957268984517,12.85076645241553,4.946437412856928,11.38781801210407,11.912223910986963,6.566392426953925,7.297947454436799,8.786404720449724,5.002478937759694,5.248047187975244,13.54522420269903,10.846225479518445,5.606764967417732,9.983877207360452,8.571055209444543,4.8056440654531345,11.60227460628663,6.947666023766043,7.351107063900337,6.030735731449306,12.019368220525894,8.643611565495963,5.877027995121536,5.43608738314762,6.877708777294873,8.207187644926266,5.775364705210249,5.831245359214212,5.536453816803144,6.576809862887463,10.931791342370497,7.786622445741552,9.360342327290121,6.9338815379196665,15.442194455998136,9.734339809373886,5.401367223126481,7.662795329949277,7.7539093287058005,9.850057093045383,11.755527525161034,6.583360979377697,11.290152896857313,5.639124180310071,9.769616995676904,7.916906855665979,9.575605870871831],\"y\":[0.2946297127846832,-3.933446231407837,-6.754654767014382,4.731221762673586,-0.6689218175216948,-0.8131555574941676,6.407298059578125,2.801205187382476,0.5965559403460045,0.11993364442740469,3.8831120437527313,-4.551770609891651,0.6270336685329618,-2.730888780676387,4.923036941837087,1.3621807792545149,1.328215383467507,-0.5312443002042831,0.6284206329279176,-8.014240688846819,-5.099940720484015,-3.780010559992895,-0.8384079499942317,-1.4823903328407824,8.744009061298891,-1.2519369825781803,-0.07002557373701461,-0.005991635494725678,0.12154475181389036,-1.2786760814927531,0.20069352641645355,-0.23094484044020583,9.776632826298574,3.007097772947177,-7.743213836208237,1.6771400479584793,2.6630324508889682,0.39030645772171296,4.244871470809225,-2.3382945230737806,-1.3133436672431456,4.74268526697781,-2.8435218679200878,0.5504263266326989,-1.6019080618161825,-0.5955180418488507,0.004994359532633326,-2.1916195109104546,0.4076424042047905,0.03094109698642667,-3.316050116164324,-0.49068151943531907,2.913631788541136,0.519673788815514,2.9449333585870283,1.4701386208894467,4.9649816367906885,0.7954573549992149,0.06646789140147569,-1.5114288079606972,-1.9419000468210974,1.6924385645713318,-8.254151173756314,-0.5370117352675688,-0.8376366574159906,4.089772188450012,-1.2541949815709295,-1.8526472459653818,2.992964289119189,-0.8610553113315323,-5.0106298583967,0.653872151205614,-2.121427925544351,0.5123477499235258,-0.5314805297375566,0.390715643453389,-0.15689059929209348,-7.505031337456845,-0.139979453228532,-0.3303602146496118,4.377480948227397,-0.5569058784360237,-0.18746771123713074,-5.549839317290184,5.368542870026599,-2.5505896093748937,0.5900446990483637,-8.473002697598181,1.274439454005629,7.194650780239614],\"type\":\"scatter\"},{\"marker\":{\"color\":\"rgba(0, 255, 200, 0.8)\"},\"mode\":\"markers\",\"name\":\"Cluster 2\",\"x\":[-4.46258785864747,-5.293632126519754,-12.294455040532107,-3.3547651586320133,-4.253973898687036,-4.93033647653932,-3.9231319599763763,-8.30735802601188,-8.076248328488868,-3.5548452003733257,-6.766726174038686,-10.474386592322142,-8.064077923327629,-7.240604268501328,-5.806742489546822,-7.6833386255752965,-10.768046802216697,-7.383286465627807,-11.171582340728445,-6.435292171881611,-4.8905527009799545,-10.483675087435984,-5.618698547285144,-3.9936401702196975,-4.591866291154509,-11.209796135787391,-4.902557454997205,-3.639864815110744,-9.906089847566063,-5.44040166467997,-5.485882149449126,-3.0999528034677173,-7.755593449987747,-3.6114663635189945,-4.480533781753996,-8.872014114539583,-7.683037093936322,-8.684140598953318,-5.388701554568617,-6.7194184941672885,-10.954664911400831,-3.8071569130884177,-4.5487683814095545,-6.030182357745473,-5.956586227243545,-10.456671664438815,-4.390265917958192,-12.995578833886709,-7.423355438742961,-2.431767788120407,-6.598576541190464,-8.52988531899235,-9.144101943405424,-2.9766750035062604,-4.436657333152643,-11.801602922325243,-12.88759310189613,-12.592499408346892,-9.996255502533351,-3.344350043510732,-4.802884001246489,-5.935137300601249,-7.599777484896375,-2.7392499003737267,-4.379388332563024,-3.2712711342299214,-6.5768087453259065,-2.84555914791141,-2.727180350891905,-3.254664196400621,-3.582228867918383,-7.245954671906142,-4.151055818724376,-7.960541146965238,-4.985664874401008,-11.415623284931229,-5.362256748164122,-4.401451299616154,-4.8105045951001175,-7.860536327904189,-11.965295946724751,-3.146740868177796,-10.53022744126535,-3.688110060604136,-5.089563265357872,-9.933539955368575,-5.759464512588308,-6.423837282309819,-6.7134844292838975,-4.011874231193465,-10.64250175211788,-5.981469252339394,-5.2134527849179095,-4.759562749098865,-5.365131428167928,-5.752938386501889,-8.809910286973382,-7.002131738097762,-4.531320021128603,-5.0587687740856335,-3.2944479719599866,-3.7997596616374607,-3.060746274454442,-2.883454073748092,-4.16799172792381,-11.51199558041192,-10.297714383534093,-4.4018129142106295,-4.650664441890104,-9.343661823614159,-4.6731728013784535,-10.517150818187888,-8.616003437986675,-4.36583661413746,-8.475852132593541,-4.855573429985085,-6.179377638499047,-12.716549866541845,-8.85203082603559,-11.746475268159228,-11.69370568068448,-3.9817649362470346,-4.110983905297766,-3.4597080365484576,-7.285673103386295,-2.761569952380559,-6.111792791305206,-7.739078618839091,-2.8914333418847407,-3.44773059374728,-5.271269329140731,-11.120509932986447,-9.342268145020238,-6.3447725551403735,-11.300405955782118,-4.709002243823742,-2.8267290569810246,-2.8959784406832765,-3.4133760848103107,-2.685255228908938,-6.1714294264243845,-6.390029697506858,-6.666238606809004,-3.691041076474141,-11.046167906852459,-2.7838329193738756,-7.553510328622801,-9.825511478005783,-3.8099293842637105,-3.3917217696993855,-3.504196204748388,-3.5208963485850235,-2.900721836998582,-5.162382768872723,-5.071142246903243,-12.43918408570473],\"y\":[-0.47064206354184024,-1.895483797544438,-1.156427356763053,0.1385336323681423,-0.43360785209121755,-4.9051966835605105,-2.6223081170395677,3.7875856617510513,-4.270994475091913,-0.7246337436072366,-0.2588924356004288,9.02058393889046,-1.9554607918679967,0.339884457422592,0.2980555393616447,0.03492651795330528,3.1911160682580593,-3.935494542461735,-0.5023038439077209,-0.11616475017596592,-0.003907531346702845,4.952671743087377,-2.0546594176787716,7.209452328035516,7.713126854303567,5.247142480574409,-4.932995808144381,-0.9254842992752721,-0.5502822708820987,-1.9848855307170832,-2.7827167190416113,-1.2753067068049433,-0.8527731430436547,-3.384990961593424,-0.438299861683063,-3.9215029546192586,-2.4858671554588603,6.843665492892669,8.099792387000964,-2.7063709490141132,-1.88006840215996,-0.13156474575829094,-6.306395295530433,3.557868595522441,1.9090128551406982,-4.912974062150136,1.2114761035938575,-3.2320363733243527,-3.926976606381168,-3.364310126044587,1.5323640514801184,1.9736624651997017,-5.071087561403787,2.0621633673335893,6.917314122178114,-1.662682515850061,-3.9785289560464974,-1.3404601071266276,-1.3037338607305147,-3.1044616184881786,6.7806845439882535,0.2243067935942973,-0.7344740539832321,-5.298590293232412,-2.982804980673083,-1.4252854457071333,-5.8657125536275645,-3.675159901549136,-0.28900843140317556,1.7928526749199714,-2.442538958572724,-5.596340226113346,-3.538169953462634,-0.25873845307317384,2.5352357644427026,-6.322926839733896,0.622427206516597,1.2569267721555761,-0.6721122393579506,-0.09343366549133492,1.4570730950186432,-3.931120847516224,9.089001921670086,2.434080317533453,-0.9042489195468252,-3.7786140250757807,-2.128010689793832,-3.374921728998824,1.4122483605872331,0.614312165147137,-3.492131210834672,-0.6296637011489286,-0.9727683812959204,-0.6918488261301454,3.046255561566192,1.2003099564600128,-3.12743250657509,0.31759608835627373,-5.489357533268361,-3.3055905576554467,-3.1084364772938367,0.7742432578723158,-3.8265256048462835,-3.639084120628292,3.016806749498881,-2.3686960411505718,-5.700615515902681,-0.4858355730391275,-6.512077661564434,2.275002602499576,-2.3329579230095616,9.083928831560529,1.11539017292516,-2.9486783407670614,-7.079597395611874,5.0051443176478845,3.4317141223984624,-2.9784874088772693,5.898846975578324,-6.591466239569276,3.4560376659240246,6.366641158980407,7.9906015634983305,0.8978731099204629,6.017141014428428,-1.1913715890627739,0.9295648463039726,-2.590703677872394,-1.2973537961276698,0.9513863162938572,1.4534303870419183,-6.163509939855964,3.16476014507259,-4.974177834599066,-0.6240477789391538,2.7092074204220458,1.3475304269830397,-0.3431531295806908,1.7518436046636887,-0.35905465832134664,-2.4789764718777776,0.7749797567920039,7.299839101463208,2.409464467047828,2.046893284674144,2.1590976254832706,0.03900285572843553,2.9310262809580587,3.1885879847198084,-3.9426703852648686,-3.188790261551276,6.56735586220568,-5.365265991930752,-1.7369871225616722,-0.8973913913900263,-0.40138967674206333],\"type\":\"scatter\"}],                        {\"template\":{\"data\":{\"barpolar\":[{\"marker\":{\"line\":{\"color\":\"#E5ECF6\",\"width\":0.5},\"pattern\":{\"fillmode\":\"overlay\",\"size\":10,\"solidity\":0.2}},\"type\":\"barpolar\"}],\"bar\":[{\"error_x\":{\"color\":\"#2a3f5f\"},\"error_y\":{\"color\":\"#2a3f5f\"},\"marker\":{\"line\":{\"color\":\"#E5ECF6\",\"width\":0.5},\"pattern\":{\"fillmode\":\"overlay\",\"size\":10,\"solidity\":0.2}},\"type\":\"bar\"}],\"carpet\":[{\"aaxis\":{\"endlinecolor\":\"#2a3f5f\",\"gridcolor\":\"white\",\"linecolor\":\"white\",\"minorgridcolor\":\"white\",\"startlinecolor\":\"#2a3f5f\"},\"baxis\":{\"endlinecolor\":\"#2a3f5f\",\"gridcolor\":\"white\",\"linecolor\":\"white\",\"minorgridcolor\":\"white\",\"startlinecolor\":\"#2a3f5f\"},\"type\":\"carpet\"}],\"choropleth\":[{\"colorbar\":{\"outlinewidth\":0,\"ticks\":\"\"},\"type\":\"choropleth\"}],\"contourcarpet\":[{\"colorbar\":{\"outlinewidth\":0,\"ticks\":\"\"},\"type\":\"contourcarpet\"}],\"contour\":[{\"colorbar\":{\"outlinewidth\":0,\"ticks\":\"\"},\"colorscale\":[[0.0,\"#0d0887\"],[0.1111111111111111,\"#46039f\"],[0.2222222222222222,\"#7201a8\"],[0.3333333333333333,\"#9c179e\"],[0.4444444444444444,\"#bd3786\"],[0.5555555555555556,\"#d8576b\"],[0.6666666666666666,\"#ed7953\"],[0.7777777777777778,\"#fb9f3a\"],[0.8888888888888888,\"#fdca26\"],[1.0,\"#f0f921\"]],\"type\":\"contour\"}],\"heatmapgl\":[{\"colorbar\":{\"outlinewidth\":0,\"ticks\":\"\"},\"colorscale\":[[0.0,\"#0d0887\"],[0.1111111111111111,\"#46039f\"],[0.2222222222222222,\"#7201a8\"],[0.3333333333333333,\"#9c179e\"],[0.4444444444444444,\"#bd3786\"],[0.5555555555555556,\"#d8576b\"],[0.6666666666666666,\"#ed7953\"],[0.7777777777777778,\"#fb9f3a\"],[0.8888888888888888,\"#fdca26\"],[1.0,\"#f0f921\"]],\"type\":\"heatmapgl\"}],\"heatmap\":[{\"colorbar\":{\"outlinewidth\":0,\"ticks\":\"\"},\"colorscale\":[[0.0,\"#0d0887\"],[0.1111111111111111,\"#46039f\"],[0.2222222222222222,\"#7201a8\"],[0.3333333333333333,\"#9c179e\"],[0.4444444444444444,\"#bd3786\"],[0.5555555555555556,\"#d8576b\"],[0.6666666666666666,\"#ed7953\"],[0.7777777777777778,\"#fb9f3a\"],[0.8888888888888888,\"#fdca26\"],[1.0,\"#f0f921\"]],\"type\":\"heatmap\"}],\"histogram2dcontour\":[{\"colorbar\":{\"outlinewidth\":0,\"ticks\":\"\"},\"colorscale\":[[0.0,\"#0d0887\"],[0.1111111111111111,\"#46039f\"],[0.2222222222222222,\"#7201a8\"],[0.3333333333333333,\"#9c179e\"],[0.4444444444444444,\"#bd3786\"],[0.5555555555555556,\"#d8576b\"],[0.6666666666666666,\"#ed7953\"],[0.7777777777777778,\"#fb9f3a\"],[0.8888888888888888,\"#fdca26\"],[1.0,\"#f0f921\"]],\"type\":\"histogram2dcontour\"}],\"histogram2d\":[{\"colorbar\":{\"outlinewidth\":0,\"ticks\":\"\"},\"colorscale\":[[0.0,\"#0d0887\"],[0.1111111111111111,\"#46039f\"],[0.2222222222222222,\"#7201a8\"],[0.3333333333333333,\"#9c179e\"],[0.4444444444444444,\"#bd3786\"],[0.5555555555555556,\"#d8576b\"],[0.6666666666666666,\"#ed7953\"],[0.7777777777777778,\"#fb9f3a\"],[0.8888888888888888,\"#fdca26\"],[1.0,\"#f0f921\"]],\"type\":\"histogram2d\"}],\"histogram\":[{\"marker\":{\"pattern\":{\"fillmode\":\"overlay\",\"size\":10,\"solidity\":0.2}},\"type\":\"histogram\"}],\"mesh3d\":[{\"colorbar\":{\"outlinewidth\":0,\"ticks\":\"\"},\"type\":\"mesh3d\"}],\"parcoords\":[{\"line\":{\"colorbar\":{\"outlinewidth\":0,\"ticks\":\"\"}},\"type\":\"parcoords\"}],\"pie\":[{\"automargin\":true,\"type\":\"pie\"}],\"scatter3d\":[{\"line\":{\"colorbar\":{\"outlinewidth\":0,\"ticks\":\"\"}},\"marker\":{\"colorbar\":{\"outlinewidth\":0,\"ticks\":\"\"}},\"type\":\"scatter3d\"}],\"scattercarpet\":[{\"marker\":{\"colorbar\":{\"outlinewidth\":0,\"ticks\":\"\"}},\"type\":\"scattercarpet\"}],\"scattergeo\":[{\"marker\":{\"colorbar\":{\"outlinewidth\":0,\"ticks\":\"\"}},\"type\":\"scattergeo\"}],\"scattergl\":[{\"marker\":{\"colorbar\":{\"outlinewidth\":0,\"ticks\":\"\"}},\"type\":\"scattergl\"}],\"scattermapbox\":[{\"marker\":{\"colorbar\":{\"outlinewidth\":0,\"ticks\":\"\"}},\"type\":\"scattermapbox\"}],\"scatterpolargl\":[{\"marker\":{\"colorbar\":{\"outlinewidth\":0,\"ticks\":\"\"}},\"type\":\"scatterpolargl\"}],\"scatterpolar\":[{\"marker\":{\"colorbar\":{\"outlinewidth\":0,\"ticks\":\"\"}},\"type\":\"scatterpolar\"}],\"scatter\":[{\"fillpattern\":{\"fillmode\":\"overlay\",\"size\":10,\"solidity\":0.2},\"type\":\"scatter\"}],\"scatterternary\":[{\"marker\":{\"colorbar\":{\"outlinewidth\":0,\"ticks\":\"\"}},\"type\":\"scatterternary\"}],\"surface\":[{\"colorbar\":{\"outlinewidth\":0,\"ticks\":\"\"},\"colorscale\":[[0.0,\"#0d0887\"],[0.1111111111111111,\"#46039f\"],[0.2222222222222222,\"#7201a8\"],[0.3333333333333333,\"#9c179e\"],[0.4444444444444444,\"#bd3786\"],[0.5555555555555556,\"#d8576b\"],[0.6666666666666666,\"#ed7953\"],[0.7777777777777778,\"#fb9f3a\"],[0.8888888888888888,\"#fdca26\"],[1.0,\"#f0f921\"]],\"type\":\"surface\"}],\"table\":[{\"cells\":{\"fill\":{\"color\":\"#EBF0F8\"},\"line\":{\"color\":\"white\"}},\"header\":{\"fill\":{\"color\":\"#C8D4E3\"},\"line\":{\"color\":\"white\"}},\"type\":\"table\"}]},\"layout\":{\"annotationdefaults\":{\"arrowcolor\":\"#2a3f5f\",\"arrowhead\":0,\"arrowwidth\":1},\"autotypenumbers\":\"strict\",\"coloraxis\":{\"colorbar\":{\"outlinewidth\":0,\"ticks\":\"\"}},\"colorscale\":{\"diverging\":[[0,\"#8e0152\"],[0.1,\"#c51b7d\"],[0.2,\"#de77ae\"],[0.3,\"#f1b6da\"],[0.4,\"#fde0ef\"],[0.5,\"#f7f7f7\"],[0.6,\"#e6f5d0\"],[0.7,\"#b8e186\"],[0.8,\"#7fbc41\"],[0.9,\"#4d9221\"],[1,\"#276419\"]],\"sequential\":[[0.0,\"#0d0887\"],[0.1111111111111111,\"#46039f\"],[0.2222222222222222,\"#7201a8\"],[0.3333333333333333,\"#9c179e\"],[0.4444444444444444,\"#bd3786\"],[0.5555555555555556,\"#d8576b\"],[0.6666666666666666,\"#ed7953\"],[0.7777777777777778,\"#fb9f3a\"],[0.8888888888888888,\"#fdca26\"],[1.0,\"#f0f921\"]],\"sequentialminus\":[[0.0,\"#0d0887\"],[0.1111111111111111,\"#46039f\"],[0.2222222222222222,\"#7201a8\"],[0.3333333333333333,\"#9c179e\"],[0.4444444444444444,\"#bd3786\"],[0.5555555555555556,\"#d8576b\"],[0.6666666666666666,\"#ed7953\"],[0.7777777777777778,\"#fb9f3a\"],[0.8888888888888888,\"#fdca26\"],[1.0,\"#f0f921\"]]},\"colorway\":[\"#636efa\",\"#EF553B\",\"#00cc96\",\"#ab63fa\",\"#FFA15A\",\"#19d3f3\",\"#FF6692\",\"#B6E880\",\"#FF97FF\",\"#FECB52\"],\"font\":{\"color\":\"#2a3f5f\"},\"geo\":{\"bgcolor\":\"white\",\"lakecolor\":\"white\",\"landcolor\":\"#E5ECF6\",\"showlakes\":true,\"showland\":true,\"subunitcolor\":\"white\"},\"hoverlabel\":{\"align\":\"left\"},\"hovermode\":\"closest\",\"mapbox\":{\"style\":\"light\"},\"paper_bgcolor\":\"white\",\"plot_bgcolor\":\"#E5ECF6\",\"polar\":{\"angularaxis\":{\"gridcolor\":\"white\",\"linecolor\":\"white\",\"ticks\":\"\"},\"bgcolor\":\"#E5ECF6\",\"radialaxis\":{\"gridcolor\":\"white\",\"linecolor\":\"white\",\"ticks\":\"\"}},\"scene\":{\"xaxis\":{\"backgroundcolor\":\"#E5ECF6\",\"gridcolor\":\"white\",\"gridwidth\":2,\"linecolor\":\"white\",\"showbackground\":true,\"ticks\":\"\",\"zerolinecolor\":\"white\"},\"yaxis\":{\"backgroundcolor\":\"#E5ECF6\",\"gridcolor\":\"white\",\"gridwidth\":2,\"linecolor\":\"white\",\"showbackground\":true,\"ticks\":\"\",\"zerolinecolor\":\"white\"},\"zaxis\":{\"backgroundcolor\":\"#E5ECF6\",\"gridcolor\":\"white\",\"gridwidth\":2,\"linecolor\":\"white\",\"showbackground\":true,\"ticks\":\"\",\"zerolinecolor\":\"white\"}},\"shapedefaults\":{\"line\":{\"color\":\"#2a3f5f\"}},\"ternary\":{\"aaxis\":{\"gridcolor\":\"white\",\"linecolor\":\"white\",\"ticks\":\"\"},\"baxis\":{\"gridcolor\":\"white\",\"linecolor\":\"white\",\"ticks\":\"\"},\"bgcolor\":\"#E5ECF6\",\"caxis\":{\"gridcolor\":\"white\",\"linecolor\":\"white\",\"ticks\":\"\"}},\"title\":{\"x\":0.05},\"xaxis\":{\"automargin\":true,\"gridcolor\":\"white\",\"linecolor\":\"white\",\"ticks\":\"\",\"title\":{\"standoff\":15},\"zerolinecolor\":\"white\",\"zerolinewidth\":2},\"yaxis\":{\"automargin\":true,\"gridcolor\":\"white\",\"linecolor\":\"white\",\"ticks\":\"\",\"title\":{\"standoff\":15},\"zerolinecolor\":\"white\",\"zerolinewidth\":2}}},\"title\":{\"text\":\"Visualizing Clusters in Two Dimensions Using PCA\"},\"xaxis\":{\"ticklen\":5,\"title\":{\"text\":\"PC1\"},\"zeroline\":false},\"yaxis\":{\"ticklen\":5,\"title\":{\"text\":\"PC2\"},\"zeroline\":false}},                        {\"responsive\": true}                    ).then(function(){\n",
       "                            \n",
       "var gd = document.getElementById('e78e327d-5890-4916-844c-1680fae95d7e');\n",
       "var x = new MutationObserver(function (mutations, observer) {{\n",
       "        var display = window.getComputedStyle(gd).display;\n",
       "        if (!display || display === 'none') {{\n",
       "            console.log([gd, 'removed!']);\n",
       "            Plotly.purge(gd);\n",
       "            observer.disconnect();\n",
       "        }}\n",
       "}});\n",
       "\n",
       "// Listen for the removal of the full notebook cells\n",
       "var notebookContainer = gd.closest('#notebook-container');\n",
       "if (notebookContainer) {{\n",
       "    x.observe(notebookContainer, {childList: true});\n",
       "}}\n",
       "\n",
       "// Listen for the clearing of the current output cell\n",
       "var outputEl = gd.closest('.output');\n",
       "if (outputEl) {{\n",
       "    x.observe(outputEl, {childList: true});\n",
       "}}\n",
       "\n",
       "                        })                };                });            </script>        </div>"
      ]
     },
     "metadata": {},
     "output_type": "display_data"
    }
   ],
   "source": [
    "#Instructions for building the 2-D plot\n",
    "\n",
    "#trace1 is for 'Cluster 0'\n",
    "trace1 = go.Scatter(\n",
    "                    x = cluster0[\"PC1_2d\"],\n",
    "                    y = cluster0[\"PC2_2d\"],\n",
    "                    mode = \"markers\",\n",
    "                    name = \"Cluster 0\",\n",
    "                    marker = dict(color = 'rgba(255, 128, 255, 0.8)'),\n",
    "                    text = None)\n",
    "\n",
    "#trace2 is for 'Cluster 1'\n",
    "trace2 = go.Scatter(\n",
    "                    x = cluster1[\"PC1_2d\"],\n",
    "                    y = cluster1[\"PC2_2d\"],\n",
    "                    mode = \"markers\",\n",
    "                    name = \"Cluster 1\",\n",
    "                    marker = dict(color = 'rgba(255, 128, 2, 0.8)'),\n",
    "                    text = None)\n",
    "\n",
    "#trace3 is for 'Cluster 2'\n",
    "trace3 = go.Scatter(\n",
    "                    x = cluster2[\"PC1_2d\"],\n",
    "                    y = cluster2[\"PC2_2d\"],\n",
    "                    mode = \"markers\",\n",
    "                    name = \"Cluster 2\",\n",
    "                    marker = dict(color = 'rgba(0, 255, 200, 0.8)'),\n",
    "                    text = None)\n",
    "\n",
    "data = [trace1, trace2, trace3]\n",
    "\n",
    "title = \"Visualizing Clusters in Two Dimensions Using PCA\"\n",
    "\n",
    "layout = dict(title = title,\n",
    "              xaxis= dict(title= 'PC1',ticklen= 5,zeroline= False),\n",
    "              yaxis= dict(title= 'PC2',ticklen= 5,zeroline= False)\n",
    "             )\n",
    "\n",
    "fig = dict(data = data, layout = layout)\n",
    "\n",
    "iplot(fig)"
   ]
  },
  {
   "cell_type": "code",
   "execution_count": 213,
   "id": "9f8d231b",
   "metadata": {},
   "outputs": [
    {
     "data": {
      "application/vnd.plotly.v1+json": {
       "config": {
        "linkText": "Export to plot.ly",
        "plotlyServerURL": "https://plot.ly",
        "showLink": false
       },
       "data": [
        {
         "marker": {
          "color": "rgba(255, 128, 255, 0.8)"
         },
         "mode": "markers",
         "name": "Cluster 0",
         "type": "scatter3d",
         "x": [
          -1.88309455249382,
          3.7259840516666243,
          3.2892906231831005,
          2.9814195173831264,
          4.946979624481865,
          -1.0390484283980383,
          0.3306750402737237,
          3.65099185087396,
          -2.2548592521008923,
          -1.5950191582177893,
          0.4881440897249781,
          1.6299621334102743,
          1.243801898985797,
          2.9254451087571876,
          3.266380901670053,
          3.566205006705802,
          1.486550023422515,
          3.492586826111509,
          1.9264572160044904,
          -1.8517203631047698,
          3.617669405936441,
          -2.062760123289113,
          -2.1812334186860767,
          4.35564835067722,
          -0.602099633786696,
          -1.9021747484283211,
          1.3973516369901062,
          -1.9646401905889914,
          0.6710258761894423,
          0.07870957888152394,
          1.9150023264326999,
          4.185446537774587,
          4.532942872195828,
          1.187661839215876,
          -1.0783097216125712,
          1.1100441884384848,
          2.4236340309186697,
          0.7741048947870164,
          1.9604381624024938,
          1.4099360292502594,
          3.004462795430458,
          4.392473726022564,
          -1.2639241741915728,
          -0.6180919117059646,
          0.9983648844922757,
          2.90037909493406,
          0.16540732286472776,
          3.527692000820141,
          1.4865250330187005,
          3.0781487118007744,
          4.322872829873708,
          -0.8131767497044503,
          3.7943771982602845,
          1.8045184035636435,
          -0.6693602797500066,
          -1.6517441749848565,
          3.612760300846618,
          2.0887612743191406,
          -2.248855679243859,
          0.8417248345325424,
          1.1139462199326724,
          -0.6747106831548197,
          -2.300320078474501,
          0.9322645270544337,
          2.3047029777568913,
          -2.317525437957233,
          1.0915536620102122,
          2.039045131807125,
          3.1517134369664035,
          1.1761148429634403,
          0.0886958900035591,
          1.880370656761377,
          -2.1740705825972633,
          3.964573679154652,
          0.38683243762693414,
          0.4896386816288473,
          -0.5384351233334876,
          -0.1198532722489163,
          4.003902088646016,
          2.1255622787598667,
          -0.2672197153507511,
          -0.3976691580303217,
          1.760154436654058,
          0.6718726306493612,
          -1.0105952834895866,
          -0.6652729387162872,
          3.486803655345696,
          3.137401679989732,
          -0.0797054903982633,
          -2.2632986719425587,
          -0.8917069757000184,
          0.312066999375884,
          0.6404581474588216,
          -0.48121787574911584,
          1.2277668756943187,
          0.8340186906405525,
          0.43313700726445215,
          3.368827922774303,
          2.710310354718599,
          -0.08889312983269243,
          1.3591848824273367,
          -2.402113930126534,
          2.9582206295606985,
          -0.26677370452668936,
          3.5385024699384795,
          2.0406745757638496,
          3.2129758997114806,
          -2.877970113808992,
          2.9567223481980567,
          -2.7937729391470523,
          4.1124400767788725,
          -0.18640605544330674,
          3.6813402736916037,
          2.3787979666029644,
          -1.3127793648425368,
          0.5101697010446974,
          -1.4699289255723322,
          4.300515364502934,
          1.4592311513420286,
          3.3737870086717576,
          1.0740341489627343,
          1.3463363142616223,
          4.398477298879596,
          1.8976384200118677,
          -0.07129106096041368,
          1.8525321717629581,
          2.436213091170555,
          0.5859351086854975,
          -1.4472823515227125,
          3.6005725581020958,
          2.340132353696052,
          1.6071248601823227,
          1.5340162479886261,
          0.1206002854425335,
          -1.3004480178979425,
          1.8252156204947305,
          -0.02532311775694267,
          2.578021222621042,
          2.2714429365871323,
          -2.4081175029835666,
          1.6706995847671449,
          2.61786979364498,
          2.9024094835303798,
          -2.5504030505944173,
          -2.1473960733396957,
          -1.74372697829366,
          4.269467827915138,
          -0.12861156131284585,
          0.7609985687966727,
          2.323689970832492,
          1.4990797223659662,
          3.8706669313280906,
          3.026880343756733,
          0.010499969629780422,
          2.9637016491883426,
          3.95911470961937,
          1.9826596795421716,
          -0.28860991218664805,
          -0.26628085421018854,
          1.862340279794734,
          4.193631810730617,
          -0.29332702257956883,
          -1.282893412298779,
          3.1747490621932113,
          2.2905481229254363,
          4.0381722013533965,
          3.9781354420975545,
          -1.4192205241216214,
          0.9546897282012334,
          1.65275366166062,
          -1.8582037438189785,
          -1.606852942336812,
          -0.4154464320508754,
          -1.4870037233143192,
          2.2998336777278245,
          -1.1445086006635443,
          0.819862540290528,
          0.45290541296414877,
          4.025227490017341,
          -1.1878226887313654,
          2.6129280453308166,
          -0.407885921152748,
          -2.1355796268039637,
          0.8187266226696784,
          2.1524898333329916,
          3.2930904458487724,
          -2.782830558287311,
          -2.459900771436471,
          0.635041923295749,
          -0.7206637403457338,
          0.8226820519619961,
          3.2906843017770258,
          3.0228601189998425,
          2.522660181535014,
          -2.3383782669068003,
          -1.9014317931077158,
          3.232476440046843,
          3.7425362961792263,
          0.8232967118720287,
          3.2432531697625984,
          -1.4029200294060098,
          -0.2666424688046627,
          3.606737069594038,
          0.012092000222561574,
          -0.8624617696483505
         ],
         "y": [
          1.028854343200089,
          -6.203383887622105,
          0.840523369174217,
          -5.027190984155442,
          0.23810019430546545,
          -2.5782959247915245,
          4.787385974899597,
          -0.5472983351308818,
          2.4560083167031275,
          1.3113006635349393,
          6.641880576299233,
          -5.105220084109215,
          0.4641683488150122,
          -4.337609000430238,
          0.8410533820088661,
          -5.49329402454646,
          -0.22502342284966484,
          3.5312010195597097,
          -0.7401506179611756,
          -2.212223930426629,
          -2.200760426122404,
          4.230973062982492,
          0.7857402920631776,
          -0.1454654625154261,
          -2.382701765023274,
          1.0178769722520518,
          -1.9119734003513296,
          -1.518955820986821,
          1.6762972324283973,
          -1.0682527761781284,
          2.5186063608616824,
          -3.546607368049683,
          0.7559009428097448,
          3.7673049261139813,
          1.4435973839805902,
          0.2891999405012427,
          2.789694229730786,
          0.14124297105852743,
          1.6334393489110417,
          5.572635572019006,
          -2.7228759516231564,
          2.344818430857829,
          5.6481768940439805,
          2.667498955001717,
          -1.3492248349016875,
          -1.0701540929969844,
          1.4394685426476765,
          3.4908708944550138,
          -4.386673572166769,
          -0.12958795765623576,
          -5.148371750927943,
          -3.2723195068221673,
          6.131206740909307,
          -4.206374400865276,
          1.0463790658689736,
          -3.6753138840763926,
          1.9076652499123632,
          -8.932726204978207,
          2.4720587777607204,
          -2.2590004357461955,
          1.1954292164052693,
          -4.889845617666963,
          -0.8204748206633369,
          -3.108605859623234,
          -3.8873151413532203,
          2.4308242477482516,
          4.384911260888196,
          -3.1975933568538943,
          3.330019576834658,
          2.0699932494809965,
          -4.359243216298535,
          -2.4227716367132315,
          5.006760475244691,
          2.8920465480845254,
          -1.7083274725484894,
          -1.6793940045441418,
          0.2779441860539725,
          -1.1940572289972855,
          -0.33542825454885045,
          0.21927207101229793,
          -6.257315063383152,
          0.3512954581690332,
          -8.255368755821872,
          5.915498972422406,
          -0.8975647220507819,
          -3.139598200842699,
          -1.4751501148238173,
          5.790103705334927,
          0.5530069137287342,
          3.341222782001233,
          -1.6766882397227623,
          -6.721681119074395,
          -6.591800328480106,
          -2.2251233288145875,
          -1.9417638199159828,
          7.69070499844536,
          -0.11901977243987548,
          -5.769762849863983,
          -1.0626617597756662,
          -6.20895346067967,
          0.6234837697234744,
          -0.1298328112688328,
          0.6652972879822812,
          -0.3957271373877601,
          -1.497828695950665,
          0.8933336065145597,
          0.008206438432789922,
          4.601985608274581,
          0.6544761109429389,
          5.441292606355169,
          2.208937063667049,
          0.4550872444755139,
          -2.29324395442383,
          3.721805652989079,
          -0.32193314965438635,
          -4.930665911737437,
          2.9335662373190465,
          -1.8569838371552507,
          -1.8624350527835931,
          -1.5548882272645406,
          6.240509392973237,
          2.992483205973318,
          2.3608688919154233,
          -0.6965897654107693,
          -4.493857700886476,
          4.164836001198121,
          3.6340011037420807,
          4.148082571107476,
          0.4672040090543452,
          2.784708436837565,
          -3.000713711660158,
          2.330030533223214,
          0.6722666447003758,
          3.06617571473722,
          0.6370993272585579,
          3.2413492923713725,
          -3.6073888103757765,
          -1.2053967067918863,
          -0.5632962926306919,
          -0.14588327232642603,
          0.748532749951797,
          3.77638603045348,
          0.7123029865036962,
          3.9403898870847835,
          -1.6027544512152694,
          4.395510506317447,
          -5.981218694504018,
          5.404527779862103,
          0.16772834542629234,
          6.171937427666358,
          3.119347684461773,
          2.8018735223336315,
          -1.7507078467889783,
          -2.7746980607083964,
          -2.6309224361563777,
          -1.1873730315012425,
          0.9341937444539042,
          -3.8994255372637086,
          2.937955332066699,
          0.007728929155924887,
          3.8512279573144084,
          5.347468248548226,
          -1.1165929355367168,
          -1.719892410099276,
          3.6093312276344487,
          -3.6537965469797076,
          5.383412852774274,
          0.42658515085859217,
          5.217789264677163,
          0.7808749518105749,
          1.9155883120755122,
          -0.49711177749885754,
          2.790388574684513,
          0.5433957965545873,
          -3.8600460296039993,
          3.9982611279929396,
          5.0799948685881375,
          0.7863907575384456,
          -2.7738113656998538,
          -1.004512621237215,
          -3.631065462295077,
          5.979629339423849,
          3.398234859967643,
          3.606742341584683,
          0.13533364000972986,
          0.8504282696497389,
          1.3275051071197883,
          2.2749536728107986,
          -3.2150870193098897,
          -0.6766466925535355,
          -1.4541470162972865,
          1.7302809117472306,
          3.229687926061432,
          -5.280841427571997,
          -0.14182275453870102,
          -0.6601535158776296,
          2.4351296191485736,
          -7.125483632053893,
          6.814191824354808,
          0.9348967134869561,
          3.0862654098143016,
          1.1951929868719957,
          4.3702667378967055,
          0.5003981122631126,
          0.1030068379530934
         ],
         "z": [
          0.21682655517982696,
          0.9629311955576841,
          -0.5077338880365301,
          0.9756253341258475,
          2.330787411689702,
          2.870625638126535,
          -3.571904617972399,
          -1.3686390318478054,
          1.1451060342913895,
          1.2209413856557976,
          -0.6656390167549688,
          3.5177704393482867,
          0.3250784324889388,
          -0.35804283780513096,
          -0.469261278254608,
          -0.23003524431108124,
          -1.7388070070146229,
          -2.1353334535746473,
          0.4121397686781031,
          -0.15482125437733932,
          0.09259788450056687,
          -3.6399358062374847,
          -0.7199139399958577,
          0.47060007267963183,
          0.46214541149253335,
          0.26899879730946824,
          -0.23028647196115157,
          -1.4102734061218523,
          -3.026817962933074,
          -2.181220923684587,
          0.7746769553895079,
          3.4249485107611823,
          0.1573979484483562,
          0.7293217518456105,
          -1.254528876339914,
          3.59393785309425,
          -1.6361552421979224,
          2.6789344505381774,
          -2.3478475276730975,
          3.5561684859762317,
          -1.801134469941203,
          2.0983209428943197,
          5.56002320693306,
          -0.524033407185888,
          -2.440945698084077,
          -7.480261167368301,
          -0.5937037252922391,
          -2.206009265460558,
          -5.1910445657716355,
          -0.17283166173918277,
          1.5071353854312826,
          0.7927409523526694,
          3.660641608060237,
          -4.259108008004501,
          0.9541366643735488,
          2.28148980050127,
          3.5209829886589676,
          -2.3094023306110256,
          1.1380260874086308,
          5.364391503227112,
          -0.853589147186943,
          -1.1106126652891306,
          0.8153929585969834,
          -0.9889410811509984,
          0.8857907364911368,
          1.1626600984154638,
          -0.5078244681913882,
          2.9881487857766214,
          -3.0741893107293268,
          2.1873251453306386,
          5.023659077929628,
          1.8053351681587422,
          2.6900045849598166,
          -0.06678572656392363,
          3.246407804978755,
          0.019585094110032668,
          2.101871842568064,
          1.167057364007533,
          -0.48933497762811,
          0.13678934531573975,
          -2.0030711194947846,
          -1.200693240964162,
          -0.1217483142563168,
          0.5033143210199768,
          1.3812295817423421,
          -2.5521431649808934,
          -1.145921112032882,
          1.8368115168530925,
          -0.2233647740275594,
          4.243917029182757,
          2.588516562871841,
          4.373587969641969,
          -2.294027909298225,
          -2.790223825461677,
          3.068132573629076,
          -4.250634470532316,
          1.7897771879901778,
          -1.2843676024329116,
          3.433440623239979,
          2.1551062111537416,
          4.655028863108411,
          -0.4413299937701507,
          -1.3945781505567814,
          -0.007566153600180235,
          -1.1348557747033394,
          -1.1513262699505584,
          -3.4726234838258616,
          0.9329668910656292,
          6.218230946938306,
          3.948297666944184,
          1.0906420124636815,
          2.9940649899306546,
          0.04841810433233697,
          -6.0787176575753525,
          -4.049172408366546,
          -0.4185338177696614,
          -0.32144545981980227,
          1.893985288159092,
          -0.2846500375490096,
          2.1917224109227083,
          -1.861146772941009,
          1.9121353694634888,
          2.0912409960115617,
          0.4079937307361053,
          -6.774413327675938,
          2.593034219884666,
          1.3772208191968496,
          1.925289769449447,
          2.386982495557827,
          -0.9037337564287432,
          3.95147800644292,
          -0.2183818198578158,
          1.2673284600021766,
          1.2754622869370063,
          -0.9269692202943683,
          -0.4962058907431429,
          3.8445312368359517,
          -0.8651171444803303,
          1.2969533552353527,
          -0.4342500468873918,
          -2.026586262102086,
          -1.939664805596106,
          -1.3516012172888936,
          -1.2691466329771806,
          1.9829365293219385,
          -2.693539740782249,
          -1.4962268201399709,
          1.9025841736038143,
          2.76941865495453,
          -1.2030948833388806,
          -1.3591976986647847,
          3.1732936450925564,
          1.3053384098202543,
          -0.7127434129582417,
          -1.7954272995548952,
          4.0589896968155355,
          -1.0421778482827253,
          2.8594649235500396,
          0.43159495768464234,
          -0.8525836534073836,
          -0.3732291989028679,
          5.229162359229861,
          0.46743830818750787,
          -2.0806309312455644,
          4.69701867186272,
          -0.8406461795147591,
          4.784203036665716,
          2.308927122866574,
          -1.6527863849403552,
          -2.0096531068910224,
          -4.270743469428495,
          -4.959730159058038,
          -3.880962056305971,
          2.407149173632235,
          0.8576315964553166,
          3.663449922251435,
          1.647005437146323,
          -2.7036019828782787,
          -5.347564335235722,
          -2.8532720595570193,
          1.8068009233560984,
          -3.5662904262869963,
          0.9410523317279479,
          -0.13147873261781742,
          0.0939730595430658,
          -0.44864234651934287,
          0.4674407067335558,
          -3.1201673609941243,
          -1.8974854457373225,
          2.39122151220073,
          0.914251888995588,
          2.5976967923197973,
          0.26391447364406034,
          3.3462538598909375,
          -0.48981645937559215,
          1.6451003940838296,
          1.3755920179582322,
          -2.159432640009705,
          0.21255488433731898,
          -0.36735345096474664,
          -3.564100454873076,
          1.7975437322081151,
          0.8489042733273273,
          -0.34990661232425363,
          1.2224071408531538
         ]
        },
        {
         "marker": {
          "color": "rgba(255, 128, 2, 0.8)"
         },
         "mode": "markers",
         "name": "Cluster 1",
         "type": "scatter3d",
         "x": [
          5.134604807261621,
          9.042828764602355,
          8.610229037602947,
          8.280361052584533,
          6.179216788983556,
          7.445684261131875,
          9.741606499084096,
          7.930020216088007,
          8.434588950444875,
          4.780625092126185,
          8.395355039330973,
          5.207430671226885,
          7.022138611640779,
          10.972159526312366,
          12.694198850740896,
          8.122166385395966,
          6.715654823984325,
          9.167211134478888,
          7.066007407421607,
          6.3259138788586595,
          12.358553435907876,
          6.519567624899276,
          8.696474355829599,
          8.957990167428948,
          14.761429284220698,
          6.6520551089956905,
          9.939094540842879,
          7.269063862979605,
          8.872669697071927,
          6.634014687511707,
          9.077676123855818,
          5.5325220823960715,
          8.496302756022285,
          8.192232143515518,
          16.3858937559499,
          10.158972691196773,
          7.502342837641487,
          6.696250426819307,
          6.07226611893441,
          14.367244095975908,
          18.84153024339838,
          13.74975082162575,
          16.22149286878148,
          8.251957268984517,
          12.85076645241553,
          4.946437412856928,
          11.38781801210407,
          11.912223910986963,
          6.566392426953925,
          7.297947454436799,
          8.786404720449724,
          5.002478937759694,
          5.248047187975244,
          13.54522420269903,
          10.846225479518445,
          5.606764967417732,
          9.983877207360452,
          8.571055209444543,
          4.8056440654531345,
          11.60227460628663,
          6.947666023766043,
          7.351107063900337,
          6.030735731449306,
          12.019368220525894,
          8.643611565495963,
          5.877027995121536,
          5.43608738314762,
          6.877708777294873,
          8.207187644926266,
          5.775364705210249,
          5.831245359214212,
          5.536453816803144,
          6.576809862887463,
          10.931791342370497,
          7.786622445741552,
          9.360342327290121,
          6.9338815379196665,
          15.442194455998136,
          9.734339809373886,
          5.401367223126481,
          7.662795329949277,
          7.7539093287058005,
          9.850057093045383,
          11.755527525161034,
          6.583360979377697,
          11.290152896857313,
          5.639124180310071,
          9.769616995676904,
          7.916906855665979,
          9.575605870871831
         ],
         "y": [
          0.2946297127846832,
          -3.933446231407837,
          -6.754654767014382,
          4.731221762673586,
          -0.6689218175216948,
          -0.8131555574941676,
          6.407298059578125,
          2.801205187382476,
          0.5965559403460045,
          0.11993364442740469,
          3.8831120437527313,
          -4.551770609891651,
          0.6270336685329618,
          -2.730888780676387,
          4.923036941837087,
          1.3621807792545149,
          1.328215383467507,
          -0.5312443002042831,
          0.6284206329279176,
          -8.014240688846819,
          -5.099940720484015,
          -3.780010559992895,
          -0.8384079499942317,
          -1.4823903328407824,
          8.744009061298891,
          -1.2519369825781803,
          -0.07002557373701461,
          -0.005991635494725678,
          0.12154475181389036,
          -1.2786760814927531,
          0.20069352641645355,
          -0.23094484044020583,
          9.776632826298574,
          3.007097772947177,
          -7.743213836208237,
          1.6771400479584793,
          2.6630324508889682,
          0.39030645772171296,
          4.244871470809225,
          -2.3382945230737806,
          -1.3133436672431456,
          4.74268526697781,
          -2.8435218679200878,
          0.5504263266326989,
          -1.6019080618161825,
          -0.5955180418488507,
          0.004994359532633326,
          -2.1916195109104546,
          0.4076424042047905,
          0.03094109698642667,
          -3.316050116164324,
          -0.49068151943531907,
          2.913631788541136,
          0.519673788815514,
          2.9449333585870283,
          1.4701386208894467,
          4.9649816367906885,
          0.7954573549992149,
          0.06646789140147569,
          -1.5114288079606972,
          -1.9419000468210974,
          1.6924385645713318,
          -8.254151173756314,
          -0.5370117352675688,
          -0.8376366574159906,
          4.089772188450012,
          -1.2541949815709295,
          -1.8526472459653818,
          2.992964289119189,
          -0.8610553113315323,
          -5.0106298583967,
          0.653872151205614,
          -2.121427925544351,
          0.5123477499235258,
          -0.5314805297375566,
          0.390715643453389,
          -0.15689059929209348,
          -7.505031337456845,
          -0.139979453228532,
          -0.3303602146496118,
          4.377480948227397,
          -0.5569058784360237,
          -0.18746771123713074,
          -5.549839317290184,
          5.368542870026599,
          -2.5505896093748937,
          0.5900446990483637,
          -8.473002697598181,
          1.274439454005629,
          7.194650780239614
         ],
         "z": [
          -1.0342633837182678,
          1.7390895228415229,
          -0.7614373926974222,
          -1.9605161431978038,
          -0.09808780930822993,
          0.5782700120014128,
          1.485259979043411,
          -1.412449591491255,
          -1.1354727654363213,
          -1.8826350364565971,
          -0.7626221089788142,
          -3.138833524273997,
          1.5346239451328025,
          -0.21098583581488525,
          1.877351993647636,
          0.9796724011182282,
          3.646995850241806,
          -1.1383136956761768,
          1.5015002201932195,
          0.36689202926481146,
          -0.12660478237036157,
          0.44699884573109455,
          1.201082814684962,
          -0.8018410548336253,
          -1.7727928094213734,
          2.0029627337290634,
          -2.6051648037099526,
          -0.5876104504054027,
          0.9642050011045212,
          2.0695944835468065,
          5.18839317265778,
          1.2073282438860236,
          1.2346769239043578,
          -0.48292800962569926,
          1.0660493164271276,
          -7.4005201139849275,
          -2.291694974089567,
          0.5628050105337534,
          2.182401469160444,
          -3.6782974944469315,
          3.170312408775107,
          -1.713097004319899,
          -4.150485105608657,
          2.1626466662313213,
          -2.1533603386755282,
          -0.742140452640055,
          2.2798485188909794,
          2.586854513449522,
          3.927534510951296,
          -0.5877710979006162,
          -3.677473868492271,
          -3.9561760462397126,
          0.6149579701415994,
          -1.8142830139392425,
          -2.4714199899166704,
          -0.31362112289254723,
          -3.6558600102271197,
          3.104736046249345,
          -1.937580540031787,
          -2.892043224365703,
          -0.13048836453300072,
          -2.0189788457453814,
          -0.5538185436775669,
          1.061400823184986,
          1.2706484734434667,
          -2.030860331490641,
          1.3772160221047542,
          -0.011486734536862683,
          -0.4704991779006009,
          -0.906255790224218,
          -4.451168876855797,
          -3.285590665564636,
          -0.9928592635416332,
          0.1971039075612004,
          1.5128191837188814,
          -1.4519760813252494,
          -1.420412442328223,
          1.3994857875271192,
          0.7682367392033971,
          -3.126468610752865,
          3.779309215917253,
          1.4992801988663746,
          0.663073707982348,
          -2.0857660397295326,
          2.846067550447975,
          0.7209507219522502,
          -3.3910533107082688,
          1.4360674334395382,
          -3.2221657766593457,
          0.36280870356534023
         ]
        },
        {
         "marker": {
          "color": "rgba(0, 255, 200, 0.8)"
         },
         "mode": "markers",
         "name": "Cluster 2",
         "type": "scatter3d",
         "x": [
          -4.46258785864747,
          -5.293632126519754,
          -12.294455040532107,
          -3.3547651586320133,
          -4.253973898687036,
          -4.93033647653932,
          -3.9231319599763763,
          -8.30735802601188,
          -8.076248328488868,
          -3.5548452003733257,
          -6.766726174038686,
          -10.474386592322142,
          -8.064077923327629,
          -7.240604268501328,
          -5.806742489546822,
          -7.6833386255752965,
          -10.768046802216697,
          -7.383286465627807,
          -11.171582340728445,
          -6.435292171881611,
          -4.8905527009799545,
          -10.483675087435984,
          -5.618698547285144,
          -3.9936401702196975,
          -4.591866291154509,
          -11.209796135787391,
          -4.902557454997205,
          -3.639864815110744,
          -9.906089847566063,
          -5.44040166467997,
          -5.485882149449126,
          -3.0999528034677173,
          -7.755593449987747,
          -3.6114663635189945,
          -4.480533781753996,
          -8.872014114539583,
          -7.683037093936322,
          -8.684140598953318,
          -5.388701554568617,
          -6.7194184941672885,
          -10.954664911400831,
          -3.8071569130884177,
          -4.5487683814095545,
          -6.030182357745473,
          -5.956586227243545,
          -10.456671664438815,
          -4.390265917958192,
          -12.995578833886709,
          -7.423355438742961,
          -2.431767788120407,
          -6.598576541190464,
          -8.52988531899235,
          -9.144101943405424,
          -2.9766750035062604,
          -4.436657333152643,
          -11.801602922325243,
          -12.88759310189613,
          -12.592499408346892,
          -9.996255502533351,
          -3.344350043510732,
          -4.802884001246489,
          -5.935137300601249,
          -7.599777484896375,
          -2.7392499003737267,
          -4.379388332563024,
          -3.2712711342299214,
          -6.5768087453259065,
          -2.84555914791141,
          -2.727180350891905,
          -3.254664196400621,
          -3.582228867918383,
          -7.245954671906142,
          -4.151055818724376,
          -7.960541146965238,
          -4.985664874401008,
          -11.415623284931229,
          -5.362256748164122,
          -4.401451299616154,
          -4.8105045951001175,
          -7.860536327904189,
          -11.965295946724751,
          -3.146740868177796,
          -10.53022744126535,
          -3.688110060604136,
          -5.089563265357872,
          -9.933539955368575,
          -5.759464512588308,
          -6.423837282309819,
          -6.7134844292838975,
          -4.011874231193465,
          -10.64250175211788,
          -5.981469252339394,
          -5.2134527849179095,
          -4.759562749098865,
          -5.365131428167928,
          -5.752938386501889,
          -8.809910286973382,
          -7.002131738097762,
          -4.531320021128603,
          -5.0587687740856335,
          -3.2944479719599866,
          -3.7997596616374607,
          -3.060746274454442,
          -2.883454073748092,
          -4.16799172792381,
          -11.51199558041192,
          -10.297714383534093,
          -4.4018129142106295,
          -4.650664441890104,
          -9.343661823614159,
          -4.6731728013784535,
          -10.517150818187888,
          -8.616003437986675,
          -4.36583661413746,
          -8.475852132593541,
          -4.855573429985085,
          -6.179377638499047,
          -12.716549866541845,
          -8.85203082603559,
          -11.746475268159228,
          -11.69370568068448,
          -3.9817649362470346,
          -4.110983905297766,
          -3.4597080365484576,
          -7.285673103386295,
          -2.761569952380559,
          -6.111792791305206,
          -7.739078618839091,
          -2.8914333418847407,
          -3.44773059374728,
          -5.271269329140731,
          -11.120509932986447,
          -9.342268145020238,
          -6.3447725551403735,
          -11.300405955782118,
          -4.709002243823742,
          -2.8267290569810246,
          -2.8959784406832765,
          -3.4133760848103107,
          -2.685255228908938,
          -6.1714294264243845,
          -6.390029697506858,
          -6.666238606809004,
          -3.691041076474141,
          -11.046167906852459,
          -2.7838329193738756,
          -7.553510328622801,
          -9.825511478005783,
          -3.8099293842637105,
          -3.3917217696993855,
          -3.504196204748388,
          -3.5208963485850235,
          -2.900721836998582,
          -5.162382768872723,
          -5.071142246903243,
          -12.43918408570473
         ],
         "y": [
          -0.47064206354184024,
          -1.895483797544438,
          -1.156427356763053,
          0.1385336323681423,
          -0.43360785209121755,
          -4.9051966835605105,
          -2.6223081170395677,
          3.7875856617510513,
          -4.270994475091913,
          -0.7246337436072366,
          -0.2588924356004288,
          9.02058393889046,
          -1.9554607918679967,
          0.339884457422592,
          0.2980555393616447,
          0.03492651795330528,
          3.1911160682580593,
          -3.935494542461735,
          -0.5023038439077209,
          -0.11616475017596592,
          -0.003907531346702845,
          4.952671743087377,
          -2.0546594176787716,
          7.209452328035516,
          7.713126854303567,
          5.247142480574409,
          -4.932995808144381,
          -0.9254842992752721,
          -0.5502822708820987,
          -1.9848855307170832,
          -2.7827167190416113,
          -1.2753067068049433,
          -0.8527731430436547,
          -3.384990961593424,
          -0.438299861683063,
          -3.9215029546192586,
          -2.4858671554588603,
          6.843665492892669,
          8.099792387000964,
          -2.7063709490141132,
          -1.88006840215996,
          -0.13156474575829094,
          -6.306395295530433,
          3.557868595522441,
          1.9090128551406982,
          -4.912974062150136,
          1.2114761035938575,
          -3.2320363733243527,
          -3.926976606381168,
          -3.364310126044587,
          1.5323640514801184,
          1.9736624651997017,
          -5.071087561403787,
          2.0621633673335893,
          6.917314122178114,
          -1.662682515850061,
          -3.9785289560464974,
          -1.3404601071266276,
          -1.3037338607305147,
          -3.1044616184881786,
          6.7806845439882535,
          0.2243067935942973,
          -0.7344740539832321,
          -5.298590293232412,
          -2.982804980673083,
          -1.4252854457071333,
          -5.8657125536275645,
          -3.675159901549136,
          -0.28900843140317556,
          1.7928526749199714,
          -2.442538958572724,
          -5.596340226113346,
          -3.538169953462634,
          -0.25873845307317384,
          2.5352357644427026,
          -6.322926839733896,
          0.622427206516597,
          1.2569267721555761,
          -0.6721122393579506,
          -0.09343366549133492,
          1.4570730950186432,
          -3.931120847516224,
          9.089001921670086,
          2.434080317533453,
          -0.9042489195468252,
          -3.7786140250757807,
          -2.128010689793832,
          -3.374921728998824,
          1.4122483605872331,
          0.614312165147137,
          -3.492131210834672,
          -0.6296637011489286,
          -0.9727683812959204,
          -0.6918488261301454,
          3.046255561566192,
          1.2003099564600128,
          -3.12743250657509,
          0.31759608835627373,
          -5.489357533268361,
          -3.3055905576554467,
          -3.1084364772938367,
          0.7742432578723158,
          -3.8265256048462835,
          -3.639084120628292,
          3.016806749498881,
          -2.3686960411505718,
          -5.700615515902681,
          -0.4858355730391275,
          -6.512077661564434,
          2.275002602499576,
          -2.3329579230095616,
          9.083928831560529,
          1.11539017292516,
          -2.9486783407670614,
          -7.079597395611874,
          5.0051443176478845,
          3.4317141223984624,
          -2.9784874088772693,
          5.898846975578324,
          -6.591466239569276,
          3.4560376659240246,
          6.366641158980407,
          7.9906015634983305,
          0.8978731099204629,
          6.017141014428428,
          -1.1913715890627739,
          0.9295648463039726,
          -2.590703677872394,
          -1.2973537961276698,
          0.9513863162938572,
          1.4534303870419183,
          -6.163509939855964,
          3.16476014507259,
          -4.974177834599066,
          -0.6240477789391538,
          2.7092074204220458,
          1.3475304269830397,
          -0.3431531295806908,
          1.7518436046636887,
          -0.35905465832134664,
          -2.4789764718777776,
          0.7749797567920039,
          7.299839101463208,
          2.409464467047828,
          2.046893284674144,
          2.1590976254832706,
          0.03900285572843553,
          2.9310262809580587,
          3.1885879847198084,
          -3.9426703852648686,
          -3.188790261551276,
          6.56735586220568,
          -5.365265991930752,
          -1.7369871225616722,
          -0.8973913913900263,
          -0.40138967674206333
         ],
         "z": [
          0.4244454041996877,
          -1.213812873132445,
          0.05127631203597575,
          -0.12740230127801705,
          -2.9806484155354105,
          -0.6661136041427813,
          0.6941816358766482,
          5.141036251261588,
          -0.7264999247594638,
          0.1291819289590348,
          3.3259101110837266,
          -3.8790580721393,
          -3.5243389219795755,
          1.2104000603583327,
          6.114639837502374,
          3.5625250163671525,
          -2.476030232142385,
          1.0137652614188737,
          -0.5378411563233253,
          -3.3648156369725326,
          -1.7363545798213458,
          0.2330177188924412,
          -2.107737082535448,
          -5.781930208033616,
          3.046392676226705,
          -2.8296896543921193,
          -0.6764270738888835,
          3.3930767646605826,
          0.1197504718610061,
          2.095832157282545,
          -0.9130395806262621,
          2.2471656272073925,
          0.5373410321602929,
          -1.503164941311153,
          0.441378559410751,
          -3.783339480162503,
          -1.2967465406455878,
          -2.9865090377787893,
          0.02048552230503401,
          -1.6392936345913378,
          1.9081624593883764,
          -5.341423732972193,
          -1.5423814886199165,
          2.2413026064179675,
          0.4216745413001878,
          -0.8353167228342231,
          -1.0980743771240882,
          -0.41262107105749796,
          1.1059805278756436,
          -0.726111421712886,
          -1.4351186273513241,
          2.3365395109066505,
          -0.3036460240335736,
          -0.640390413561201,
          -3.362063349079645,
          2.0935176376208133,
          0.8189786260884065,
          -0.9351627777464036,
          -2.8474151334025355,
          -0.5043989956775216,
          3.286204398747907,
          1.8254750166925724,
          -2.802493814253513,
          -0.27102001180348717,
          -4.574624651897507,
          -1.9447173663680464,
          2.331966033336145,
          1.5350690684617867,
          -1.3352542031731602,
          -1.660235552347894,
          1.5876455838618608,
          -0.8543492693043473,
          0.9653860212970135,
          2.5794893790442424,
          3.2271767754346854,
          0.8473330056269316,
          -3.872644209777219,
          -1.0060197581625323,
          -0.5217900137603345,
          -0.717368534101674,
          -1.7880004113728636,
          0.6214384424021668,
          -3.790689229701946,
          3.8372024608491686,
          -1.5107027510656612,
          -0.23120244448167543,
          1.1948280009967762,
          -3.727352823683936,
          1.855562571889594,
          -6.470334046420014,
          -3.347652474441081,
          -1.2158995372428056,
          1.8058615787368675,
          -0.5929260870640429,
          8.543891713310254,
          1.5815172562293731,
          -0.7381185022077084,
          -2.1760882137466666,
          1.4991537128106762,
          1.2152575873681983,
          -0.5899945766693303,
          -2.243072999498625,
          -2.6236902001740714,
          1.606504755688078,
          1.7287723570065325,
          -0.03285351375849387,
          0.2797549918385073,
          0.35992901636094093,
          1.7075141008113304,
          -0.699060203848112,
          -2.3899045444835565,
          -3.835781524948829,
          -0.6803616795171077,
          3.0009146827160023,
          -3.2812297583910657,
          -2.8390613809729417,
          -2.0258624984031783,
          0.6216835754172948,
          4.91518946793117,
          -0.10294647440125713,
          -2.209225510860136,
          -1.244079650831287,
          0.6004820392159095,
          -1.382111867539984,
          -1.1068713068542748,
          -4.386481965436847,
          0.6185093305535013,
          1.91728905295407,
          -1.1082295979210246,
          -1.3508798521360335,
          -0.827583879317639,
          1.7723502640065232,
          2.4063704765082155,
          2.0067193773183494,
          2.754870718880595,
          -3.4061125316655865,
          0.5459563408426054,
          1.9999743438808502,
          1.6592626863953948,
          -1.421592369647514,
          3.5072775003233327,
          -0.2925086815557855,
          3.879365644247387,
          3.7757806294463974,
          1.0561350800387712,
          -4.049330657315713,
          0.24318742511907807,
          -2.72883570715433,
          2.568493648316899,
          -3.560233057301001,
          2.8503383299843463,
          -3.631181070389643,
          3.0038461931107148,
          3.0702853868997706,
          6.092995723583666,
          -1.1789598907143892
         ]
        }
       ],
       "layout": {
        "template": {
         "data": {
          "bar": [
           {
            "error_x": {
             "color": "#2a3f5f"
            },
            "error_y": {
             "color": "#2a3f5f"
            },
            "marker": {
             "line": {
              "color": "#E5ECF6",
              "width": 0.5
             },
             "pattern": {
              "fillmode": "overlay",
              "size": 10,
              "solidity": 0.2
             }
            },
            "type": "bar"
           }
          ],
          "barpolar": [
           {
            "marker": {
             "line": {
              "color": "#E5ECF6",
              "width": 0.5
             },
             "pattern": {
              "fillmode": "overlay",
              "size": 10,
              "solidity": 0.2
             }
            },
            "type": "barpolar"
           }
          ],
          "carpet": [
           {
            "aaxis": {
             "endlinecolor": "#2a3f5f",
             "gridcolor": "white",
             "linecolor": "white",
             "minorgridcolor": "white",
             "startlinecolor": "#2a3f5f"
            },
            "baxis": {
             "endlinecolor": "#2a3f5f",
             "gridcolor": "white",
             "linecolor": "white",
             "minorgridcolor": "white",
             "startlinecolor": "#2a3f5f"
            },
            "type": "carpet"
           }
          ],
          "choropleth": [
           {
            "colorbar": {
             "outlinewidth": 0,
             "ticks": ""
            },
            "type": "choropleth"
           }
          ],
          "contour": [
           {
            "colorbar": {
             "outlinewidth": 0,
             "ticks": ""
            },
            "colorscale": [
             [
              0,
              "#0d0887"
             ],
             [
              0.1111111111111111,
              "#46039f"
             ],
             [
              0.2222222222222222,
              "#7201a8"
             ],
             [
              0.3333333333333333,
              "#9c179e"
             ],
             [
              0.4444444444444444,
              "#bd3786"
             ],
             [
              0.5555555555555556,
              "#d8576b"
             ],
             [
              0.6666666666666666,
              "#ed7953"
             ],
             [
              0.7777777777777778,
              "#fb9f3a"
             ],
             [
              0.8888888888888888,
              "#fdca26"
             ],
             [
              1,
              "#f0f921"
             ]
            ],
            "type": "contour"
           }
          ],
          "contourcarpet": [
           {
            "colorbar": {
             "outlinewidth": 0,
             "ticks": ""
            },
            "type": "contourcarpet"
           }
          ],
          "heatmap": [
           {
            "colorbar": {
             "outlinewidth": 0,
             "ticks": ""
            },
            "colorscale": [
             [
              0,
              "#0d0887"
             ],
             [
              0.1111111111111111,
              "#46039f"
             ],
             [
              0.2222222222222222,
              "#7201a8"
             ],
             [
              0.3333333333333333,
              "#9c179e"
             ],
             [
              0.4444444444444444,
              "#bd3786"
             ],
             [
              0.5555555555555556,
              "#d8576b"
             ],
             [
              0.6666666666666666,
              "#ed7953"
             ],
             [
              0.7777777777777778,
              "#fb9f3a"
             ],
             [
              0.8888888888888888,
              "#fdca26"
             ],
             [
              1,
              "#f0f921"
             ]
            ],
            "type": "heatmap"
           }
          ],
          "heatmapgl": [
           {
            "colorbar": {
             "outlinewidth": 0,
             "ticks": ""
            },
            "colorscale": [
             [
              0,
              "#0d0887"
             ],
             [
              0.1111111111111111,
              "#46039f"
             ],
             [
              0.2222222222222222,
              "#7201a8"
             ],
             [
              0.3333333333333333,
              "#9c179e"
             ],
             [
              0.4444444444444444,
              "#bd3786"
             ],
             [
              0.5555555555555556,
              "#d8576b"
             ],
             [
              0.6666666666666666,
              "#ed7953"
             ],
             [
              0.7777777777777778,
              "#fb9f3a"
             ],
             [
              0.8888888888888888,
              "#fdca26"
             ],
             [
              1,
              "#f0f921"
             ]
            ],
            "type": "heatmapgl"
           }
          ],
          "histogram": [
           {
            "marker": {
             "pattern": {
              "fillmode": "overlay",
              "size": 10,
              "solidity": 0.2
             }
            },
            "type": "histogram"
           }
          ],
          "histogram2d": [
           {
            "colorbar": {
             "outlinewidth": 0,
             "ticks": ""
            },
            "colorscale": [
             [
              0,
              "#0d0887"
             ],
             [
              0.1111111111111111,
              "#46039f"
             ],
             [
              0.2222222222222222,
              "#7201a8"
             ],
             [
              0.3333333333333333,
              "#9c179e"
             ],
             [
              0.4444444444444444,
              "#bd3786"
             ],
             [
              0.5555555555555556,
              "#d8576b"
             ],
             [
              0.6666666666666666,
              "#ed7953"
             ],
             [
              0.7777777777777778,
              "#fb9f3a"
             ],
             [
              0.8888888888888888,
              "#fdca26"
             ],
             [
              1,
              "#f0f921"
             ]
            ],
            "type": "histogram2d"
           }
          ],
          "histogram2dcontour": [
           {
            "colorbar": {
             "outlinewidth": 0,
             "ticks": ""
            },
            "colorscale": [
             [
              0,
              "#0d0887"
             ],
             [
              0.1111111111111111,
              "#46039f"
             ],
             [
              0.2222222222222222,
              "#7201a8"
             ],
             [
              0.3333333333333333,
              "#9c179e"
             ],
             [
              0.4444444444444444,
              "#bd3786"
             ],
             [
              0.5555555555555556,
              "#d8576b"
             ],
             [
              0.6666666666666666,
              "#ed7953"
             ],
             [
              0.7777777777777778,
              "#fb9f3a"
             ],
             [
              0.8888888888888888,
              "#fdca26"
             ],
             [
              1,
              "#f0f921"
             ]
            ],
            "type": "histogram2dcontour"
           }
          ],
          "mesh3d": [
           {
            "colorbar": {
             "outlinewidth": 0,
             "ticks": ""
            },
            "type": "mesh3d"
           }
          ],
          "parcoords": [
           {
            "line": {
             "colorbar": {
              "outlinewidth": 0,
              "ticks": ""
             }
            },
            "type": "parcoords"
           }
          ],
          "pie": [
           {
            "automargin": true,
            "type": "pie"
           }
          ],
          "scatter": [
           {
            "fillpattern": {
             "fillmode": "overlay",
             "size": 10,
             "solidity": 0.2
            },
            "type": "scatter"
           }
          ],
          "scatter3d": [
           {
            "line": {
             "colorbar": {
              "outlinewidth": 0,
              "ticks": ""
             }
            },
            "marker": {
             "colorbar": {
              "outlinewidth": 0,
              "ticks": ""
             }
            },
            "type": "scatter3d"
           }
          ],
          "scattercarpet": [
           {
            "marker": {
             "colorbar": {
              "outlinewidth": 0,
              "ticks": ""
             }
            },
            "type": "scattercarpet"
           }
          ],
          "scattergeo": [
           {
            "marker": {
             "colorbar": {
              "outlinewidth": 0,
              "ticks": ""
             }
            },
            "type": "scattergeo"
           }
          ],
          "scattergl": [
           {
            "marker": {
             "colorbar": {
              "outlinewidth": 0,
              "ticks": ""
             }
            },
            "type": "scattergl"
           }
          ],
          "scattermapbox": [
           {
            "marker": {
             "colorbar": {
              "outlinewidth": 0,
              "ticks": ""
             }
            },
            "type": "scattermapbox"
           }
          ],
          "scatterpolar": [
           {
            "marker": {
             "colorbar": {
              "outlinewidth": 0,
              "ticks": ""
             }
            },
            "type": "scatterpolar"
           }
          ],
          "scatterpolargl": [
           {
            "marker": {
             "colorbar": {
              "outlinewidth": 0,
              "ticks": ""
             }
            },
            "type": "scatterpolargl"
           }
          ],
          "scatterternary": [
           {
            "marker": {
             "colorbar": {
              "outlinewidth": 0,
              "ticks": ""
             }
            },
            "type": "scatterternary"
           }
          ],
          "surface": [
           {
            "colorbar": {
             "outlinewidth": 0,
             "ticks": ""
            },
            "colorscale": [
             [
              0,
              "#0d0887"
             ],
             [
              0.1111111111111111,
              "#46039f"
             ],
             [
              0.2222222222222222,
              "#7201a8"
             ],
             [
              0.3333333333333333,
              "#9c179e"
             ],
             [
              0.4444444444444444,
              "#bd3786"
             ],
             [
              0.5555555555555556,
              "#d8576b"
             ],
             [
              0.6666666666666666,
              "#ed7953"
             ],
             [
              0.7777777777777778,
              "#fb9f3a"
             ],
             [
              0.8888888888888888,
              "#fdca26"
             ],
             [
              1,
              "#f0f921"
             ]
            ],
            "type": "surface"
           }
          ],
          "table": [
           {
            "cells": {
             "fill": {
              "color": "#EBF0F8"
             },
             "line": {
              "color": "white"
             }
            },
            "header": {
             "fill": {
              "color": "#C8D4E3"
             },
             "line": {
              "color": "white"
             }
            },
            "type": "table"
           }
          ]
         },
         "layout": {
          "annotationdefaults": {
           "arrowcolor": "#2a3f5f",
           "arrowhead": 0,
           "arrowwidth": 1
          },
          "autotypenumbers": "strict",
          "coloraxis": {
           "colorbar": {
            "outlinewidth": 0,
            "ticks": ""
           }
          },
          "colorscale": {
           "diverging": [
            [
             0,
             "#8e0152"
            ],
            [
             0.1,
             "#c51b7d"
            ],
            [
             0.2,
             "#de77ae"
            ],
            [
             0.3,
             "#f1b6da"
            ],
            [
             0.4,
             "#fde0ef"
            ],
            [
             0.5,
             "#f7f7f7"
            ],
            [
             0.6,
             "#e6f5d0"
            ],
            [
             0.7,
             "#b8e186"
            ],
            [
             0.8,
             "#7fbc41"
            ],
            [
             0.9,
             "#4d9221"
            ],
            [
             1,
             "#276419"
            ]
           ],
           "sequential": [
            [
             0,
             "#0d0887"
            ],
            [
             0.1111111111111111,
             "#46039f"
            ],
            [
             0.2222222222222222,
             "#7201a8"
            ],
            [
             0.3333333333333333,
             "#9c179e"
            ],
            [
             0.4444444444444444,
             "#bd3786"
            ],
            [
             0.5555555555555556,
             "#d8576b"
            ],
            [
             0.6666666666666666,
             "#ed7953"
            ],
            [
             0.7777777777777778,
             "#fb9f3a"
            ],
            [
             0.8888888888888888,
             "#fdca26"
            ],
            [
             1,
             "#f0f921"
            ]
           ],
           "sequentialminus": [
            [
             0,
             "#0d0887"
            ],
            [
             0.1111111111111111,
             "#46039f"
            ],
            [
             0.2222222222222222,
             "#7201a8"
            ],
            [
             0.3333333333333333,
             "#9c179e"
            ],
            [
             0.4444444444444444,
             "#bd3786"
            ],
            [
             0.5555555555555556,
             "#d8576b"
            ],
            [
             0.6666666666666666,
             "#ed7953"
            ],
            [
             0.7777777777777778,
             "#fb9f3a"
            ],
            [
             0.8888888888888888,
             "#fdca26"
            ],
            [
             1,
             "#f0f921"
            ]
           ]
          },
          "colorway": [
           "#636efa",
           "#EF553B",
           "#00cc96",
           "#ab63fa",
           "#FFA15A",
           "#19d3f3",
           "#FF6692",
           "#B6E880",
           "#FF97FF",
           "#FECB52"
          ],
          "font": {
           "color": "#2a3f5f"
          },
          "geo": {
           "bgcolor": "white",
           "lakecolor": "white",
           "landcolor": "#E5ECF6",
           "showlakes": true,
           "showland": true,
           "subunitcolor": "white"
          },
          "hoverlabel": {
           "align": "left"
          },
          "hovermode": "closest",
          "mapbox": {
           "style": "light"
          },
          "paper_bgcolor": "white",
          "plot_bgcolor": "#E5ECF6",
          "polar": {
           "angularaxis": {
            "gridcolor": "white",
            "linecolor": "white",
            "ticks": ""
           },
           "bgcolor": "#E5ECF6",
           "radialaxis": {
            "gridcolor": "white",
            "linecolor": "white",
            "ticks": ""
           }
          },
          "scene": {
           "xaxis": {
            "backgroundcolor": "#E5ECF6",
            "gridcolor": "white",
            "gridwidth": 2,
            "linecolor": "white",
            "showbackground": true,
            "ticks": "",
            "zerolinecolor": "white"
           },
           "yaxis": {
            "backgroundcolor": "#E5ECF6",
            "gridcolor": "white",
            "gridwidth": 2,
            "linecolor": "white",
            "showbackground": true,
            "ticks": "",
            "zerolinecolor": "white"
           },
           "zaxis": {
            "backgroundcolor": "#E5ECF6",
            "gridcolor": "white",
            "gridwidth": 2,
            "linecolor": "white",
            "showbackground": true,
            "ticks": "",
            "zerolinecolor": "white"
           }
          },
          "shapedefaults": {
           "line": {
            "color": "#2a3f5f"
           }
          },
          "ternary": {
           "aaxis": {
            "gridcolor": "white",
            "linecolor": "white",
            "ticks": ""
           },
           "baxis": {
            "gridcolor": "white",
            "linecolor": "white",
            "ticks": ""
           },
           "bgcolor": "#E5ECF6",
           "caxis": {
            "gridcolor": "white",
            "linecolor": "white",
            "ticks": ""
           }
          },
          "title": {
           "x": 0.05
          },
          "xaxis": {
           "automargin": true,
           "gridcolor": "white",
           "linecolor": "white",
           "ticks": "",
           "title": {
            "standoff": 15
           },
           "zerolinecolor": "white",
           "zerolinewidth": 2
          },
          "yaxis": {
           "automargin": true,
           "gridcolor": "white",
           "linecolor": "white",
           "ticks": "",
           "title": {
            "standoff": 15
           },
           "zerolinecolor": "white",
           "zerolinewidth": 2
          }
         }
        },
        "title": {
         "text": "Visualizing Clusters in Three Dimensions Using PCA"
        },
        "xaxis": {
         "ticklen": 5,
         "title": {
          "text": "PC1"
         },
         "zeroline": false
        },
        "yaxis": {
         "ticklen": 5,
         "title": {
          "text": "PC2"
         },
         "zeroline": false
        }
       }
      },
      "text/html": [
       "<div>                            <div id=\"095f6c8f-2a1b-4d9f-876f-2b999e47552c\" class=\"plotly-graph-div\" style=\"height:525px; width:100%;\"></div>            <script type=\"text/javascript\">                require([\"plotly\"], function(Plotly) {                    window.PLOTLYENV=window.PLOTLYENV || {};                                    if (document.getElementById(\"095f6c8f-2a1b-4d9f-876f-2b999e47552c\")) {                    Plotly.newPlot(                        \"095f6c8f-2a1b-4d9f-876f-2b999e47552c\",                        [{\"marker\":{\"color\":\"rgba(255, 128, 255, 0.8)\"},\"mode\":\"markers\",\"name\":\"Cluster 0\",\"x\":[-1.88309455249382,3.7259840516666243,3.2892906231831005,2.9814195173831264,4.946979624481865,-1.0390484283980383,0.3306750402737237,3.65099185087396,-2.2548592521008923,-1.5950191582177893,0.4881440897249781,1.6299621334102743,1.243801898985797,2.9254451087571876,3.266380901670053,3.566205006705802,1.486550023422515,3.492586826111509,1.9264572160044904,-1.8517203631047698,3.617669405936441,-2.062760123289113,-2.1812334186860767,4.35564835067722,-0.602099633786696,-1.9021747484283211,1.3973516369901062,-1.9646401905889914,0.6710258761894423,0.07870957888152394,1.9150023264326999,4.185446537774587,4.532942872195828,1.187661839215876,-1.0783097216125712,1.1100441884384848,2.4236340309186697,0.7741048947870164,1.9604381624024938,1.4099360292502594,3.004462795430458,4.392473726022564,-1.2639241741915728,-0.6180919117059646,0.9983648844922757,2.90037909493406,0.16540732286472776,3.527692000820141,1.4865250330187005,3.0781487118007744,4.322872829873708,-0.8131767497044503,3.7943771982602845,1.8045184035636435,-0.6693602797500066,-1.6517441749848565,3.612760300846618,2.0887612743191406,-2.248855679243859,0.8417248345325424,1.1139462199326724,-0.6747106831548197,-2.300320078474501,0.9322645270544337,2.3047029777568913,-2.317525437957233,1.0915536620102122,2.039045131807125,3.1517134369664035,1.1761148429634403,0.0886958900035591,1.880370656761377,-2.1740705825972633,3.964573679154652,0.38683243762693414,0.4896386816288473,-0.5384351233334876,-0.1198532722489163,4.003902088646016,2.1255622787598667,-0.2672197153507511,-0.3976691580303217,1.760154436654058,0.6718726306493612,-1.0105952834895866,-0.6652729387162872,3.486803655345696,3.137401679989732,-0.0797054903982633,-2.2632986719425587,-0.8917069757000184,0.312066999375884,0.6404581474588216,-0.48121787574911584,1.2277668756943187,0.8340186906405525,0.43313700726445215,3.368827922774303,2.710310354718599,-0.08889312983269243,1.3591848824273367,-2.402113930126534,2.9582206295606985,-0.26677370452668936,3.5385024699384795,2.0406745757638496,3.2129758997114806,-2.877970113808992,2.9567223481980567,-2.7937729391470523,4.1124400767788725,-0.18640605544330674,3.6813402736916037,2.3787979666029644,-1.3127793648425368,0.5101697010446974,-1.4699289255723322,4.300515364502934,1.4592311513420286,3.3737870086717576,1.0740341489627343,1.3463363142616223,4.398477298879596,1.8976384200118677,-0.07129106096041368,1.8525321717629581,2.436213091170555,0.5859351086854975,-1.4472823515227125,3.6005725581020958,2.340132353696052,1.6071248601823227,1.5340162479886261,0.1206002854425335,-1.3004480178979425,1.8252156204947305,-0.02532311775694267,2.578021222621042,2.2714429365871323,-2.4081175029835666,1.6706995847671449,2.61786979364498,2.9024094835303798,-2.5504030505944173,-2.1473960733396957,-1.74372697829366,4.269467827915138,-0.12861156131284585,0.7609985687966727,2.323689970832492,1.4990797223659662,3.8706669313280906,3.026880343756733,0.010499969629780422,2.9637016491883426,3.95911470961937,1.9826596795421716,-0.28860991218664805,-0.26628085421018854,1.862340279794734,4.193631810730617,-0.29332702257956883,-1.282893412298779,3.1747490621932113,2.2905481229254363,4.0381722013533965,3.9781354420975545,-1.4192205241216214,0.9546897282012334,1.65275366166062,-1.8582037438189785,-1.606852942336812,-0.4154464320508754,-1.4870037233143192,2.2998336777278245,-1.1445086006635443,0.819862540290528,0.45290541296414877,4.025227490017341,-1.1878226887313654,2.6129280453308166,-0.407885921152748,-2.1355796268039637,0.8187266226696784,2.1524898333329916,3.2930904458487724,-2.782830558287311,-2.459900771436471,0.635041923295749,-0.7206637403457338,0.8226820519619961,3.2906843017770258,3.0228601189998425,2.522660181535014,-2.3383782669068003,-1.9014317931077158,3.232476440046843,3.7425362961792263,0.8232967118720287,3.2432531697625984,-1.4029200294060098,-0.2666424688046627,3.606737069594038,0.012092000222561574,-0.8624617696483505],\"y\":[1.028854343200089,-6.203383887622105,0.840523369174217,-5.027190984155442,0.23810019430546545,-2.5782959247915245,4.787385974899597,-0.5472983351308818,2.4560083167031275,1.3113006635349393,6.641880576299233,-5.105220084109215,0.4641683488150122,-4.337609000430238,0.8410533820088661,-5.49329402454646,-0.22502342284966484,3.5312010195597097,-0.7401506179611756,-2.212223930426629,-2.200760426122404,4.230973062982492,0.7857402920631776,-0.1454654625154261,-2.382701765023274,1.0178769722520518,-1.9119734003513296,-1.518955820986821,1.6762972324283973,-1.0682527761781284,2.5186063608616824,-3.546607368049683,0.7559009428097448,3.7673049261139813,1.4435973839805902,0.2891999405012427,2.789694229730786,0.14124297105852743,1.6334393489110417,5.572635572019006,-2.7228759516231564,2.344818430857829,5.6481768940439805,2.667498955001717,-1.3492248349016875,-1.0701540929969844,1.4394685426476765,3.4908708944550138,-4.386673572166769,-0.12958795765623576,-5.148371750927943,-3.2723195068221673,6.131206740909307,-4.206374400865276,1.0463790658689736,-3.6753138840763926,1.9076652499123632,-8.932726204978207,2.4720587777607204,-2.2590004357461955,1.1954292164052693,-4.889845617666963,-0.8204748206633369,-3.108605859623234,-3.8873151413532203,2.4308242477482516,4.384911260888196,-3.1975933568538943,3.330019576834658,2.0699932494809965,-4.359243216298535,-2.4227716367132315,5.006760475244691,2.8920465480845254,-1.7083274725484894,-1.6793940045441418,0.2779441860539725,-1.1940572289972855,-0.33542825454885045,0.21927207101229793,-6.257315063383152,0.3512954581690332,-8.255368755821872,5.915498972422406,-0.8975647220507819,-3.139598200842699,-1.4751501148238173,5.790103705334927,0.5530069137287342,3.341222782001233,-1.6766882397227623,-6.721681119074395,-6.591800328480106,-2.2251233288145875,-1.9417638199159828,7.69070499844536,-0.11901977243987548,-5.769762849863983,-1.0626617597756662,-6.20895346067967,0.6234837697234744,-0.1298328112688328,0.6652972879822812,-0.3957271373877601,-1.497828695950665,0.8933336065145597,0.008206438432789922,4.601985608274581,0.6544761109429389,5.441292606355169,2.208937063667049,0.4550872444755139,-2.29324395442383,3.721805652989079,-0.32193314965438635,-4.930665911737437,2.9335662373190465,-1.8569838371552507,-1.8624350527835931,-1.5548882272645406,6.240509392973237,2.992483205973318,2.3608688919154233,-0.6965897654107693,-4.493857700886476,4.164836001198121,3.6340011037420807,4.148082571107476,0.4672040090543452,2.784708436837565,-3.000713711660158,2.330030533223214,0.6722666447003758,3.06617571473722,0.6370993272585579,3.2413492923713725,-3.6073888103757765,-1.2053967067918863,-0.5632962926306919,-0.14588327232642603,0.748532749951797,3.77638603045348,0.7123029865036962,3.9403898870847835,-1.6027544512152694,4.395510506317447,-5.981218694504018,5.404527779862103,0.16772834542629234,6.171937427666358,3.119347684461773,2.8018735223336315,-1.7507078467889783,-2.7746980607083964,-2.6309224361563777,-1.1873730315012425,0.9341937444539042,-3.8994255372637086,2.937955332066699,0.007728929155924887,3.8512279573144084,5.347468248548226,-1.1165929355367168,-1.719892410099276,3.6093312276344487,-3.6537965469797076,5.383412852774274,0.42658515085859217,5.217789264677163,0.7808749518105749,1.9155883120755122,-0.49711177749885754,2.790388574684513,0.5433957965545873,-3.8600460296039993,3.9982611279929396,5.0799948685881375,0.7863907575384456,-2.7738113656998538,-1.004512621237215,-3.631065462295077,5.979629339423849,3.398234859967643,3.606742341584683,0.13533364000972986,0.8504282696497389,1.3275051071197883,2.2749536728107986,-3.2150870193098897,-0.6766466925535355,-1.4541470162972865,1.7302809117472306,3.229687926061432,-5.280841427571997,-0.14182275453870102,-0.6601535158776296,2.4351296191485736,-7.125483632053893,6.814191824354808,0.9348967134869561,3.0862654098143016,1.1951929868719957,4.3702667378967055,0.5003981122631126,0.1030068379530934],\"z\":[0.21682655517982696,0.9629311955576841,-0.5077338880365301,0.9756253341258475,2.330787411689702,2.870625638126535,-3.571904617972399,-1.3686390318478054,1.1451060342913895,1.2209413856557976,-0.6656390167549688,3.5177704393482867,0.3250784324889388,-0.35804283780513096,-0.469261278254608,-0.23003524431108124,-1.7388070070146229,-2.1353334535746473,0.4121397686781031,-0.15482125437733932,0.09259788450056687,-3.6399358062374847,-0.7199139399958577,0.47060007267963183,0.46214541149253335,0.26899879730946824,-0.23028647196115157,-1.4102734061218523,-3.026817962933074,-2.181220923684587,0.7746769553895079,3.4249485107611823,0.1573979484483562,0.7293217518456105,-1.254528876339914,3.59393785309425,-1.6361552421979224,2.6789344505381774,-2.3478475276730975,3.5561684859762317,-1.801134469941203,2.0983209428943197,5.56002320693306,-0.524033407185888,-2.440945698084077,-7.480261167368301,-0.5937037252922391,-2.206009265460558,-5.1910445657716355,-0.17283166173918277,1.5071353854312826,0.7927409523526694,3.660641608060237,-4.259108008004501,0.9541366643735488,2.28148980050127,3.5209829886589676,-2.3094023306110256,1.1380260874086308,5.364391503227112,-0.853589147186943,-1.1106126652891306,0.8153929585969834,-0.9889410811509984,0.8857907364911368,1.1626600984154638,-0.5078244681913882,2.9881487857766214,-3.0741893107293268,2.1873251453306386,5.023659077929628,1.8053351681587422,2.6900045849598166,-0.06678572656392363,3.246407804978755,0.019585094110032668,2.101871842568064,1.167057364007533,-0.48933497762811,0.13678934531573975,-2.0030711194947846,-1.200693240964162,-0.1217483142563168,0.5033143210199768,1.3812295817423421,-2.5521431649808934,-1.145921112032882,1.8368115168530925,-0.2233647740275594,4.243917029182757,2.588516562871841,4.373587969641969,-2.294027909298225,-2.790223825461677,3.068132573629076,-4.250634470532316,1.7897771879901778,-1.2843676024329116,3.433440623239979,2.1551062111537416,4.655028863108411,-0.4413299937701507,-1.3945781505567814,-0.007566153600180235,-1.1348557747033394,-1.1513262699505584,-3.4726234838258616,0.9329668910656292,6.218230946938306,3.948297666944184,1.0906420124636815,2.9940649899306546,0.04841810433233697,-6.0787176575753525,-4.049172408366546,-0.4185338177696614,-0.32144545981980227,1.893985288159092,-0.2846500375490096,2.1917224109227083,-1.861146772941009,1.9121353694634888,2.0912409960115617,0.4079937307361053,-6.774413327675938,2.593034219884666,1.3772208191968496,1.925289769449447,2.386982495557827,-0.9037337564287432,3.95147800644292,-0.2183818198578158,1.2673284600021766,1.2754622869370063,-0.9269692202943683,-0.4962058907431429,3.8445312368359517,-0.8651171444803303,1.2969533552353527,-0.4342500468873918,-2.026586262102086,-1.939664805596106,-1.3516012172888936,-1.2691466329771806,1.9829365293219385,-2.693539740782249,-1.4962268201399709,1.9025841736038143,2.76941865495453,-1.2030948833388806,-1.3591976986647847,3.1732936450925564,1.3053384098202543,-0.7127434129582417,-1.7954272995548952,4.0589896968155355,-1.0421778482827253,2.8594649235500396,0.43159495768464234,-0.8525836534073836,-0.3732291989028679,5.229162359229861,0.46743830818750787,-2.0806309312455644,4.69701867186272,-0.8406461795147591,4.784203036665716,2.308927122866574,-1.6527863849403552,-2.0096531068910224,-4.270743469428495,-4.959730159058038,-3.880962056305971,2.407149173632235,0.8576315964553166,3.663449922251435,1.647005437146323,-2.7036019828782787,-5.347564335235722,-2.8532720595570193,1.8068009233560984,-3.5662904262869963,0.9410523317279479,-0.13147873261781742,0.0939730595430658,-0.44864234651934287,0.4674407067335558,-3.1201673609941243,-1.8974854457373225,2.39122151220073,0.914251888995588,2.5976967923197973,0.26391447364406034,3.3462538598909375,-0.48981645937559215,1.6451003940838296,1.3755920179582322,-2.159432640009705,0.21255488433731898,-0.36735345096474664,-3.564100454873076,1.7975437322081151,0.8489042733273273,-0.34990661232425363,1.2224071408531538],\"type\":\"scatter3d\"},{\"marker\":{\"color\":\"rgba(255, 128, 2, 0.8)\"},\"mode\":\"markers\",\"name\":\"Cluster 1\",\"x\":[5.134604807261621,9.042828764602355,8.610229037602947,8.280361052584533,6.179216788983556,7.445684261131875,9.741606499084096,7.930020216088007,8.434588950444875,4.780625092126185,8.395355039330973,5.207430671226885,7.022138611640779,10.972159526312366,12.694198850740896,8.122166385395966,6.715654823984325,9.167211134478888,7.066007407421607,6.3259138788586595,12.358553435907876,6.519567624899276,8.696474355829599,8.957990167428948,14.761429284220698,6.6520551089956905,9.939094540842879,7.269063862979605,8.872669697071927,6.634014687511707,9.077676123855818,5.5325220823960715,8.496302756022285,8.192232143515518,16.3858937559499,10.158972691196773,7.502342837641487,6.696250426819307,6.07226611893441,14.367244095975908,18.84153024339838,13.74975082162575,16.22149286878148,8.251957268984517,12.85076645241553,4.946437412856928,11.38781801210407,11.912223910986963,6.566392426953925,7.297947454436799,8.786404720449724,5.002478937759694,5.248047187975244,13.54522420269903,10.846225479518445,5.606764967417732,9.983877207360452,8.571055209444543,4.8056440654531345,11.60227460628663,6.947666023766043,7.351107063900337,6.030735731449306,12.019368220525894,8.643611565495963,5.877027995121536,5.43608738314762,6.877708777294873,8.207187644926266,5.775364705210249,5.831245359214212,5.536453816803144,6.576809862887463,10.931791342370497,7.786622445741552,9.360342327290121,6.9338815379196665,15.442194455998136,9.734339809373886,5.401367223126481,7.662795329949277,7.7539093287058005,9.850057093045383,11.755527525161034,6.583360979377697,11.290152896857313,5.639124180310071,9.769616995676904,7.916906855665979,9.575605870871831],\"y\":[0.2946297127846832,-3.933446231407837,-6.754654767014382,4.731221762673586,-0.6689218175216948,-0.8131555574941676,6.407298059578125,2.801205187382476,0.5965559403460045,0.11993364442740469,3.8831120437527313,-4.551770609891651,0.6270336685329618,-2.730888780676387,4.923036941837087,1.3621807792545149,1.328215383467507,-0.5312443002042831,0.6284206329279176,-8.014240688846819,-5.099940720484015,-3.780010559992895,-0.8384079499942317,-1.4823903328407824,8.744009061298891,-1.2519369825781803,-0.07002557373701461,-0.005991635494725678,0.12154475181389036,-1.2786760814927531,0.20069352641645355,-0.23094484044020583,9.776632826298574,3.007097772947177,-7.743213836208237,1.6771400479584793,2.6630324508889682,0.39030645772171296,4.244871470809225,-2.3382945230737806,-1.3133436672431456,4.74268526697781,-2.8435218679200878,0.5504263266326989,-1.6019080618161825,-0.5955180418488507,0.004994359532633326,-2.1916195109104546,0.4076424042047905,0.03094109698642667,-3.316050116164324,-0.49068151943531907,2.913631788541136,0.519673788815514,2.9449333585870283,1.4701386208894467,4.9649816367906885,0.7954573549992149,0.06646789140147569,-1.5114288079606972,-1.9419000468210974,1.6924385645713318,-8.254151173756314,-0.5370117352675688,-0.8376366574159906,4.089772188450012,-1.2541949815709295,-1.8526472459653818,2.992964289119189,-0.8610553113315323,-5.0106298583967,0.653872151205614,-2.121427925544351,0.5123477499235258,-0.5314805297375566,0.390715643453389,-0.15689059929209348,-7.505031337456845,-0.139979453228532,-0.3303602146496118,4.377480948227397,-0.5569058784360237,-0.18746771123713074,-5.549839317290184,5.368542870026599,-2.5505896093748937,0.5900446990483637,-8.473002697598181,1.274439454005629,7.194650780239614],\"z\":[-1.0342633837182678,1.7390895228415229,-0.7614373926974222,-1.9605161431978038,-0.09808780930822993,0.5782700120014128,1.485259979043411,-1.412449591491255,-1.1354727654363213,-1.8826350364565971,-0.7626221089788142,-3.138833524273997,1.5346239451328025,-0.21098583581488525,1.877351993647636,0.9796724011182282,3.646995850241806,-1.1383136956761768,1.5015002201932195,0.36689202926481146,-0.12660478237036157,0.44699884573109455,1.201082814684962,-0.8018410548336253,-1.7727928094213734,2.0029627337290634,-2.6051648037099526,-0.5876104504054027,0.9642050011045212,2.0695944835468065,5.18839317265778,1.2073282438860236,1.2346769239043578,-0.48292800962569926,1.0660493164271276,-7.4005201139849275,-2.291694974089567,0.5628050105337534,2.182401469160444,-3.6782974944469315,3.170312408775107,-1.713097004319899,-4.150485105608657,2.1626466662313213,-2.1533603386755282,-0.742140452640055,2.2798485188909794,2.586854513449522,3.927534510951296,-0.5877710979006162,-3.677473868492271,-3.9561760462397126,0.6149579701415994,-1.8142830139392425,-2.4714199899166704,-0.31362112289254723,-3.6558600102271197,3.104736046249345,-1.937580540031787,-2.892043224365703,-0.13048836453300072,-2.0189788457453814,-0.5538185436775669,1.061400823184986,1.2706484734434667,-2.030860331490641,1.3772160221047542,-0.011486734536862683,-0.4704991779006009,-0.906255790224218,-4.451168876855797,-3.285590665564636,-0.9928592635416332,0.1971039075612004,1.5128191837188814,-1.4519760813252494,-1.420412442328223,1.3994857875271192,0.7682367392033971,-3.126468610752865,3.779309215917253,1.4992801988663746,0.663073707982348,-2.0857660397295326,2.846067550447975,0.7209507219522502,-3.3910533107082688,1.4360674334395382,-3.2221657766593457,0.36280870356534023],\"type\":\"scatter3d\"},{\"marker\":{\"color\":\"rgba(0, 255, 200, 0.8)\"},\"mode\":\"markers\",\"name\":\"Cluster 2\",\"x\":[-4.46258785864747,-5.293632126519754,-12.294455040532107,-3.3547651586320133,-4.253973898687036,-4.93033647653932,-3.9231319599763763,-8.30735802601188,-8.076248328488868,-3.5548452003733257,-6.766726174038686,-10.474386592322142,-8.064077923327629,-7.240604268501328,-5.806742489546822,-7.6833386255752965,-10.768046802216697,-7.383286465627807,-11.171582340728445,-6.435292171881611,-4.8905527009799545,-10.483675087435984,-5.618698547285144,-3.9936401702196975,-4.591866291154509,-11.209796135787391,-4.902557454997205,-3.639864815110744,-9.906089847566063,-5.44040166467997,-5.485882149449126,-3.0999528034677173,-7.755593449987747,-3.6114663635189945,-4.480533781753996,-8.872014114539583,-7.683037093936322,-8.684140598953318,-5.388701554568617,-6.7194184941672885,-10.954664911400831,-3.8071569130884177,-4.5487683814095545,-6.030182357745473,-5.956586227243545,-10.456671664438815,-4.390265917958192,-12.995578833886709,-7.423355438742961,-2.431767788120407,-6.598576541190464,-8.52988531899235,-9.144101943405424,-2.9766750035062604,-4.436657333152643,-11.801602922325243,-12.88759310189613,-12.592499408346892,-9.996255502533351,-3.344350043510732,-4.802884001246489,-5.935137300601249,-7.599777484896375,-2.7392499003737267,-4.379388332563024,-3.2712711342299214,-6.5768087453259065,-2.84555914791141,-2.727180350891905,-3.254664196400621,-3.582228867918383,-7.245954671906142,-4.151055818724376,-7.960541146965238,-4.985664874401008,-11.415623284931229,-5.362256748164122,-4.401451299616154,-4.8105045951001175,-7.860536327904189,-11.965295946724751,-3.146740868177796,-10.53022744126535,-3.688110060604136,-5.089563265357872,-9.933539955368575,-5.759464512588308,-6.423837282309819,-6.7134844292838975,-4.011874231193465,-10.64250175211788,-5.981469252339394,-5.2134527849179095,-4.759562749098865,-5.365131428167928,-5.752938386501889,-8.809910286973382,-7.002131738097762,-4.531320021128603,-5.0587687740856335,-3.2944479719599866,-3.7997596616374607,-3.060746274454442,-2.883454073748092,-4.16799172792381,-11.51199558041192,-10.297714383534093,-4.4018129142106295,-4.650664441890104,-9.343661823614159,-4.6731728013784535,-10.517150818187888,-8.616003437986675,-4.36583661413746,-8.475852132593541,-4.855573429985085,-6.179377638499047,-12.716549866541845,-8.85203082603559,-11.746475268159228,-11.69370568068448,-3.9817649362470346,-4.110983905297766,-3.4597080365484576,-7.285673103386295,-2.761569952380559,-6.111792791305206,-7.739078618839091,-2.8914333418847407,-3.44773059374728,-5.271269329140731,-11.120509932986447,-9.342268145020238,-6.3447725551403735,-11.300405955782118,-4.709002243823742,-2.8267290569810246,-2.8959784406832765,-3.4133760848103107,-2.685255228908938,-6.1714294264243845,-6.390029697506858,-6.666238606809004,-3.691041076474141,-11.046167906852459,-2.7838329193738756,-7.553510328622801,-9.825511478005783,-3.8099293842637105,-3.3917217696993855,-3.504196204748388,-3.5208963485850235,-2.900721836998582,-5.162382768872723,-5.071142246903243,-12.43918408570473],\"y\":[-0.47064206354184024,-1.895483797544438,-1.156427356763053,0.1385336323681423,-0.43360785209121755,-4.9051966835605105,-2.6223081170395677,3.7875856617510513,-4.270994475091913,-0.7246337436072366,-0.2588924356004288,9.02058393889046,-1.9554607918679967,0.339884457422592,0.2980555393616447,0.03492651795330528,3.1911160682580593,-3.935494542461735,-0.5023038439077209,-0.11616475017596592,-0.003907531346702845,4.952671743087377,-2.0546594176787716,7.209452328035516,7.713126854303567,5.247142480574409,-4.932995808144381,-0.9254842992752721,-0.5502822708820987,-1.9848855307170832,-2.7827167190416113,-1.2753067068049433,-0.8527731430436547,-3.384990961593424,-0.438299861683063,-3.9215029546192586,-2.4858671554588603,6.843665492892669,8.099792387000964,-2.7063709490141132,-1.88006840215996,-0.13156474575829094,-6.306395295530433,3.557868595522441,1.9090128551406982,-4.912974062150136,1.2114761035938575,-3.2320363733243527,-3.926976606381168,-3.364310126044587,1.5323640514801184,1.9736624651997017,-5.071087561403787,2.0621633673335893,6.917314122178114,-1.662682515850061,-3.9785289560464974,-1.3404601071266276,-1.3037338607305147,-3.1044616184881786,6.7806845439882535,0.2243067935942973,-0.7344740539832321,-5.298590293232412,-2.982804980673083,-1.4252854457071333,-5.8657125536275645,-3.675159901549136,-0.28900843140317556,1.7928526749199714,-2.442538958572724,-5.596340226113346,-3.538169953462634,-0.25873845307317384,2.5352357644427026,-6.322926839733896,0.622427206516597,1.2569267721555761,-0.6721122393579506,-0.09343366549133492,1.4570730950186432,-3.931120847516224,9.089001921670086,2.434080317533453,-0.9042489195468252,-3.7786140250757807,-2.128010689793832,-3.374921728998824,1.4122483605872331,0.614312165147137,-3.492131210834672,-0.6296637011489286,-0.9727683812959204,-0.6918488261301454,3.046255561566192,1.2003099564600128,-3.12743250657509,0.31759608835627373,-5.489357533268361,-3.3055905576554467,-3.1084364772938367,0.7742432578723158,-3.8265256048462835,-3.639084120628292,3.016806749498881,-2.3686960411505718,-5.700615515902681,-0.4858355730391275,-6.512077661564434,2.275002602499576,-2.3329579230095616,9.083928831560529,1.11539017292516,-2.9486783407670614,-7.079597395611874,5.0051443176478845,3.4317141223984624,-2.9784874088772693,5.898846975578324,-6.591466239569276,3.4560376659240246,6.366641158980407,7.9906015634983305,0.8978731099204629,6.017141014428428,-1.1913715890627739,0.9295648463039726,-2.590703677872394,-1.2973537961276698,0.9513863162938572,1.4534303870419183,-6.163509939855964,3.16476014507259,-4.974177834599066,-0.6240477789391538,2.7092074204220458,1.3475304269830397,-0.3431531295806908,1.7518436046636887,-0.35905465832134664,-2.4789764718777776,0.7749797567920039,7.299839101463208,2.409464467047828,2.046893284674144,2.1590976254832706,0.03900285572843553,2.9310262809580587,3.1885879847198084,-3.9426703852648686,-3.188790261551276,6.56735586220568,-5.365265991930752,-1.7369871225616722,-0.8973913913900263,-0.40138967674206333],\"z\":[0.4244454041996877,-1.213812873132445,0.05127631203597575,-0.12740230127801705,-2.9806484155354105,-0.6661136041427813,0.6941816358766482,5.141036251261588,-0.7264999247594638,0.1291819289590348,3.3259101110837266,-3.8790580721393,-3.5243389219795755,1.2104000603583327,6.114639837502374,3.5625250163671525,-2.476030232142385,1.0137652614188737,-0.5378411563233253,-3.3648156369725326,-1.7363545798213458,0.2330177188924412,-2.107737082535448,-5.781930208033616,3.046392676226705,-2.8296896543921193,-0.6764270738888835,3.3930767646605826,0.1197504718610061,2.095832157282545,-0.9130395806262621,2.2471656272073925,0.5373410321602929,-1.503164941311153,0.441378559410751,-3.783339480162503,-1.2967465406455878,-2.9865090377787893,0.02048552230503401,-1.6392936345913378,1.9081624593883764,-5.341423732972193,-1.5423814886199165,2.2413026064179675,0.4216745413001878,-0.8353167228342231,-1.0980743771240882,-0.41262107105749796,1.1059805278756436,-0.726111421712886,-1.4351186273513241,2.3365395109066505,-0.3036460240335736,-0.640390413561201,-3.362063349079645,2.0935176376208133,0.8189786260884065,-0.9351627777464036,-2.8474151334025355,-0.5043989956775216,3.286204398747907,1.8254750166925724,-2.802493814253513,-0.27102001180348717,-4.574624651897507,-1.9447173663680464,2.331966033336145,1.5350690684617867,-1.3352542031731602,-1.660235552347894,1.5876455838618608,-0.8543492693043473,0.9653860212970135,2.5794893790442424,3.2271767754346854,0.8473330056269316,-3.872644209777219,-1.0060197581625323,-0.5217900137603345,-0.717368534101674,-1.7880004113728636,0.6214384424021668,-3.790689229701946,3.8372024608491686,-1.5107027510656612,-0.23120244448167543,1.1948280009967762,-3.727352823683936,1.855562571889594,-6.470334046420014,-3.347652474441081,-1.2158995372428056,1.8058615787368675,-0.5929260870640429,8.543891713310254,1.5815172562293731,-0.7381185022077084,-2.1760882137466666,1.4991537128106762,1.2152575873681983,-0.5899945766693303,-2.243072999498625,-2.6236902001740714,1.606504755688078,1.7287723570065325,-0.03285351375849387,0.2797549918385073,0.35992901636094093,1.7075141008113304,-0.699060203848112,-2.3899045444835565,-3.835781524948829,-0.6803616795171077,3.0009146827160023,-3.2812297583910657,-2.8390613809729417,-2.0258624984031783,0.6216835754172948,4.91518946793117,-0.10294647440125713,-2.209225510860136,-1.244079650831287,0.6004820392159095,-1.382111867539984,-1.1068713068542748,-4.386481965436847,0.6185093305535013,1.91728905295407,-1.1082295979210246,-1.3508798521360335,-0.827583879317639,1.7723502640065232,2.4063704765082155,2.0067193773183494,2.754870718880595,-3.4061125316655865,0.5459563408426054,1.9999743438808502,1.6592626863953948,-1.421592369647514,3.5072775003233327,-0.2925086815557855,3.879365644247387,3.7757806294463974,1.0561350800387712,-4.049330657315713,0.24318742511907807,-2.72883570715433,2.568493648316899,-3.560233057301001,2.8503383299843463,-3.631181070389643,3.0038461931107148,3.0702853868997706,6.092995723583666,-1.1789598907143892],\"type\":\"scatter3d\"}],                        {\"template\":{\"data\":{\"barpolar\":[{\"marker\":{\"line\":{\"color\":\"#E5ECF6\",\"width\":0.5},\"pattern\":{\"fillmode\":\"overlay\",\"size\":10,\"solidity\":0.2}},\"type\":\"barpolar\"}],\"bar\":[{\"error_x\":{\"color\":\"#2a3f5f\"},\"error_y\":{\"color\":\"#2a3f5f\"},\"marker\":{\"line\":{\"color\":\"#E5ECF6\",\"width\":0.5},\"pattern\":{\"fillmode\":\"overlay\",\"size\":10,\"solidity\":0.2}},\"type\":\"bar\"}],\"carpet\":[{\"aaxis\":{\"endlinecolor\":\"#2a3f5f\",\"gridcolor\":\"white\",\"linecolor\":\"white\",\"minorgridcolor\":\"white\",\"startlinecolor\":\"#2a3f5f\"},\"baxis\":{\"endlinecolor\":\"#2a3f5f\",\"gridcolor\":\"white\",\"linecolor\":\"white\",\"minorgridcolor\":\"white\",\"startlinecolor\":\"#2a3f5f\"},\"type\":\"carpet\"}],\"choropleth\":[{\"colorbar\":{\"outlinewidth\":0,\"ticks\":\"\"},\"type\":\"choropleth\"}],\"contourcarpet\":[{\"colorbar\":{\"outlinewidth\":0,\"ticks\":\"\"},\"type\":\"contourcarpet\"}],\"contour\":[{\"colorbar\":{\"outlinewidth\":0,\"ticks\":\"\"},\"colorscale\":[[0.0,\"#0d0887\"],[0.1111111111111111,\"#46039f\"],[0.2222222222222222,\"#7201a8\"],[0.3333333333333333,\"#9c179e\"],[0.4444444444444444,\"#bd3786\"],[0.5555555555555556,\"#d8576b\"],[0.6666666666666666,\"#ed7953\"],[0.7777777777777778,\"#fb9f3a\"],[0.8888888888888888,\"#fdca26\"],[1.0,\"#f0f921\"]],\"type\":\"contour\"}],\"heatmapgl\":[{\"colorbar\":{\"outlinewidth\":0,\"ticks\":\"\"},\"colorscale\":[[0.0,\"#0d0887\"],[0.1111111111111111,\"#46039f\"],[0.2222222222222222,\"#7201a8\"],[0.3333333333333333,\"#9c179e\"],[0.4444444444444444,\"#bd3786\"],[0.5555555555555556,\"#d8576b\"],[0.6666666666666666,\"#ed7953\"],[0.7777777777777778,\"#fb9f3a\"],[0.8888888888888888,\"#fdca26\"],[1.0,\"#f0f921\"]],\"type\":\"heatmapgl\"}],\"heatmap\":[{\"colorbar\":{\"outlinewidth\":0,\"ticks\":\"\"},\"colorscale\":[[0.0,\"#0d0887\"],[0.1111111111111111,\"#46039f\"],[0.2222222222222222,\"#7201a8\"],[0.3333333333333333,\"#9c179e\"],[0.4444444444444444,\"#bd3786\"],[0.5555555555555556,\"#d8576b\"],[0.6666666666666666,\"#ed7953\"],[0.7777777777777778,\"#fb9f3a\"],[0.8888888888888888,\"#fdca26\"],[1.0,\"#f0f921\"]],\"type\":\"heatmap\"}],\"histogram2dcontour\":[{\"colorbar\":{\"outlinewidth\":0,\"ticks\":\"\"},\"colorscale\":[[0.0,\"#0d0887\"],[0.1111111111111111,\"#46039f\"],[0.2222222222222222,\"#7201a8\"],[0.3333333333333333,\"#9c179e\"],[0.4444444444444444,\"#bd3786\"],[0.5555555555555556,\"#d8576b\"],[0.6666666666666666,\"#ed7953\"],[0.7777777777777778,\"#fb9f3a\"],[0.8888888888888888,\"#fdca26\"],[1.0,\"#f0f921\"]],\"type\":\"histogram2dcontour\"}],\"histogram2d\":[{\"colorbar\":{\"outlinewidth\":0,\"ticks\":\"\"},\"colorscale\":[[0.0,\"#0d0887\"],[0.1111111111111111,\"#46039f\"],[0.2222222222222222,\"#7201a8\"],[0.3333333333333333,\"#9c179e\"],[0.4444444444444444,\"#bd3786\"],[0.5555555555555556,\"#d8576b\"],[0.6666666666666666,\"#ed7953\"],[0.7777777777777778,\"#fb9f3a\"],[0.8888888888888888,\"#fdca26\"],[1.0,\"#f0f921\"]],\"type\":\"histogram2d\"}],\"histogram\":[{\"marker\":{\"pattern\":{\"fillmode\":\"overlay\",\"size\":10,\"solidity\":0.2}},\"type\":\"histogram\"}],\"mesh3d\":[{\"colorbar\":{\"outlinewidth\":0,\"ticks\":\"\"},\"type\":\"mesh3d\"}],\"parcoords\":[{\"line\":{\"colorbar\":{\"outlinewidth\":0,\"ticks\":\"\"}},\"type\":\"parcoords\"}],\"pie\":[{\"automargin\":true,\"type\":\"pie\"}],\"scatter3d\":[{\"line\":{\"colorbar\":{\"outlinewidth\":0,\"ticks\":\"\"}},\"marker\":{\"colorbar\":{\"outlinewidth\":0,\"ticks\":\"\"}},\"type\":\"scatter3d\"}],\"scattercarpet\":[{\"marker\":{\"colorbar\":{\"outlinewidth\":0,\"ticks\":\"\"}},\"type\":\"scattercarpet\"}],\"scattergeo\":[{\"marker\":{\"colorbar\":{\"outlinewidth\":0,\"ticks\":\"\"}},\"type\":\"scattergeo\"}],\"scattergl\":[{\"marker\":{\"colorbar\":{\"outlinewidth\":0,\"ticks\":\"\"}},\"type\":\"scattergl\"}],\"scattermapbox\":[{\"marker\":{\"colorbar\":{\"outlinewidth\":0,\"ticks\":\"\"}},\"type\":\"scattermapbox\"}],\"scatterpolargl\":[{\"marker\":{\"colorbar\":{\"outlinewidth\":0,\"ticks\":\"\"}},\"type\":\"scatterpolargl\"}],\"scatterpolar\":[{\"marker\":{\"colorbar\":{\"outlinewidth\":0,\"ticks\":\"\"}},\"type\":\"scatterpolar\"}],\"scatter\":[{\"fillpattern\":{\"fillmode\":\"overlay\",\"size\":10,\"solidity\":0.2},\"type\":\"scatter\"}],\"scatterternary\":[{\"marker\":{\"colorbar\":{\"outlinewidth\":0,\"ticks\":\"\"}},\"type\":\"scatterternary\"}],\"surface\":[{\"colorbar\":{\"outlinewidth\":0,\"ticks\":\"\"},\"colorscale\":[[0.0,\"#0d0887\"],[0.1111111111111111,\"#46039f\"],[0.2222222222222222,\"#7201a8\"],[0.3333333333333333,\"#9c179e\"],[0.4444444444444444,\"#bd3786\"],[0.5555555555555556,\"#d8576b\"],[0.6666666666666666,\"#ed7953\"],[0.7777777777777778,\"#fb9f3a\"],[0.8888888888888888,\"#fdca26\"],[1.0,\"#f0f921\"]],\"type\":\"surface\"}],\"table\":[{\"cells\":{\"fill\":{\"color\":\"#EBF0F8\"},\"line\":{\"color\":\"white\"}},\"header\":{\"fill\":{\"color\":\"#C8D4E3\"},\"line\":{\"color\":\"white\"}},\"type\":\"table\"}]},\"layout\":{\"annotationdefaults\":{\"arrowcolor\":\"#2a3f5f\",\"arrowhead\":0,\"arrowwidth\":1},\"autotypenumbers\":\"strict\",\"coloraxis\":{\"colorbar\":{\"outlinewidth\":0,\"ticks\":\"\"}},\"colorscale\":{\"diverging\":[[0,\"#8e0152\"],[0.1,\"#c51b7d\"],[0.2,\"#de77ae\"],[0.3,\"#f1b6da\"],[0.4,\"#fde0ef\"],[0.5,\"#f7f7f7\"],[0.6,\"#e6f5d0\"],[0.7,\"#b8e186\"],[0.8,\"#7fbc41\"],[0.9,\"#4d9221\"],[1,\"#276419\"]],\"sequential\":[[0.0,\"#0d0887\"],[0.1111111111111111,\"#46039f\"],[0.2222222222222222,\"#7201a8\"],[0.3333333333333333,\"#9c179e\"],[0.4444444444444444,\"#bd3786\"],[0.5555555555555556,\"#d8576b\"],[0.6666666666666666,\"#ed7953\"],[0.7777777777777778,\"#fb9f3a\"],[0.8888888888888888,\"#fdca26\"],[1.0,\"#f0f921\"]],\"sequentialminus\":[[0.0,\"#0d0887\"],[0.1111111111111111,\"#46039f\"],[0.2222222222222222,\"#7201a8\"],[0.3333333333333333,\"#9c179e\"],[0.4444444444444444,\"#bd3786\"],[0.5555555555555556,\"#d8576b\"],[0.6666666666666666,\"#ed7953\"],[0.7777777777777778,\"#fb9f3a\"],[0.8888888888888888,\"#fdca26\"],[1.0,\"#f0f921\"]]},\"colorway\":[\"#636efa\",\"#EF553B\",\"#00cc96\",\"#ab63fa\",\"#FFA15A\",\"#19d3f3\",\"#FF6692\",\"#B6E880\",\"#FF97FF\",\"#FECB52\"],\"font\":{\"color\":\"#2a3f5f\"},\"geo\":{\"bgcolor\":\"white\",\"lakecolor\":\"white\",\"landcolor\":\"#E5ECF6\",\"showlakes\":true,\"showland\":true,\"subunitcolor\":\"white\"},\"hoverlabel\":{\"align\":\"left\"},\"hovermode\":\"closest\",\"mapbox\":{\"style\":\"light\"},\"paper_bgcolor\":\"white\",\"plot_bgcolor\":\"#E5ECF6\",\"polar\":{\"angularaxis\":{\"gridcolor\":\"white\",\"linecolor\":\"white\",\"ticks\":\"\"},\"bgcolor\":\"#E5ECF6\",\"radialaxis\":{\"gridcolor\":\"white\",\"linecolor\":\"white\",\"ticks\":\"\"}},\"scene\":{\"xaxis\":{\"backgroundcolor\":\"#E5ECF6\",\"gridcolor\":\"white\",\"gridwidth\":2,\"linecolor\":\"white\",\"showbackground\":true,\"ticks\":\"\",\"zerolinecolor\":\"white\"},\"yaxis\":{\"backgroundcolor\":\"#E5ECF6\",\"gridcolor\":\"white\",\"gridwidth\":2,\"linecolor\":\"white\",\"showbackground\":true,\"ticks\":\"\",\"zerolinecolor\":\"white\"},\"zaxis\":{\"backgroundcolor\":\"#E5ECF6\",\"gridcolor\":\"white\",\"gridwidth\":2,\"linecolor\":\"white\",\"showbackground\":true,\"ticks\":\"\",\"zerolinecolor\":\"white\"}},\"shapedefaults\":{\"line\":{\"color\":\"#2a3f5f\"}},\"ternary\":{\"aaxis\":{\"gridcolor\":\"white\",\"linecolor\":\"white\",\"ticks\":\"\"},\"baxis\":{\"gridcolor\":\"white\",\"linecolor\":\"white\",\"ticks\":\"\"},\"bgcolor\":\"#E5ECF6\",\"caxis\":{\"gridcolor\":\"white\",\"linecolor\":\"white\",\"ticks\":\"\"}},\"title\":{\"x\":0.05},\"xaxis\":{\"automargin\":true,\"gridcolor\":\"white\",\"linecolor\":\"white\",\"ticks\":\"\",\"title\":{\"standoff\":15},\"zerolinecolor\":\"white\",\"zerolinewidth\":2},\"yaxis\":{\"automargin\":true,\"gridcolor\":\"white\",\"linecolor\":\"white\",\"ticks\":\"\",\"title\":{\"standoff\":15},\"zerolinecolor\":\"white\",\"zerolinewidth\":2}}},\"title\":{\"text\":\"Visualizing Clusters in Three Dimensions Using PCA\"},\"xaxis\":{\"ticklen\":5,\"title\":{\"text\":\"PC1\"},\"zeroline\":false},\"yaxis\":{\"ticklen\":5,\"title\":{\"text\":\"PC2\"},\"zeroline\":false}},                        {\"responsive\": true}                    ).then(function(){\n",
       "                            \n",
       "var gd = document.getElementById('095f6c8f-2a1b-4d9f-876f-2b999e47552c');\n",
       "var x = new MutationObserver(function (mutations, observer) {{\n",
       "        var display = window.getComputedStyle(gd).display;\n",
       "        if (!display || display === 'none') {{\n",
       "            console.log([gd, 'removed!']);\n",
       "            Plotly.purge(gd);\n",
       "            observer.disconnect();\n",
       "        }}\n",
       "}});\n",
       "\n",
       "// Listen for the removal of the full notebook cells\n",
       "var notebookContainer = gd.closest('#notebook-container');\n",
       "if (notebookContainer) {{\n",
       "    x.observe(notebookContainer, {childList: true});\n",
       "}}\n",
       "\n",
       "// Listen for the clearing of the current output cell\n",
       "var outputEl = gd.closest('.output');\n",
       "if (outputEl) {{\n",
       "    x.observe(outputEl, {childList: true});\n",
       "}}\n",
       "\n",
       "                        })                };                });            </script>        </div>"
      ]
     },
     "metadata": {},
     "output_type": "display_data"
    }
   ],
   "source": [
    "#Instructions for building the 3-D plot\n",
    "\n",
    "#trace1 is for 'Cluster 0'\n",
    "trace1 = go.Scatter3d(\n",
    "                    x = cluster0[\"PC1_3d\"],\n",
    "                    y = cluster0[\"PC2_3d\"],\n",
    "                    z = cluster0[\"PC3_3d\"],\n",
    "                    mode = \"markers\",\n",
    "                    name = \"Cluster 0\",\n",
    "                    marker = dict(color = 'rgba(255, 128, 255, 0.8)'),\n",
    "                    text = None)\n",
    "\n",
    "#trace2 is for 'Cluster 1'\n",
    "trace2 = go.Scatter3d(\n",
    "                    x = cluster1[\"PC1_3d\"],\n",
    "                    y = cluster1[\"PC2_3d\"],\n",
    "                    z = cluster1[\"PC3_3d\"],\n",
    "                    mode = \"markers\",\n",
    "                    name = \"Cluster 1\",\n",
    "                    marker = dict(color = 'rgba(255, 128, 2, 0.8)'),\n",
    "                    text = None)\n",
    "\n",
    "#trace3 is for 'Cluster 2'\n",
    "trace3 = go.Scatter3d(\n",
    "                    x = cluster2[\"PC1_3d\"],\n",
    "                    y = cluster2[\"PC2_3d\"],\n",
    "                    z = cluster2[\"PC3_3d\"],\n",
    "                    mode = \"markers\",\n",
    "                    name = \"Cluster 2\",\n",
    "                    marker = dict(color = 'rgba(0, 255, 200, 0.8)'),\n",
    "                    text = None)\n",
    "\n",
    "data = [trace1, trace2, trace3]\n",
    "\n",
    "title = \"Visualizing Clusters in Three Dimensions Using PCA\"\n",
    "\n",
    "layout = dict(title = title,\n",
    "              xaxis= dict(title= 'PC1',ticklen= 5,zeroline= False),\n",
    "              yaxis= dict(title= 'PC2',ticklen= 5,zeroline= False)\n",
    "             )\n",
    "\n",
    "fig = dict(data = data, layout = layout)\n",
    "\n",
    "iplot(fig)"
   ]
  },
  {
   "cell_type": "code",
   "execution_count": 214,
   "id": "a17b1f0f",
   "metadata": {},
   "outputs": [],
   "source": [
    "from sklearn.model_selection import train_test_split\n",
    "from sklearn.linear_model import LogisticRegression\n",
    "X_train, X_test, y_train, y_test = train_test_split(x, y, test_size = 0.2)\n",
    "model = LogisticRegression()"
   ]
  },
  {
   "cell_type": "code",
   "execution_count": null,
   "id": "ebb1be0e",
   "metadata": {},
   "outputs": [],
   "source": [
    "#Questions - ordinal"
   ]
  },
  {
   "cell_type": "code",
   "execution_count": 188,
   "id": "11cb49c7",
   "metadata": {},
   "outputs": [
    {
     "data": {
      "text/html": [
       "<style>#sk-container-id-2 {color: black;}#sk-container-id-2 pre{padding: 0;}#sk-container-id-2 div.sk-toggleable {background-color: white;}#sk-container-id-2 label.sk-toggleable__label {cursor: pointer;display: block;width: 100%;margin-bottom: 0;padding: 0.3em;box-sizing: border-box;text-align: center;}#sk-container-id-2 label.sk-toggleable__label-arrow:before {content: \"▸\";float: left;margin-right: 0.25em;color: #696969;}#sk-container-id-2 label.sk-toggleable__label-arrow:hover:before {color: black;}#sk-container-id-2 div.sk-estimator:hover label.sk-toggleable__label-arrow:before {color: black;}#sk-container-id-2 div.sk-toggleable__content {max-height: 0;max-width: 0;overflow: hidden;text-align: left;background-color: #f0f8ff;}#sk-container-id-2 div.sk-toggleable__content pre {margin: 0.2em;color: black;border-radius: 0.25em;background-color: #f0f8ff;}#sk-container-id-2 input.sk-toggleable__control:checked~div.sk-toggleable__content {max-height: 200px;max-width: 100%;overflow: auto;}#sk-container-id-2 input.sk-toggleable__control:checked~label.sk-toggleable__label-arrow:before {content: \"▾\";}#sk-container-id-2 div.sk-estimator input.sk-toggleable__control:checked~label.sk-toggleable__label {background-color: #d4ebff;}#sk-container-id-2 div.sk-label input.sk-toggleable__control:checked~label.sk-toggleable__label {background-color: #d4ebff;}#sk-container-id-2 input.sk-hidden--visually {border: 0;clip: rect(1px 1px 1px 1px);clip: rect(1px, 1px, 1px, 1px);height: 1px;margin: -1px;overflow: hidden;padding: 0;position: absolute;width: 1px;}#sk-container-id-2 div.sk-estimator {font-family: monospace;background-color: #f0f8ff;border: 1px dotted black;border-radius: 0.25em;box-sizing: border-box;margin-bottom: 0.5em;}#sk-container-id-2 div.sk-estimator:hover {background-color: #d4ebff;}#sk-container-id-2 div.sk-parallel-item::after {content: \"\";width: 100%;border-bottom: 1px solid gray;flex-grow: 1;}#sk-container-id-2 div.sk-label:hover label.sk-toggleable__label {background-color: #d4ebff;}#sk-container-id-2 div.sk-serial::before {content: \"\";position: absolute;border-left: 1px solid gray;box-sizing: border-box;top: 0;bottom: 0;left: 50%;z-index: 0;}#sk-container-id-2 div.sk-serial {display: flex;flex-direction: column;align-items: center;background-color: white;padding-right: 0.2em;padding-left: 0.2em;position: relative;}#sk-container-id-2 div.sk-item {position: relative;z-index: 1;}#sk-container-id-2 div.sk-parallel {display: flex;align-items: stretch;justify-content: center;background-color: white;position: relative;}#sk-container-id-2 div.sk-item::before, #sk-container-id-2 div.sk-parallel-item::before {content: \"\";position: absolute;border-left: 1px solid gray;box-sizing: border-box;top: 0;bottom: 0;left: 50%;z-index: -1;}#sk-container-id-2 div.sk-parallel-item {display: flex;flex-direction: column;z-index: 1;position: relative;background-color: white;}#sk-container-id-2 div.sk-parallel-item:first-child::after {align-self: flex-end;width: 50%;}#sk-container-id-2 div.sk-parallel-item:last-child::after {align-self: flex-start;width: 50%;}#sk-container-id-2 div.sk-parallel-item:only-child::after {width: 0;}#sk-container-id-2 div.sk-dashed-wrapped {border: 1px dashed gray;margin: 0 0.4em 0.5em 0.4em;box-sizing: border-box;padding-bottom: 0.4em;background-color: white;}#sk-container-id-2 div.sk-label label {font-family: monospace;font-weight: bold;display: inline-block;line-height: 1.2em;}#sk-container-id-2 div.sk-label-container {text-align: center;}#sk-container-id-2 div.sk-container {/* jupyter's `normalize.less` sets `[hidden] { display: none; }` but bootstrap.min.css set `[hidden] { display: none !important; }` so we also need the `!important` here to be able to override the default hidden behavior on the sphinx rendered scikit-learn.org. See: https://github.com/scikit-learn/scikit-learn/issues/21755 */display: inline-block !important;position: relative;}#sk-container-id-2 div.sk-text-repr-fallback {display: none;}</style><div id=\"sk-container-id-2\" class=\"sk-top-container\"><div class=\"sk-text-repr-fallback\"><pre>LogisticRegression()</pre><b>In a Jupyter environment, please rerun this cell to show the HTML representation or trust the notebook. <br />On GitHub, the HTML representation is unable to render, please try loading this page with nbviewer.org.</b></div><div class=\"sk-container\" hidden><div class=\"sk-item\"><div class=\"sk-estimator sk-toggleable\"><input class=\"sk-toggleable__control sk-hidden--visually\" id=\"sk-estimator-id-2\" type=\"checkbox\" checked><label for=\"sk-estimator-id-2\" class=\"sk-toggleable__label sk-toggleable__label-arrow\">LogisticRegression</label><div class=\"sk-toggleable__content\"><pre>LogisticRegression()</pre></div></div></div></div></div>"
      ],
      "text/plain": [
       "LogisticRegression()"
      ]
     },
     "execution_count": 188,
     "metadata": {},
     "output_type": "execute_result"
    }
   ],
   "source": [
    "model.fit(X_train, y_train)"
   ]
  },
  {
   "cell_type": "code",
   "execution_count": 196,
   "id": "24c86d77",
   "metadata": {},
   "outputs": [
    {
     "data": {
      "text/html": [
       "<div>\n",
       "<style scoped>\n",
       "    .dataframe tbody tr th:only-of-type {\n",
       "        vertical-align: middle;\n",
       "    }\n",
       "\n",
       "    .dataframe tbody tr th {\n",
       "        vertical-align: top;\n",
       "    }\n",
       "\n",
       "    .dataframe thead th {\n",
       "        text-align: right;\n",
       "    }\n",
       "</style>\n",
       "<table border=\"1\" class=\"dataframe\">\n",
       "  <thead>\n",
       "    <tr style=\"text-align: right;\">\n",
       "      <th></th>\n",
       "      <th>MAJOR CODE</th>\n",
       "      <th>GENDER</th>\n",
       "      <th>ETHNICITY GROUP</th>\n",
       "      <th>CLASS GROUP</th>\n",
       "      <th>COVID</th>\n",
       "    </tr>\n",
       "  </thead>\n",
       "  <tbody>\n",
       "    <tr>\n",
       "      <th>448</th>\n",
       "      <td>-0.970684</td>\n",
       "      <td>0.950382</td>\n",
       "      <td>0.572522</td>\n",
       "      <td>-0.705724</td>\n",
       "      <td>-0.989379</td>\n",
       "    </tr>\n",
       "    <tr>\n",
       "      <th>178</th>\n",
       "      <td>-0.970684</td>\n",
       "      <td>0.950382</td>\n",
       "      <td>-0.786997</td>\n",
       "      <td>-0.705724</td>\n",
       "      <td>0.405573</td>\n",
       "    </tr>\n",
       "    <tr>\n",
       "      <th>35</th>\n",
       "      <td>-0.148924</td>\n",
       "      <td>-1.052209</td>\n",
       "      <td>-0.786997</td>\n",
       "      <td>1.416984</td>\n",
       "      <td>-0.989379</td>\n",
       "    </tr>\n",
       "    <tr>\n",
       "      <th>682</th>\n",
       "      <td>-0.970684</td>\n",
       "      <td>-1.052209</td>\n",
       "      <td>-0.786997</td>\n",
       "      <td>-0.705724</td>\n",
       "      <td>1.800524</td>\n",
       "    </tr>\n",
       "    <tr>\n",
       "      <th>345</th>\n",
       "      <td>-0.970684</td>\n",
       "      <td>-1.052209</td>\n",
       "      <td>1.932041</td>\n",
       "      <td>-0.705724</td>\n",
       "      <td>-0.989379</td>\n",
       "    </tr>\n",
       "    <tr>\n",
       "      <th>...</th>\n",
       "      <td>...</td>\n",
       "      <td>...</td>\n",
       "      <td>...</td>\n",
       "      <td>...</td>\n",
       "      <td>...</td>\n",
       "    </tr>\n",
       "    <tr>\n",
       "      <th>474</th>\n",
       "      <td>1.494596</td>\n",
       "      <td>-1.052209</td>\n",
       "      <td>1.932041</td>\n",
       "      <td>-0.705724</td>\n",
       "      <td>0.405573</td>\n",
       "    </tr>\n",
       "    <tr>\n",
       "      <th>3</th>\n",
       "      <td>-0.970684</td>\n",
       "      <td>-1.052209</td>\n",
       "      <td>1.932041</td>\n",
       "      <td>1.416984</td>\n",
       "      <td>-0.989379</td>\n",
       "    </tr>\n",
       "    <tr>\n",
       "      <th>520</th>\n",
       "      <td>-0.148924</td>\n",
       "      <td>-1.052209</td>\n",
       "      <td>0.572522</td>\n",
       "      <td>-0.705724</td>\n",
       "      <td>-0.989379</td>\n",
       "    </tr>\n",
       "    <tr>\n",
       "      <th>565</th>\n",
       "      <td>-0.970684</td>\n",
       "      <td>0.950382</td>\n",
       "      <td>-0.786997</td>\n",
       "      <td>-0.705724</td>\n",
       "      <td>0.405573</td>\n",
       "    </tr>\n",
       "    <tr>\n",
       "      <th>282</th>\n",
       "      <td>-0.970684</td>\n",
       "      <td>-1.052209</td>\n",
       "      <td>-0.786997</td>\n",
       "      <td>1.416984</td>\n",
       "      <td>0.405573</td>\n",
       "    </tr>\n",
       "  </tbody>\n",
       "</table>\n",
       "<p>613 rows × 5 columns</p>\n",
       "</div>"
      ],
      "text/plain": [
       "     MAJOR CODE    GENDER  ETHNICITY GROUP  CLASS GROUP     COVID\n",
       "448   -0.970684  0.950382         0.572522    -0.705724 -0.989379\n",
       "178   -0.970684  0.950382        -0.786997    -0.705724  0.405573\n",
       "35    -0.148924 -1.052209        -0.786997     1.416984 -0.989379\n",
       "682   -0.970684 -1.052209        -0.786997    -0.705724  1.800524\n",
       "345   -0.970684 -1.052209         1.932041    -0.705724 -0.989379\n",
       "..          ...       ...              ...          ...       ...\n",
       "474    1.494596 -1.052209         1.932041    -0.705724  0.405573\n",
       "3     -0.970684 -1.052209         1.932041     1.416984 -0.989379\n",
       "520   -0.148924 -1.052209         0.572522    -0.705724 -0.989379\n",
       "565   -0.970684  0.950382        -0.786997    -0.705724  0.405573\n",
       "282   -0.970684 -1.052209        -0.786997     1.416984  0.405573\n",
       "\n",
       "[613 rows x 5 columns]"
      ]
     },
     "execution_count": 196,
     "metadata": {},
     "output_type": "execute_result"
    }
   ],
   "source": [
    "X_train"
   ]
  },
  {
   "cell_type": "code",
   "execution_count": null,
   "id": "047aac26",
   "metadata": {},
   "outputs": [],
   "source": []
  }
 ],
 "metadata": {
  "kernelspec": {
   "display_name": "Python 3 (ipykernel)",
   "language": "python",
   "name": "python3"
  },
  "language_info": {
   "codemirror_mode": {
    "name": "ipython",
    "version": 3
   },
   "file_extension": ".py",
   "mimetype": "text/x-python",
   "name": "python",
   "nbconvert_exporter": "python",
   "pygments_lexer": "ipython3",
   "version": "3.11.5"
  }
 },
 "nbformat": 4,
 "nbformat_minor": 5
}
