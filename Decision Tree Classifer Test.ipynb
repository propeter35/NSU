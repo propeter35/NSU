{
 "cells": [
  {
   "cell_type": "code",
   "execution_count": 5,
   "id": "5eb6080d",
   "metadata": {},
   "outputs": [],
   "source": [
    "import pandas as pd\n",
    "import numpy as np\n",
    "import matplotlib.pyplot as plt\n",
    "from sklearn import tree\n",
    "\n",
    "from sklearn.preprocessing import StandardScaler\n",
    "from sklearn import metrics\n",
    "\n",
    "survey_data = pd.read_csv('Updated_ExperimentalDataforRnew(in).csv')\n",
    "survey_data.dropna(inplace = True)\n",
    "survey_data.drop(survey_data.loc[survey_data['ETHNICITY GROUP']=='Unknown'].index, inplace=True)"
   ]
  },
  {
   "cell_type": "code",
   "execution_count": 6,
   "id": "172fa805",
   "metadata": {},
   "outputs": [],
   "source": [
    "survey_data['MAJOR CODE'] = survey_data['MAJOR CODE'].map({\n",
    "    'BUAD': 0,\n",
    "    'CIS': 1,\n",
    "    'ACCT': 2,\n",
    "    'OTHER': 3\n",
    "})\n",
    "\n",
    "survey_data['GENDER'] = survey_data['GENDER'].map({\n",
    "    'M': 0,\n",
    "    'F': 1\n",
    "})\n",
    "\n",
    "survey_data['ETHNICITY GROUP'] = survey_data['ETHNICITY GROUP'].map({\n",
    "    'White': 0,\n",
    "    'African American': 1,\n",
    "    'Other': 2\n",
    "})\n",
    "\n",
    "survey_data['CLASS GROUP'] = survey_data['CLASS GROUP'].map({\n",
    "    'FRSO': 0,\n",
    "    'JRSR': 1,\n",
    "})\n",
    "\n",
    "survey_data['COVID'] = survey_data['COVID'].map({\n",
    "    'PRECOVID': 0,\n",
    "    'COVID': 1,\n",
    "    'POSTCOVID': 2\n",
    "})\n",
    "X = survey_data[['MAJOR CODE', 'GENDER', 'ETHNICITY GROUP', 'CLASS GROUP', 'COVID']]\n",
    "y = survey_data['NSUGPA'].apply(lambda x: 'PASS' if x >= 2 else 'NOT PASS')\n",
    "\n",
    "sc = StandardScaler()\n",
    "sc.fit(X)\n",
    "X = sc.transform(X)\n",
    "y = y.to_numpy()\n",
    "\n",
    "from sklearn.model_selection import train_test_split\n",
    "X_train, X_test, y_train, y_test = train_test_split(X, y, test_size=0.3, random_state=0)"
   ]
  },
  {
   "cell_type": "code",
   "execution_count": 7,
   "id": "b75fb78c",
   "metadata": {},
   "outputs": [],
   "source": [
    "clf = tree.DecisionTreeClassifier()\n",
    "clf = clf.fit(X_train, y_train)"
   ]
  },
  {
   "cell_type": "code",
   "execution_count": 9,
   "id": "6d450a9f",
   "metadata": {},
   "outputs": [
    {
     "name": "stdout",
     "output_type": "stream",
     "text": [
      "Train - Accuracy : 0.7985347985347986\n",
      "Train - Confusion matrix : [[ 56  73]\n",
      " [ 37 380]]\n",
      "Train - classification report :               precision    recall  f1-score   support\n",
      "\n",
      "    NOT PASS       0.60      0.43      0.50       129\n",
      "        PASS       0.84      0.91      0.87       417\n",
      "\n",
      "    accuracy                           0.80       546\n",
      "   macro avg       0.72      0.67      0.69       546\n",
      "weighted avg       0.78      0.80      0.79       546\n",
      "\n",
      "Test - Accuracy : 0.774468085106383\n",
      "Test - Confusion matrix : [[ 23  31]\n",
      " [ 22 159]]\n",
      "Test - classification report :               precision    recall  f1-score   support\n",
      "\n",
      "    NOT PASS       0.51      0.43      0.46        54\n",
      "        PASS       0.84      0.88      0.86       181\n",
      "\n",
      "    accuracy                           0.77       235\n",
      "   macro avg       0.67      0.65      0.66       235\n",
      "weighted avg       0.76      0.77      0.77       235\n",
      "\n"
     ]
    }
   ],
   "source": [
    "# generate evaluation metrics\n",
    "print(\"Train - Accuracy :\", metrics.accuracy_score(y_train, clf.predict(X_train)))\n",
    "print(\"Train - Confusion matrix :\",metrics.confusion_matrix(y_train, clf.predict(X_train)))\n",
    "print(\"Train - classification report :\", metrics.classification_report(y_train, clf.predict(X_train)))\n",
    "\n",
    "print(\"Test - Accuracy :\", metrics.accuracy_score(y_test, clf.predict(X_test)))\n",
    "print(\"Test - Confusion matrix :\",metrics.confusion_matrix(y_test, clf.predict(X_test)))\n",
    "print(\"Test - classification report :\", metrics.classification_report(y_test, clf.predict(X_test)))"
   ]
  },
  {
   "cell_type": "code",
   "execution_count": null,
   "id": "a9e72f9c",
   "metadata": {},
   "outputs": [],
   "source": []
  }
 ],
 "metadata": {
  "kernelspec": {
   "display_name": "Python 3 (ipykernel)",
   "language": "python",
   "name": "python3"
  },
  "language_info": {
   "codemirror_mode": {
    "name": "ipython",
    "version": 3
   },
   "file_extension": ".py",
   "mimetype": "text/x-python",
   "name": "python",
   "nbconvert_exporter": "python",
   "pygments_lexer": "ipython3",
   "version": "3.11.5"
  }
 },
 "nbformat": 4,
 "nbformat_minor": 5
}
